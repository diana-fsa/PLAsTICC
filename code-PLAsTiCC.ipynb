{
 "cells": [
  {
   "cell_type": "markdown",
   "metadata": {},
   "source": [
    "# PLAsTICC: Astronomic Classification"
   ]
  },
  {
   "cell_type": "markdown",
   "metadata": {},
   "source": [
    "This jupyter notebook was a project created by [@diana-fsa](https://github.com/diana-fsa)(github) at fourth year of college in 2022."
   ]
  },
  {
   "cell_type": "code",
   "execution_count": 46,
   "metadata": {},
   "outputs": [],
   "source": [
    "import pandas as pd\n",
    "import seaborn as sns\n",
    "sns.set_theme()\n",
    "%matplotlib inline\n",
    "from tqdm import tqdm\n",
    "import numpy as np\n",
    "import torch\n",
    "import random\n",
    "from tsfresh import extract_features\n",
    "from tsfresh import feature_selection\n",
    "from torch import nn"
   ]
  },
  {
   "cell_type": "markdown",
   "metadata": {},
   "source": [
    "### Import data"
   ]
  },
  {
   "cell_type": "code",
   "execution_count": 66,
   "metadata": {},
   "outputs": [],
   "source": [
    "training_set = pd.read_csv('./data/training_set.csv')\n",
    "training_set_metadata = pd.read_csv('./data/training_set_metadata.csv')\n",
    "extracted_features = pd.read_csv('./extracted_features.csv')"
   ]
  },
  {
   "cell_type": "code",
   "execution_count": 3,
   "metadata": {},
   "outputs": [
    {
     "data": {
      "text/html": [
       "<div>\n",
       "<style scoped>\n",
       "    .dataframe tbody tr th:only-of-type {\n",
       "        vertical-align: middle;\n",
       "    }\n",
       "\n",
       "    .dataframe tbody tr th {\n",
       "        vertical-align: top;\n",
       "    }\n",
       "\n",
       "    .dataframe thead th {\n",
       "        text-align: right;\n",
       "    }\n",
       "</style>\n",
       "<table border=\"1\" class=\"dataframe\">\n",
       "  <thead>\n",
       "    <tr style=\"text-align: right;\">\n",
       "      <th></th>\n",
       "      <th>object_id</th>\n",
       "      <th>mjd</th>\n",
       "      <th>passband</th>\n",
       "      <th>flux</th>\n",
       "      <th>flux_err</th>\n",
       "      <th>detected</th>\n",
       "    </tr>\n",
       "  </thead>\n",
       "  <tbody>\n",
       "    <tr>\n",
       "      <th>0</th>\n",
       "      <td>615</td>\n",
       "      <td>59750.4229</td>\n",
       "      <td>2</td>\n",
       "      <td>-544.810303</td>\n",
       "      <td>3.622952</td>\n",
       "      <td>1</td>\n",
       "    </tr>\n",
       "    <tr>\n",
       "      <th>1</th>\n",
       "      <td>615</td>\n",
       "      <td>59750.4306</td>\n",
       "      <td>1</td>\n",
       "      <td>-816.434326</td>\n",
       "      <td>5.553370</td>\n",
       "      <td>1</td>\n",
       "    </tr>\n",
       "    <tr>\n",
       "      <th>2</th>\n",
       "      <td>615</td>\n",
       "      <td>59750.4383</td>\n",
       "      <td>3</td>\n",
       "      <td>-471.385529</td>\n",
       "      <td>3.801213</td>\n",
       "      <td>1</td>\n",
       "    </tr>\n",
       "    <tr>\n",
       "      <th>3</th>\n",
       "      <td>615</td>\n",
       "      <td>59750.4450</td>\n",
       "      <td>4</td>\n",
       "      <td>-388.984985</td>\n",
       "      <td>11.395031</td>\n",
       "      <td>1</td>\n",
       "    </tr>\n",
       "    <tr>\n",
       "      <th>4</th>\n",
       "      <td>615</td>\n",
       "      <td>59752.4070</td>\n",
       "      <td>2</td>\n",
       "      <td>-681.858887</td>\n",
       "      <td>4.041204</td>\n",
       "      <td>1</td>\n",
       "    </tr>\n",
       "    <tr>\n",
       "      <th>...</th>\n",
       "      <td>...</td>\n",
       "      <td>...</td>\n",
       "      <td>...</td>\n",
       "      <td>...</td>\n",
       "      <td>...</td>\n",
       "      <td>...</td>\n",
       "    </tr>\n",
       "    <tr>\n",
       "      <th>1421700</th>\n",
       "      <td>130779836</td>\n",
       "      <td>60555.9838</td>\n",
       "      <td>4</td>\n",
       "      <td>-39.881969</td>\n",
       "      <td>46.477093</td>\n",
       "      <td>0</td>\n",
       "    </tr>\n",
       "    <tr>\n",
       "      <th>1421701</th>\n",
       "      <td>130779836</td>\n",
       "      <td>60560.0459</td>\n",
       "      <td>1</td>\n",
       "      <td>14.894439</td>\n",
       "      <td>18.947685</td>\n",
       "      <td>0</td>\n",
       "    </tr>\n",
       "    <tr>\n",
       "      <th>1421702</th>\n",
       "      <td>130779836</td>\n",
       "      <td>60571.0225</td>\n",
       "      <td>5</td>\n",
       "      <td>30.593130</td>\n",
       "      <td>50.695290</td>\n",
       "      <td>0</td>\n",
       "    </tr>\n",
       "    <tr>\n",
       "      <th>1421703</th>\n",
       "      <td>130779836</td>\n",
       "      <td>60585.9974</td>\n",
       "      <td>4</td>\n",
       "      <td>-23.471439</td>\n",
       "      <td>44.819859</td>\n",
       "      <td>0</td>\n",
       "    </tr>\n",
       "    <tr>\n",
       "      <th>1421704</th>\n",
       "      <td>130779836</td>\n",
       "      <td>60588.0372</td>\n",
       "      <td>0</td>\n",
       "      <td>-41.214264</td>\n",
       "      <td>51.665123</td>\n",
       "      <td>0</td>\n",
       "    </tr>\n",
       "  </tbody>\n",
       "</table>\n",
       "<p>1421705 rows × 6 columns</p>\n",
       "</div>"
      ],
      "text/plain": [
       "         object_id         mjd  passband        flux   flux_err  detected\n",
       "0              615  59750.4229         2 -544.810303   3.622952         1\n",
       "1              615  59750.4306         1 -816.434326   5.553370         1\n",
       "2              615  59750.4383         3 -471.385529   3.801213         1\n",
       "3              615  59750.4450         4 -388.984985  11.395031         1\n",
       "4              615  59752.4070         2 -681.858887   4.041204         1\n",
       "...            ...         ...       ...         ...        ...       ...\n",
       "1421700  130779836  60555.9838         4  -39.881969  46.477093         0\n",
       "1421701  130779836  60560.0459         1   14.894439  18.947685         0\n",
       "1421702  130779836  60571.0225         5   30.593130  50.695290         0\n",
       "1421703  130779836  60585.9974         4  -23.471439  44.819859         0\n",
       "1421704  130779836  60588.0372         0  -41.214264  51.665123         0\n",
       "\n",
       "[1421705 rows x 6 columns]"
      ]
     },
     "execution_count": 3,
     "metadata": {},
     "output_type": "execute_result"
    }
   ],
   "source": [
    "training_set"
   ]
  },
  {
   "cell_type": "code",
   "execution_count": 4,
   "metadata": {},
   "outputs": [
    {
     "data": {
      "text/html": [
       "<div>\n",
       "<style scoped>\n",
       "    .dataframe tbody tr th:only-of-type {\n",
       "        vertical-align: middle;\n",
       "    }\n",
       "\n",
       "    .dataframe tbody tr th {\n",
       "        vertical-align: top;\n",
       "    }\n",
       "\n",
       "    .dataframe thead th {\n",
       "        text-align: right;\n",
       "    }\n",
       "</style>\n",
       "<table border=\"1\" class=\"dataframe\">\n",
       "  <thead>\n",
       "    <tr style=\"text-align: right;\">\n",
       "      <th></th>\n",
       "      <th>object_id</th>\n",
       "      <th>ra</th>\n",
       "      <th>decl</th>\n",
       "      <th>gal_l</th>\n",
       "      <th>gal_b</th>\n",
       "      <th>ddf</th>\n",
       "      <th>hostgal_specz</th>\n",
       "      <th>hostgal_photoz</th>\n",
       "      <th>hostgal_photoz_err</th>\n",
       "      <th>distmod</th>\n",
       "      <th>mwebv</th>\n",
       "      <th>target</th>\n",
       "    </tr>\n",
       "  </thead>\n",
       "  <tbody>\n",
       "    <tr>\n",
       "      <th>0</th>\n",
       "      <td>615</td>\n",
       "      <td>349.046051</td>\n",
       "      <td>-61.943836</td>\n",
       "      <td>320.796530</td>\n",
       "      <td>-51.753706</td>\n",
       "      <td>1</td>\n",
       "      <td>0.0000</td>\n",
       "      <td>0.0000</td>\n",
       "      <td>0.0000</td>\n",
       "      <td>NaN</td>\n",
       "      <td>0.017</td>\n",
       "      <td>92</td>\n",
       "    </tr>\n",
       "    <tr>\n",
       "      <th>1</th>\n",
       "      <td>713</td>\n",
       "      <td>53.085938</td>\n",
       "      <td>-27.784405</td>\n",
       "      <td>223.525509</td>\n",
       "      <td>-54.460748</td>\n",
       "      <td>1</td>\n",
       "      <td>1.8181</td>\n",
       "      <td>1.6267</td>\n",
       "      <td>0.2552</td>\n",
       "      <td>45.4063</td>\n",
       "      <td>0.007</td>\n",
       "      <td>88</td>\n",
       "    </tr>\n",
       "    <tr>\n",
       "      <th>2</th>\n",
       "      <td>730</td>\n",
       "      <td>33.574219</td>\n",
       "      <td>-6.579593</td>\n",
       "      <td>170.455585</td>\n",
       "      <td>-61.548219</td>\n",
       "      <td>1</td>\n",
       "      <td>0.2320</td>\n",
       "      <td>0.2262</td>\n",
       "      <td>0.0157</td>\n",
       "      <td>40.2561</td>\n",
       "      <td>0.021</td>\n",
       "      <td>42</td>\n",
       "    </tr>\n",
       "    <tr>\n",
       "      <th>3</th>\n",
       "      <td>745</td>\n",
       "      <td>0.189873</td>\n",
       "      <td>-45.586655</td>\n",
       "      <td>328.254458</td>\n",
       "      <td>-68.969298</td>\n",
       "      <td>1</td>\n",
       "      <td>0.3037</td>\n",
       "      <td>0.2813</td>\n",
       "      <td>1.1523</td>\n",
       "      <td>40.7951</td>\n",
       "      <td>0.007</td>\n",
       "      <td>90</td>\n",
       "    </tr>\n",
       "    <tr>\n",
       "      <th>4</th>\n",
       "      <td>1124</td>\n",
       "      <td>352.711273</td>\n",
       "      <td>-63.823658</td>\n",
       "      <td>316.922299</td>\n",
       "      <td>-51.059403</td>\n",
       "      <td>1</td>\n",
       "      <td>0.1934</td>\n",
       "      <td>0.2415</td>\n",
       "      <td>0.0176</td>\n",
       "      <td>40.4166</td>\n",
       "      <td>0.024</td>\n",
       "      <td>90</td>\n",
       "    </tr>\n",
       "    <tr>\n",
       "      <th>...</th>\n",
       "      <td>...</td>\n",
       "      <td>...</td>\n",
       "      <td>...</td>\n",
       "      <td>...</td>\n",
       "      <td>...</td>\n",
       "      <td>...</td>\n",
       "      <td>...</td>\n",
       "      <td>...</td>\n",
       "      <td>...</td>\n",
       "      <td>...</td>\n",
       "      <td>...</td>\n",
       "      <td>...</td>\n",
       "    </tr>\n",
       "    <tr>\n",
       "      <th>7843</th>\n",
       "      <td>130739978</td>\n",
       "      <td>26.718750</td>\n",
       "      <td>-14.940303</td>\n",
       "      <td>172.342697</td>\n",
       "      <td>-72.255675</td>\n",
       "      <td>0</td>\n",
       "      <td>0.0000</td>\n",
       "      <td>0.0000</td>\n",
       "      <td>0.0000</td>\n",
       "      <td>NaN</td>\n",
       "      <td>0.013</td>\n",
       "      <td>65</td>\n",
       "    </tr>\n",
       "    <tr>\n",
       "      <th>7844</th>\n",
       "      <td>130755807</td>\n",
       "      <td>120.101349</td>\n",
       "      <td>-62.696659</td>\n",
       "      <td>275.742955</td>\n",
       "      <td>-16.509746</td>\n",
       "      <td>0</td>\n",
       "      <td>0.1725</td>\n",
       "      <td>2.5606</td>\n",
       "      <td>1.1146</td>\n",
       "      <td>46.6108</td>\n",
       "      <td>0.136</td>\n",
       "      <td>90</td>\n",
       "    </tr>\n",
       "    <tr>\n",
       "      <th>7845</th>\n",
       "      <td>130762946</td>\n",
       "      <td>203.108109</td>\n",
       "      <td>-55.682144</td>\n",
       "      <td>308.728904</td>\n",
       "      <td>6.727511</td>\n",
       "      <td>0</td>\n",
       "      <td>0.0000</td>\n",
       "      <td>0.0000</td>\n",
       "      <td>0.0000</td>\n",
       "      <td>NaN</td>\n",
       "      <td>0.430</td>\n",
       "      <td>16</td>\n",
       "    </tr>\n",
       "    <tr>\n",
       "      <th>7846</th>\n",
       "      <td>130772921</td>\n",
       "      <td>79.101562</td>\n",
       "      <td>-35.501846</td>\n",
       "      <td>239.172243</td>\n",
       "      <td>-33.827844</td>\n",
       "      <td>0</td>\n",
       "      <td>0.0000</td>\n",
       "      <td>0.0000</td>\n",
       "      <td>0.0000</td>\n",
       "      <td>NaN</td>\n",
       "      <td>0.034</td>\n",
       "      <td>65</td>\n",
       "    </tr>\n",
       "    <tr>\n",
       "      <th>7847</th>\n",
       "      <td>130779836</td>\n",
       "      <td>301.992188</td>\n",
       "      <td>-17.426323</td>\n",
       "      <td>25.102988</td>\n",
       "      <td>-24.511101</td>\n",
       "      <td>0</td>\n",
       "      <td>0.0000</td>\n",
       "      <td>0.0000</td>\n",
       "      <td>0.0000</td>\n",
       "      <td>NaN</td>\n",
       "      <td>0.091</td>\n",
       "      <td>6</td>\n",
       "    </tr>\n",
       "  </tbody>\n",
       "</table>\n",
       "<p>7848 rows × 12 columns</p>\n",
       "</div>"
      ],
      "text/plain": [
       "      object_id          ra       decl       gal_l      gal_b  ddf  \\\n",
       "0           615  349.046051 -61.943836  320.796530 -51.753706    1   \n",
       "1           713   53.085938 -27.784405  223.525509 -54.460748    1   \n",
       "2           730   33.574219  -6.579593  170.455585 -61.548219    1   \n",
       "3           745    0.189873 -45.586655  328.254458 -68.969298    1   \n",
       "4          1124  352.711273 -63.823658  316.922299 -51.059403    1   \n",
       "...         ...         ...        ...         ...        ...  ...   \n",
       "7843  130739978   26.718750 -14.940303  172.342697 -72.255675    0   \n",
       "7844  130755807  120.101349 -62.696659  275.742955 -16.509746    0   \n",
       "7845  130762946  203.108109 -55.682144  308.728904   6.727511    0   \n",
       "7846  130772921   79.101562 -35.501846  239.172243 -33.827844    0   \n",
       "7847  130779836  301.992188 -17.426323   25.102988 -24.511101    0   \n",
       "\n",
       "      hostgal_specz  hostgal_photoz  hostgal_photoz_err  distmod  mwebv  \\\n",
       "0            0.0000          0.0000              0.0000      NaN  0.017   \n",
       "1            1.8181          1.6267              0.2552  45.4063  0.007   \n",
       "2            0.2320          0.2262              0.0157  40.2561  0.021   \n",
       "3            0.3037          0.2813              1.1523  40.7951  0.007   \n",
       "4            0.1934          0.2415              0.0176  40.4166  0.024   \n",
       "...             ...             ...                 ...      ...    ...   \n",
       "7843         0.0000          0.0000              0.0000      NaN  0.013   \n",
       "7844         0.1725          2.5606              1.1146  46.6108  0.136   \n",
       "7845         0.0000          0.0000              0.0000      NaN  0.430   \n",
       "7846         0.0000          0.0000              0.0000      NaN  0.034   \n",
       "7847         0.0000          0.0000              0.0000      NaN  0.091   \n",
       "\n",
       "      target  \n",
       "0         92  \n",
       "1         88  \n",
       "2         42  \n",
       "3         90  \n",
       "4         90  \n",
       "...      ...  \n",
       "7843      65  \n",
       "7844      90  \n",
       "7845      16  \n",
       "7846      65  \n",
       "7847       6  \n",
       "\n",
       "[7848 rows x 12 columns]"
      ]
     },
     "execution_count": 4,
     "metadata": {},
     "output_type": "execute_result"
    }
   ],
   "source": [
    "training_set_metadata"
   ]
  },
  {
   "cell_type": "markdown",
   "metadata": {},
   "source": [
    "### Data exploration/visualization"
   ]
  },
  {
   "cell_type": "markdown",
   "metadata": {},
   "source": [
    "#### Quick check of how many NaN data there is in both tables"
   ]
  },
  {
   "cell_type": "code",
   "execution_count": 5,
   "metadata": {},
   "outputs": [
    {
     "data": {
      "text/plain": [
       "object_id    0\n",
       "mjd          0\n",
       "passband     0\n",
       "flux         0\n",
       "flux_err     0\n",
       "detected     0\n",
       "dtype: int64"
      ]
     },
     "execution_count": 5,
     "metadata": {},
     "output_type": "execute_result"
    }
   ],
   "source": [
    "training_set.isnull().sum(axis = 0)"
   ]
  },
  {
   "cell_type": "markdown",
   "metadata": {},
   "source": [
    "In the training_set table we don't have that issue."
   ]
  },
  {
   "cell_type": "code",
   "execution_count": 6,
   "metadata": {},
   "outputs": [
    {
     "data": {
      "text/plain": [
       "object_id                0\n",
       "ra                       0\n",
       "decl                     0\n",
       "gal_l                    0\n",
       "gal_b                    0\n",
       "ddf                      0\n",
       "hostgal_specz            0\n",
       "hostgal_photoz           0\n",
       "hostgal_photoz_err       0\n",
       "distmod               2325\n",
       "mwebv                    0\n",
       "target                   0\n",
       "dtype: int64"
      ]
     },
     "execution_count": 6,
     "metadata": {},
     "output_type": "execute_result"
    }
   ],
   "source": [
    "training_set_metadata.isnull().sum(axis = 0)"
   ]
  },
  {
   "cell_type": "code",
   "execution_count": 7,
   "metadata": {},
   "outputs": [
    {
     "data": {
      "text/plain": [
       "29.62538226299694"
      ]
     },
     "execution_count": 7,
     "metadata": {},
     "output_type": "execute_result"
    }
   ],
   "source": [
    "(training_set_metadata[\"distmod\"].isnull().sum(axis = 0)/ len(training_set_metadata))*100"
   ]
  },
  {
   "cell_type": "markdown",
   "metadata": {},
   "source": [
    "On the other side, the training_set_metadata table has one column or feature with a lot of NaNs. \"distmod\" is almost a 30% without data.\n",
    "\n",
    "#TO_DO: What is distmod"
   ]
  },
  {
   "cell_type": "markdown",
   "metadata": {},
   "source": [
    "#### Visualization of the classes and its size"
   ]
  },
  {
   "cell_type": "code",
   "execution_count": 8,
   "metadata": {},
   "outputs": [
    {
     "name": "stdout",
     "output_type": "stream",
     "text": [
      "Total targets:  14\n",
      "Int64Index([90, 42, 65, 16, 15, 62, 88, 92, 67, 52, 95, 6, 64, 53], dtype='int64')\n",
      "[2313 1193  981  924  495  484  370  239  208  183  175  151  102   30]\n"
     ]
    }
   ],
   "source": [
    "classes = training_set_metadata['target'].value_counts().index\n",
    "classes_values = training_set_metadata['target'].value_counts().values\n",
    "print(\"Total targets: \", len(classes))\n",
    "print(classes)\n",
    "print(classes_values)"
   ]
  },
  {
   "cell_type": "markdown",
   "metadata": {},
   "source": [
    "There are a total of 14 classes or targets"
   ]
  },
  {
   "cell_type": "code",
   "execution_count": 9,
   "metadata": {},
   "outputs": [
    {
     "data": {
      "text/plain": [
       "<AxesSubplot:xlabel='target', ylabel='count'>"
      ]
     },
     "execution_count": 9,
     "metadata": {},
     "output_type": "execute_result"
    },
    {
     "data": {
      "image/png": "[encoded data removed]",
      "text/plain": [
       "<Figure size 432x288 with 1 Axes>"
      ]
     },
     "metadata": {
      "needs_background": "light"
     },
     "output_type": "display_data"
    }
   ],
   "source": [
    "sns.countplot(x='target', data=training_set_metadata)\n"
   ]
  },
  {
   "cell_type": "markdown",
   "metadata": {},
   "source": [
    "As we can see there are some classes that have a lot of elements and other classes that don't have a lot of data. The target 90 is the one that has more with 2313 elements. And 53 is the class with less elements, with a total of 30."
   ]
  },
  {
   "cell_type": "code",
   "execution_count": 10,
   "metadata": {},
   "outputs": [
    {
     "name": "stdout",
     "output_type": "stream",
     "text": [
      "Int64Index([0, 2, 1, 3, 4, 5], dtype='int64')\n",
      "[63 58 58 58 58 57]\n"
     ]
    }
   ],
   "source": [
    "subset = training_set[training_set['object_id']==615]\n",
    "\n",
    "passbands = subset['passband'].value_counts().index\n",
    "classes_values = subset['passband'].value_counts().values\n",
    "print(passbands)\n",
    "print(classes_values)"
   ]
  },
  {
   "cell_type": "code",
   "execution_count": 11,
   "metadata": {},
   "outputs": [],
   "source": [
    "pbmap = {0:'u', 1:'g', 2:'r', 3:'i', 4:'z', 5:'y'}\n",
    "\n",
    "# it also helps to have passbands associated with a color\n",
    "pbcols = {0:'blueviolet', 1:'green', 2:'red',3:'orange', 4:'black', 5:'brown'}\n",
    "\n",
    "pbnames = list(pbmap.values())\n",
    "passbands = list(pbmap.keys())"
   ]
  },
  {
   "cell_type": "markdown",
   "metadata": {},
   "source": [
    "#### Data preparation"
   ]
  },
  {
   "cell_type": "code",
   "execution_count": 12,
   "metadata": {},
   "outputs": [],
   "source": [
    "training_set = training_set.set_index('object_id')\n",
    "training_set_metadata = training_set_metadata.set_index('object_id')"
   ]
  },
  {
   "cell_type": "code",
   "execution_count": 13,
   "metadata": {},
   "outputs": [
    {
     "name": "stderr",
     "output_type": "stream",
     "text": [
      "100%|██████████| 6/6 [00:04<00:00,  1.26it/s]\n"
     ]
    }
   ],
   "source": [
    "ids = training_set.index.value_counts().index\n",
    "train_data = pd.DataFrame(ids, columns=[\"object_id\"])\n",
    "targets = []\n",
    "for pb in tqdm(passbands):\n",
    "    fluxos = []\n",
    "    subset = training_set[training_set['passband']==pb]\n",
    "    for Id in ids:\n",
    "        fluxos.append(subset['flux'][Id].to_list())\n",
    "        if pb==0:\n",
    "            targets.append(training_set_metadata['target'][Id])\n",
    "    train_data[pbmap[pb]] = fluxos\n",
    "train_data['target'] = targets"
   ]
  },
  {
   "cell_type": "code",
   "execution_count": 14,
   "metadata": {
    "scrolled": false
   },
   "outputs": [
    {
     "data": {
      "text/html": [
       "<div>\n",
       "<style scoped>\n",
       "    .dataframe tbody tr th:only-of-type {\n",
       "        vertical-align: middle;\n",
       "    }\n",
       "\n",
       "    .dataframe tbody tr th {\n",
       "        vertical-align: top;\n",
       "    }\n",
       "\n",
       "    .dataframe thead th {\n",
       "        text-align: right;\n",
       "    }\n",
       "</style>\n",
       "<table border=\"1\" class=\"dataframe\">\n",
       "  <thead>\n",
       "    <tr style=\"text-align: right;\">\n",
       "      <th></th>\n",
       "      <th>object_id</th>\n",
       "      <th>u</th>\n",
       "      <th>g</th>\n",
       "      <th>r</th>\n",
       "      <th>i</th>\n",
       "      <th>z</th>\n",
       "      <th>y</th>\n",
       "      <th>target</th>\n",
       "    </tr>\n",
       "  </thead>\n",
       "  <tbody>\n",
       "    <tr>\n",
       "      <th>0</th>\n",
       "      <td>615</td>\n",
       "      <td>[6.878784, 39.364853, -10.422381, -65.48513, -...</td>\n",
       "      <td>[-816.434326, -1061.457031, -815.188599, -820....</td>\n",
       "      <td>[-544.810303, -681.858887, -548.01355, -554.90...</td>\n",
       "      <td>[-471.385529, -524.95459, -475.516052, -477.00...</td>\n",
       "      <td>[-388.984985, -393.480225, -405.663818, -400.2...</td>\n",
       "      <td>[-355.88678, -421.199066, -415.286896, -422.81...</td>\n",
       "      <td>92</td>\n",
       "    </tr>\n",
       "    <tr>\n",
       "      <th>1</th>\n",
       "      <td>173059</td>\n",
       "      <td>[-0.39187, 0.603427, 0.610694, -2.457228, -3.0...</td>\n",
       "      <td>[1.017174, 0.448582, 0.960755, -0.498255, -0.3...</td>\n",
       "      <td>[0.717085, -0.611219, 0.466379, 0.638848, 3.97...</td>\n",
       "      <td>[-1.103525, 2.375255, 0.336396, -1.217879, 2.2...</td>\n",
       "      <td>[-8.789351, -0.195498, -2.106559, 0.693419, 3....</td>\n",
       "      <td>[3.048188, -1.620498, 5.735075, 9.87141, -3.07...</td>\n",
       "      <td>90</td>\n",
       "    </tr>\n",
       "    <tr>\n",
       "      <th>2</th>\n",
       "      <td>167417</td>\n",
       "      <td>[0.438574, -1.404275, 1.299085, 6.458389, -0.4...</td>\n",
       "      <td>[-3.282869, -0.75229, -1.19442, 1.85398, 7.378...</td>\n",
       "      <td>[-0.482153, 0.817074, -0.399877, 0.030646, 0.7...</td>\n",
       "      <td>[-1.769702, 0.002686, -0.306619, 0.170198, -4....</td>\n",
       "      <td>[20.813986, -2.2953, -1.139139, 1.512145, 0.19...</td>\n",
       "      <td>[-1.420491, 5.658321, -1.931078, 0.446385, -8....</td>\n",
       "      <td>90</td>\n",
       "    </tr>\n",
       "    <tr>\n",
       "      <th>3</th>\n",
       "      <td>167436</td>\n",
       "      <td>[1.987344, 1.336312, 8.299458, 1.743594, 2.512...</td>\n",
       "      <td>[-3.669189, -0.610654, 0.61584, -6.19931, -4.2...</td>\n",
       "      <td>[-1.706974, -0.250367, 1.561528, 1.64785, -0.1...</td>\n",
       "      <td>[0.656871, -0.851225, -0.019419, -0.417339, 2....</td>\n",
       "      <td>[0.117346, -0.464868, -0.307112, -6.927296, -1...</td>\n",
       "      <td>[1.587195, 5.164978, -1.453949, 8.010317, 3.30...</td>\n",
       "      <td>90</td>\n",
       "    </tr>\n",
       "    <tr>\n",
       "      <th>4</th>\n",
       "      <td>167488</td>\n",
       "      <td>[0.519336, -0.815361, 0.271095, -0.319268, -0....</td>\n",
       "      <td>[-1.212814, -0.56573, 0.185286, 3.508145, 3.32...</td>\n",
       "      <td>[1.736552, 1.874298, -0.175197, -0.30032, 2.21...</td>\n",
       "      <td>[2.316693, -1.765833, 0.599003, -0.953834, -3....</td>\n",
       "      <td>[5.903067, -0.627545, 1.038317, -2.137084, 6.1...</td>\n",
       "      <td>[-10.079162, 1.653859, -2.837296, -3.443591, 5...</td>\n",
       "      <td>90</td>\n",
       "    </tr>\n",
       "    <tr>\n",
       "      <th>...</th>\n",
       "      <td>...</td>\n",
       "      <td>...</td>\n",
       "      <td>...</td>\n",
       "      <td>...</td>\n",
       "      <td>...</td>\n",
       "      <td>...</td>\n",
       "      <td>...</td>\n",
       "      <td>...</td>\n",
       "    </tr>\n",
       "    <tr>\n",
       "      <th>7843</th>\n",
       "      <td>100413487</td>\n",
       "      <td>[32.56554, 38.11459, -64.527847, -13.302895, -...</td>\n",
       "      <td>[38.859097, 32.882523, 24.454559, 24.434652, 2...</td>\n",
       "      <td>[14.106787, 25.025362, 19.577394, 28.082775, 3...</td>\n",
       "      <td>[-33.979992, 13.473109, 14.539824, 28.173706, ...</td>\n",
       "      <td>[-6.097461, -46.182285, 15.366582, 6.182258, 2...</td>\n",
       "      <td>[-24.870806, -4.035016, -33.343613, 22.689709,...</td>\n",
       "      <td>16</td>\n",
       "    </tr>\n",
       "    <tr>\n",
       "      <th>7844</th>\n",
       "      <td>68643457</td>\n",
       "      <td>[-27.606262, 16.183664, 4.57474, 51.694954, 51...</td>\n",
       "      <td>[-4.96919, 4.666487, 1.415998, 1.582711]</td>\n",
       "      <td>[3.256188, -6.834228, 2.318946, -3.678753, -3....</td>\n",
       "      <td>[55.160851, -1.896123, -10.603094, 1289.137207...</td>\n",
       "      <td>[41.255001, 29.819336, 27.069757, -17.326483, ...</td>\n",
       "      <td>[-1.690391, 40.411282, 75.120895, 7.285213, 0....</td>\n",
       "      <td>90</td>\n",
       "    </tr>\n",
       "    <tr>\n",
       "      <th>7845</th>\n",
       "      <td>119353712</td>\n",
       "      <td>[935.758484, 30.302742, -388.348907, 140.056, ...</td>\n",
       "      <td>[-4297.536621, 9265.561523, -4938.881348, 5108...</td>\n",
       "      <td>[-2618.585449, -1804.182007, 5116.262695, -478...</td>\n",
       "      <td>[-3561.2854, 6946.195312, -3913.899414, -971.2...</td>\n",
       "      <td>[-168.197342, -1891.615723, 2371.112793, -3939...</td>\n",
       "      <td>[-2851.245361, 6155.778809, -4959.649902, 1946...</td>\n",
       "      <td>92</td>\n",
       "    </tr>\n",
       "    <tr>\n",
       "      <th>7846</th>\n",
       "      <td>86237249</td>\n",
       "      <td>[-199.904312, 8.472673, -91.719788, 169.568848...</td>\n",
       "      <td>[-24.659794, -0.144551, 13.509278, -1.596434, ...</td>\n",
       "      <td>[-5.585778, 15.475435, 25.84514, 2.627688, 143...</td>\n",
       "      <td>[9.24447, 193.779495, 81.081535, 47.396507, 10...</td>\n",
       "      <td>[-4.876873, -38.389866, -75.292038, 31.974199,...</td>\n",
       "      <td>[39.217594, 44.226509, -21.087267, -33.445827,...</td>\n",
       "      <td>42</td>\n",
       "    </tr>\n",
       "    <tr>\n",
       "      <th>7847</th>\n",
       "      <td>49575267</td>\n",
       "      <td>[-6.521814, 0.357749, -4.986896, -25.606651, 1...</td>\n",
       "      <td>[-0.894229, -2.315433, 0.013143, 3.584919]</td>\n",
       "      <td>[6.618899, 1.429261, -33.169762, -7.953466, 50...</td>\n",
       "      <td>[4.678938, -1.211704, -0.507882, 72.051125, 29...</td>\n",
       "      <td>[0.654342, -9.270016, -8.708591, -29.291319, -...</td>\n",
       "      <td>[-39.814754, 34.43137, 43.774132, 7.835096, -1...</td>\n",
       "      <td>90</td>\n",
       "    </tr>\n",
       "  </tbody>\n",
       "</table>\n",
       "<p>7848 rows × 8 columns</p>\n",
       "</div>"
      ],
      "text/plain": [
       "      object_id                                                  u  \\\n",
       "0           615  [6.878784, 39.364853, -10.422381, -65.48513, -...   \n",
       "1        173059  [-0.39187, 0.603427, 0.610694, -2.457228, -3.0...   \n",
       "2        167417  [0.438574, -1.404275, 1.299085, 6.458389, -0.4...   \n",
       "3        167436  [1.987344, 1.336312, 8.299458, 1.743594, 2.512...   \n",
       "4        167488  [0.519336, -0.815361, 0.271095, -0.319268, -0....   \n",
       "...         ...                                                ...   \n",
       "7843  100413487  [32.56554, 38.11459, -64.527847, -13.302895, -...   \n",
       "7844   68643457  [-27.606262, 16.183664, 4.57474, 51.694954, 51...   \n",
       "7845  119353712  [935.758484, 30.302742, -388.348907, 140.056, ...   \n",
       "7846   86237249  [-199.904312, 8.472673, -91.719788, 169.568848...   \n",
       "7847   49575267  [-6.521814, 0.357749, -4.986896, -25.606651, 1...   \n",
       "\n",
       "                                                      g  \\\n",
       "0     [-816.434326, -1061.457031, -815.188599, -820....   \n",
       "1     [1.017174, 0.448582, 0.960755, -0.498255, -0.3...   \n",
       "2     [-3.282869, -0.75229, -1.19442, 1.85398, 7.378...   \n",
       "3     [-3.669189, -0.610654, 0.61584, -6.19931, -4.2...   \n",
       "4     [-1.212814, -0.56573, 0.185286, 3.508145, 3.32...   \n",
       "...                                                 ...   \n",
       "7843  [38.859097, 32.882523, 24.454559, 24.434652, 2...   \n",
       "7844           [-4.96919, 4.666487, 1.415998, 1.582711]   \n",
       "7845  [-4297.536621, 9265.561523, -4938.881348, 5108...   \n",
       "7846  [-24.659794, -0.144551, 13.509278, -1.596434, ...   \n",
       "7847         [-0.894229, -2.315433, 0.013143, 3.584919]   \n",
       "\n",
       "                                                      r  \\\n",
       "0     [-544.810303, -681.858887, -548.01355, -554.90...   \n",
       "1     [0.717085, -0.611219, 0.466379, 0.638848, 3.97...   \n",
       "2     [-0.482153, 0.817074, -0.399877, 0.030646, 0.7...   \n",
       "3     [-1.706974, -0.250367, 1.561528, 1.64785, -0.1...   \n",
       "4     [1.736552, 1.874298, -0.175197, -0.30032, 2.21...   \n",
       "...                                                 ...   \n",
       "7843  [14.106787, 25.025362, 19.577394, 28.082775, 3...   \n",
       "7844  [3.256188, -6.834228, 2.318946, -3.678753, -3....   \n",
       "7845  [-2618.585449, -1804.182007, 5116.262695, -478...   \n",
       "7846  [-5.585778, 15.475435, 25.84514, 2.627688, 143...   \n",
       "7847  [6.618899, 1.429261, -33.169762, -7.953466, 50...   \n",
       "\n",
       "                                                      i  \\\n",
       "0     [-471.385529, -524.95459, -475.516052, -477.00...   \n",
       "1     [-1.103525, 2.375255, 0.336396, -1.217879, 2.2...   \n",
       "2     [-1.769702, 0.002686, -0.306619, 0.170198, -4....   \n",
       "3     [0.656871, -0.851225, -0.019419, -0.417339, 2....   \n",
       "4     [2.316693, -1.765833, 0.599003, -0.953834, -3....   \n",
       "...                                                 ...   \n",
       "7843  [-33.979992, 13.473109, 14.539824, 28.173706, ...   \n",
       "7844  [55.160851, -1.896123, -10.603094, 1289.137207...   \n",
       "7845  [-3561.2854, 6946.195312, -3913.899414, -971.2...   \n",
       "7846  [9.24447, 193.779495, 81.081535, 47.396507, 10...   \n",
       "7847  [4.678938, -1.211704, -0.507882, 72.051125, 29...   \n",
       "\n",
       "                                                      z  \\\n",
       "0     [-388.984985, -393.480225, -405.663818, -400.2...   \n",
       "1     [-8.789351, -0.195498, -2.106559, 0.693419, 3....   \n",
       "2     [20.813986, -2.2953, -1.139139, 1.512145, 0.19...   \n",
       "3     [0.117346, -0.464868, -0.307112, -6.927296, -1...   \n",
       "4     [5.903067, -0.627545, 1.038317, -2.137084, 6.1...   \n",
       "...                                                 ...   \n",
       "7843  [-6.097461, -46.182285, 15.366582, 6.182258, 2...   \n",
       "7844  [41.255001, 29.819336, 27.069757, -17.326483, ...   \n",
       "7845  [-168.197342, -1891.615723, 2371.112793, -3939...   \n",
       "7846  [-4.876873, -38.389866, -75.292038, 31.974199,...   \n",
       "7847  [0.654342, -9.270016, -8.708591, -29.291319, -...   \n",
       "\n",
       "                                                      y  target  \n",
       "0     [-355.88678, -421.199066, -415.286896, -422.81...      92  \n",
       "1     [3.048188, -1.620498, 5.735075, 9.87141, -3.07...      90  \n",
       "2     [-1.420491, 5.658321, -1.931078, 0.446385, -8....      90  \n",
       "3     [1.587195, 5.164978, -1.453949, 8.010317, 3.30...      90  \n",
       "4     [-10.079162, 1.653859, -2.837296, -3.443591, 5...      90  \n",
       "...                                                 ...     ...  \n",
       "7843  [-24.870806, -4.035016, -33.343613, 22.689709,...      16  \n",
       "7844  [-1.690391, 40.411282, 75.120895, 7.285213, 0....      90  \n",
       "7845  [-2851.245361, 6155.778809, -4959.649902, 1946...      92  \n",
       "7846  [39.217594, 44.226509, -21.087267, -33.445827,...      42  \n",
       "7847  [-39.814754, 34.43137, 43.774132, 7.835096, -1...      90  \n",
       "\n",
       "[7848 rows x 8 columns]"
      ]
     },
     "execution_count": 14,
     "metadata": {},
     "output_type": "execute_result"
    }
   ],
   "source": [
    "train_data"
   ]
  },
  {
   "cell_type": "code",
   "execution_count": 15,
   "metadata": {},
   "outputs": [
    {
     "name": "stderr",
     "output_type": "stream",
     "text": [
      "100%|██████████| 6/6 [00:05<00:00,  1.15it/s]\n"
     ]
    }
   ],
   "source": [
    "ids = training_set.index.value_counts().index\n",
    "train_data_time = pd.DataFrame(ids, columns=[\"object_id\"])\n",
    "targets = []\n",
    "for pb in tqdm(passbands):\n",
    "    times = []\n",
    "    subset = training_set[training_set['passband']==pb]\n",
    "    for Id in ids:\n",
    "        times.append(subset['mjd'][Id].to_list())\n",
    "        if pb==0:\n",
    "            targets.append(training_set_metadata['target'][Id])\n",
    "    train_data_time[pbmap[pb]] = times\n",
    "train_data_time['target'] = targets"
   ]
  },
  {
   "cell_type": "code",
   "execution_count": 16,
   "metadata": {},
   "outputs": [
    {
     "data": {
      "text/html": [
       "<div>\n",
       "<style scoped>\n",
       "    .dataframe tbody tr th:only-of-type {\n",
       "        vertical-align: middle;\n",
       "    }\n",
       "\n",
       "    .dataframe tbody tr th {\n",
       "        vertical-align: top;\n",
       "    }\n",
       "\n",
       "    .dataframe thead th {\n",
       "        text-align: right;\n",
       "    }\n",
       "</style>\n",
       "<table border=\"1\" class=\"dataframe\">\n",
       "  <thead>\n",
       "    <tr style=\"text-align: right;\">\n",
       "      <th></th>\n",
       "      <th>object_id</th>\n",
       "      <th>u</th>\n",
       "      <th>g</th>\n",
       "      <th>r</th>\n",
       "      <th>i</th>\n",
       "      <th>z</th>\n",
       "      <th>y</th>\n",
       "      <th>target</th>\n",
       "    </tr>\n",
       "  </thead>\n",
       "  <tbody>\n",
       "    <tr>\n",
       "      <th>0</th>\n",
       "      <td>615</td>\n",
       "      <td>[59819.1532, 59820.1047, 59821.1026, 59822.110...</td>\n",
       "      <td>[59750.4306, 59752.4147, 59767.3045, 59770.225...</td>\n",
       "      <td>[59750.4229, 59752.407, 59767.2968, 59770.2179...</td>\n",
       "      <td>[59750.4383, 59752.4224, 59767.3122, 59770.233...</td>\n",
       "      <td>[59750.445, 59752.4334, 59767.3233, 59770.2445...</td>\n",
       "      <td>[59752.4435, 59767.3343, 59770.2557, 59779.356...</td>\n",
       "      <td>92</td>\n",
       "    </tr>\n",
       "    <tr>\n",
       "      <th>1</th>\n",
       "      <td>173059</td>\n",
       "      <td>[59819.1532, 59820.1047, 59821.1026, 59822.110...</td>\n",
       "      <td>[59750.4306, 59752.4147, 59767.3045, 59770.225...</td>\n",
       "      <td>[59750.4229, 59752.407, 59767.2968, 59770.2179...</td>\n",
       "      <td>[59750.4383, 59752.4224, 59767.3122, 59770.233...</td>\n",
       "      <td>[59750.445, 59752.4334, 59767.3233, 59770.2445...</td>\n",
       "      <td>[59752.4435, 59767.3343, 59770.2557, 59779.356...</td>\n",
       "      <td>90</td>\n",
       "    </tr>\n",
       "    <tr>\n",
       "      <th>2</th>\n",
       "      <td>167417</td>\n",
       "      <td>[59819.1532, 59820.1047, 59821.1026, 59822.110...</td>\n",
       "      <td>[59750.4306, 59752.4147, 59767.3045, 59770.225...</td>\n",
       "      <td>[59750.4229, 59752.407, 59767.2968, 59770.2179...</td>\n",
       "      <td>[59750.4383, 59752.4224, 59767.3122, 59770.233...</td>\n",
       "      <td>[59750.445, 59752.4334, 59767.3233, 59770.2445...</td>\n",
       "      <td>[59752.4435, 59767.3343, 59770.2557, 59779.356...</td>\n",
       "      <td>90</td>\n",
       "    </tr>\n",
       "    <tr>\n",
       "      <th>3</th>\n",
       "      <td>167436</td>\n",
       "      <td>[59819.1532, 59820.1047, 59821.1026, 59822.110...</td>\n",
       "      <td>[59750.4306, 59752.4147, 59767.3045, 59770.225...</td>\n",
       "      <td>[59750.4229, 59752.407, 59767.2968, 59770.2179...</td>\n",
       "      <td>[59750.4383, 59752.4224, 59767.3122, 59770.233...</td>\n",
       "      <td>[59750.445, 59752.4334, 59767.3233, 59770.2445...</td>\n",
       "      <td>[59752.4435, 59767.3343, 59770.2557, 59779.356...</td>\n",
       "      <td>90</td>\n",
       "    </tr>\n",
       "    <tr>\n",
       "      <th>4</th>\n",
       "      <td>167488</td>\n",
       "      <td>[59819.1532, 59820.1047, 59821.1026, 59822.110...</td>\n",
       "      <td>[59750.4306, 59752.4147, 59767.3045, 59770.225...</td>\n",
       "      <td>[59750.4229, 59752.407, 59767.2968, 59770.2179...</td>\n",
       "      <td>[59750.4383, 59752.4224, 59767.3122, 59770.233...</td>\n",
       "      <td>[59750.445, 59752.4334, 59767.3233, 59770.2445...</td>\n",
       "      <td>[59752.4435, 59767.3343, 59770.2557, 59779.356...</td>\n",
       "      <td>90</td>\n",
       "    </tr>\n",
       "    <tr>\n",
       "      <th>...</th>\n",
       "      <td>...</td>\n",
       "      <td>...</td>\n",
       "      <td>...</td>\n",
       "      <td>...</td>\n",
       "      <td>...</td>\n",
       "      <td>...</td>\n",
       "      <td>...</td>\n",
       "      <td>...</td>\n",
       "    </tr>\n",
       "    <tr>\n",
       "      <th>7843</th>\n",
       "      <td>100413487</td>\n",
       "      <td>[60027.2698, 60080.1505, 60200.0255, 60465.199...</td>\n",
       "      <td>[60026.327, 60057.1877, 60146.0906, 60468.1437...</td>\n",
       "      <td>[59787.0994, 59806.0586, 59813.0764, 59837.051...</td>\n",
       "      <td>[60052.2004, 60064.3288, 60103.2816, 60160.133...</td>\n",
       "      <td>[60041.3805, 60066.184, 60067.1725, 60484.263,...</td>\n",
       "      <td>[59802.135, 59830.0256, 60038.2726, 60039.2354...</td>\n",
       "      <td>16</td>\n",
       "    </tr>\n",
       "    <tr>\n",
       "      <th>7844</th>\n",
       "      <td>68643457</td>\n",
       "      <td>[59702.3009, 60087.1998, 60436.2392, 60554.058...</td>\n",
       "      <td>[60057.2663, 60434.3175, 60442.2076, 60611.03]</td>\n",
       "      <td>[59701.3389, 59778.1432, 59792.9968, 59806.067...</td>\n",
       "      <td>[59776.0241, 60037.3462, 60056.2652, 60134.069...</td>\n",
       "      <td>[59749.2083, 59775.2862, 59776.2676, 60005.396...</td>\n",
       "      <td>[59715.2644, 60037.3325, 60432.4238, 60506.045...</td>\n",
       "      <td>90</td>\n",
       "    </tr>\n",
       "    <tr>\n",
       "      <th>7845</th>\n",
       "      <td>119353712</td>\n",
       "      <td>[59702.3009, 60087.1998, 60436.2392, 60554.058...</td>\n",
       "      <td>[60057.2663, 60434.3175, 60442.2076, 60611.03]</td>\n",
       "      <td>[59701.3389, 59778.1432, 59792.9968, 59806.067...</td>\n",
       "      <td>[59776.0241, 60037.3462, 60056.2652, 60134.069...</td>\n",
       "      <td>[59749.2083, 59775.2862, 59776.2676, 60005.396...</td>\n",
       "      <td>[59715.2644, 60037.3325, 60432.4238, 60506.045...</td>\n",
       "      <td>92</td>\n",
       "    </tr>\n",
       "    <tr>\n",
       "      <th>7846</th>\n",
       "      <td>86237249</td>\n",
       "      <td>[59697.3086, 60087.2182, 60140.1081, 60436.361...</td>\n",
       "      <td>[59779.1426, 59840.0501, 60177.1004, 60434.369...</td>\n",
       "      <td>[59701.3402, 59768.1506, 59793.0063, 59868.029...</td>\n",
       "      <td>[59721.285, 60056.3084, 60132.2807, 60137.1105...</td>\n",
       "      <td>[59722.2728, 59749.1185, 59775.2795, 59776.262...</td>\n",
       "      <td>[59767.0883, 59768.0896, 60153.068, 60432.4192...</td>\n",
       "      <td>42</td>\n",
       "    </tr>\n",
       "    <tr>\n",
       "      <th>7847</th>\n",
       "      <td>49575267</td>\n",
       "      <td>[59702.401, 60140.055, 60200.036, 60201.0471, ...</td>\n",
       "      <td>[60159.9917, 60162.9955, 60442.2715, 60443.2299]</td>\n",
       "      <td>[59793.0354, 60119.1614, 60161.0899, 60385.390...</td>\n",
       "      <td>[60132.2418, 60134.0678, 60160.0993, 60404.336...</td>\n",
       "      <td>[59698.4183, 59699.4209, 59701.4254, 59703.429...</td>\n",
       "      <td>[59683.3067, 59685.3234, 59747.1883, 59773.046...</td>\n",
       "      <td>90</td>\n",
       "    </tr>\n",
       "  </tbody>\n",
       "</table>\n",
       "<p>7848 rows × 8 columns</p>\n",
       "</div>"
      ],
      "text/plain": [
       "      object_id                                                  u  \\\n",
       "0           615  [59819.1532, 59820.1047, 59821.1026, 59822.110...   \n",
       "1        173059  [59819.1532, 59820.1047, 59821.1026, 59822.110...   \n",
       "2        167417  [59819.1532, 59820.1047, 59821.1026, 59822.110...   \n",
       "3        167436  [59819.1532, 59820.1047, 59821.1026, 59822.110...   \n",
       "4        167488  [59819.1532, 59820.1047, 59821.1026, 59822.110...   \n",
       "...         ...                                                ...   \n",
       "7843  100413487  [60027.2698, 60080.1505, 60200.0255, 60465.199...   \n",
       "7844   68643457  [59702.3009, 60087.1998, 60436.2392, 60554.058...   \n",
       "7845  119353712  [59702.3009, 60087.1998, 60436.2392, 60554.058...   \n",
       "7846   86237249  [59697.3086, 60087.2182, 60140.1081, 60436.361...   \n",
       "7847   49575267  [59702.401, 60140.055, 60200.036, 60201.0471, ...   \n",
       "\n",
       "                                                      g  \\\n",
       "0     [59750.4306, 59752.4147, 59767.3045, 59770.225...   \n",
       "1     [59750.4306, 59752.4147, 59767.3045, 59770.225...   \n",
       "2     [59750.4306, 59752.4147, 59767.3045, 59770.225...   \n",
       "3     [59750.4306, 59752.4147, 59767.3045, 59770.225...   \n",
       "4     [59750.4306, 59752.4147, 59767.3045, 59770.225...   \n",
       "...                                                 ...   \n",
       "7843  [60026.327, 60057.1877, 60146.0906, 60468.1437...   \n",
       "7844     [60057.2663, 60434.3175, 60442.2076, 60611.03]   \n",
       "7845     [60057.2663, 60434.3175, 60442.2076, 60611.03]   \n",
       "7846  [59779.1426, 59840.0501, 60177.1004, 60434.369...   \n",
       "7847   [60159.9917, 60162.9955, 60442.2715, 60443.2299]   \n",
       "\n",
       "                                                      r  \\\n",
       "0     [59750.4229, 59752.407, 59767.2968, 59770.2179...   \n",
       "1     [59750.4229, 59752.407, 59767.2968, 59770.2179...   \n",
       "2     [59750.4229, 59752.407, 59767.2968, 59770.2179...   \n",
       "3     [59750.4229, 59752.407, 59767.2968, 59770.2179...   \n",
       "4     [59750.4229, 59752.407, 59767.2968, 59770.2179...   \n",
       "...                                                 ...   \n",
       "7843  [59787.0994, 59806.0586, 59813.0764, 59837.051...   \n",
       "7844  [59701.3389, 59778.1432, 59792.9968, 59806.067...   \n",
       "7845  [59701.3389, 59778.1432, 59792.9968, 59806.067...   \n",
       "7846  [59701.3402, 59768.1506, 59793.0063, 59868.029...   \n",
       "7847  [59793.0354, 60119.1614, 60161.0899, 60385.390...   \n",
       "\n",
       "                                                      i  \\\n",
       "0     [59750.4383, 59752.4224, 59767.3122, 59770.233...   \n",
       "1     [59750.4383, 59752.4224, 59767.3122, 59770.233...   \n",
       "2     [59750.4383, 59752.4224, 59767.3122, 59770.233...   \n",
       "3     [59750.4383, 59752.4224, 59767.3122, 59770.233...   \n",
       "4     [59750.4383, 59752.4224, 59767.3122, 59770.233...   \n",
       "...                                                 ...   \n",
       "7843  [60052.2004, 60064.3288, 60103.2816, 60160.133...   \n",
       "7844  [59776.0241, 60037.3462, 60056.2652, 60134.069...   \n",
       "7845  [59776.0241, 60037.3462, 60056.2652, 60134.069...   \n",
       "7846  [59721.285, 60056.3084, 60132.2807, 60137.1105...   \n",
       "7847  [60132.2418, 60134.0678, 60160.0993, 60404.336...   \n",
       "\n",
       "                                                      z  \\\n",
       "0     [59750.445, 59752.4334, 59767.3233, 59770.2445...   \n",
       "1     [59750.445, 59752.4334, 59767.3233, 59770.2445...   \n",
       "2     [59750.445, 59752.4334, 59767.3233, 59770.2445...   \n",
       "3     [59750.445, 59752.4334, 59767.3233, 59770.2445...   \n",
       "4     [59750.445, 59752.4334, 59767.3233, 59770.2445...   \n",
       "...                                                 ...   \n",
       "7843  [60041.3805, 60066.184, 60067.1725, 60484.263,...   \n",
       "7844  [59749.2083, 59775.2862, 59776.2676, 60005.396...   \n",
       "7845  [59749.2083, 59775.2862, 59776.2676, 60005.396...   \n",
       "7846  [59722.2728, 59749.1185, 59775.2795, 59776.262...   \n",
       "7847  [59698.4183, 59699.4209, 59701.4254, 59703.429...   \n",
       "\n",
       "                                                      y  target  \n",
       "0     [59752.4435, 59767.3343, 59770.2557, 59779.356...      92  \n",
       "1     [59752.4435, 59767.3343, 59770.2557, 59779.356...      90  \n",
       "2     [59752.4435, 59767.3343, 59770.2557, 59779.356...      90  \n",
       "3     [59752.4435, 59767.3343, 59770.2557, 59779.356...      90  \n",
       "4     [59752.4435, 59767.3343, 59770.2557, 59779.356...      90  \n",
       "...                                                 ...     ...  \n",
       "7843  [59802.135, 59830.0256, 60038.2726, 60039.2354...      16  \n",
       "7844  [59715.2644, 60037.3325, 60432.4238, 60506.045...      90  \n",
       "7845  [59715.2644, 60037.3325, 60432.4238, 60506.045...      92  \n",
       "7846  [59767.0883, 59768.0896, 60153.068, 60432.4192...      42  \n",
       "7847  [59683.3067, 59685.3234, 59747.1883, 59773.046...      90  \n",
       "\n",
       "[7848 rows x 8 columns]"
      ]
     },
     "execution_count": 16,
     "metadata": {},
     "output_type": "execute_result"
    }
   ],
   "source": [
    "train_data_time"
   ]
  },
  {
   "cell_type": "code",
   "execution_count": 17,
   "metadata": {},
   "outputs": [],
   "source": [
    "N = 1\n",
    "samples = train_data.groupby('target').apply(lambda x: x[:N])['object_id'].to_list()"
   ]
  },
  {
   "cell_type": "code",
   "execution_count": 18,
   "metadata": {},
   "outputs": [],
   "source": [
    "t = training_set_metadata['target'][samples].to_list()"
   ]
  },
  {
   "cell_type": "code",
   "execution_count": 19,
   "metadata": {},
   "outputs": [],
   "source": [
    "df = training_set.loc[samples]"
   ]
  },
  {
   "cell_type": "code",
   "execution_count": 20,
   "metadata": {},
   "outputs": [],
   "source": [
    "tg = np.repeat(t[:12],352)\n",
    "tg_f = np.concatenate([tg, np.repeat(t[12:],330)])"
   ]
  },
  {
   "cell_type": "code",
   "execution_count": 21,
   "metadata": {},
   "outputs": [],
   "source": [
    "df['target'] = tg_f"
   ]
  },
  {
   "cell_type": "code",
   "execution_count": 22,
   "metadata": {},
   "outputs": [
    {
     "data": {
      "text/html": [
       "<div>\n",
       "<style scoped>\n",
       "    .dataframe tbody tr th:only-of-type {\n",
       "        vertical-align: middle;\n",
       "    }\n",
       "\n",
       "    .dataframe tbody tr th {\n",
       "        vertical-align: top;\n",
       "    }\n",
       "\n",
       "    .dataframe thead th {\n",
       "        text-align: right;\n",
       "    }\n",
       "</style>\n",
       "<table border=\"1\" class=\"dataframe\">\n",
       "  <thead>\n",
       "    <tr style=\"text-align: right;\">\n",
       "      <th></th>\n",
       "      <th>mjd</th>\n",
       "      <th>passband</th>\n",
       "      <th>flux</th>\n",
       "      <th>flux_err</th>\n",
       "      <th>detected</th>\n",
       "      <th>target</th>\n",
       "    </tr>\n",
       "    <tr>\n",
       "      <th>object_id</th>\n",
       "      <th></th>\n",
       "      <th></th>\n",
       "      <th></th>\n",
       "      <th></th>\n",
       "      <th></th>\n",
       "      <th></th>\n",
       "    </tr>\n",
       "  </thead>\n",
       "  <tbody>\n",
       "    <tr>\n",
       "      <th>201890</th>\n",
       "      <td>59750.4229</td>\n",
       "      <td>2</td>\n",
       "      <td>798.867065</td>\n",
       "      <td>4.728840</td>\n",
       "      <td>1</td>\n",
       "      <td>6</td>\n",
       "    </tr>\n",
       "    <tr>\n",
       "      <th>201890</th>\n",
       "      <td>59750.4306</td>\n",
       "      <td>1</td>\n",
       "      <td>498.284912</td>\n",
       "      <td>4.030657</td>\n",
       "      <td>1</td>\n",
       "      <td>6</td>\n",
       "    </tr>\n",
       "    <tr>\n",
       "      <th>201890</th>\n",
       "      <td>59750.4383</td>\n",
       "      <td>3</td>\n",
       "      <td>894.352051</td>\n",
       "      <td>5.405053</td>\n",
       "      <td>1</td>\n",
       "      <td>6</td>\n",
       "    </tr>\n",
       "    <tr>\n",
       "      <th>201890</th>\n",
       "      <td>59750.4450</td>\n",
       "      <td>4</td>\n",
       "      <td>944.262634</td>\n",
       "      <td>12.342348</td>\n",
       "      <td>1</td>\n",
       "      <td>6</td>\n",
       "    </tr>\n",
       "    <tr>\n",
       "      <th>201890</th>\n",
       "      <td>59752.4070</td>\n",
       "      <td>2</td>\n",
       "      <td>921.111023</td>\n",
       "      <td>5.204936</td>\n",
       "      <td>1</td>\n",
       "      <td>6</td>\n",
       "    </tr>\n",
       "    <tr>\n",
       "      <th>...</th>\n",
       "      <td>...</td>\n",
       "      <td>...</td>\n",
       "      <td>...</td>\n",
       "      <td>...</td>\n",
       "      <td>...</td>\n",
       "      <td>...</td>\n",
       "    </tr>\n",
       "    <tr>\n",
       "      <th>95127</th>\n",
       "      <td>60624.1760</td>\n",
       "      <td>2</td>\n",
       "      <td>-1.042478</td>\n",
       "      <td>1.680804</td>\n",
       "      <td>0</td>\n",
       "      <td>95</td>\n",
       "    </tr>\n",
       "    <tr>\n",
       "      <th>95127</th>\n",
       "      <td>60624.1836</td>\n",
       "      <td>1</td>\n",
       "      <td>0.697185</td>\n",
       "      <td>2.300355</td>\n",
       "      <td>0</td>\n",
       "      <td>95</td>\n",
       "    </tr>\n",
       "    <tr>\n",
       "      <th>95127</th>\n",
       "      <td>60624.1913</td>\n",
       "      <td>3</td>\n",
       "      <td>2.973519</td>\n",
       "      <td>2.196870</td>\n",
       "      <td>0</td>\n",
       "      <td>95</td>\n",
       "    </tr>\n",
       "    <tr>\n",
       "      <th>95127</th>\n",
       "      <td>60624.2022</td>\n",
       "      <td>4</td>\n",
       "      <td>0.592244</td>\n",
       "      <td>3.028549</td>\n",
       "      <td>0</td>\n",
       "      <td>95</td>\n",
       "    </tr>\n",
       "    <tr>\n",
       "      <th>95127</th>\n",
       "      <td>60624.2132</td>\n",
       "      <td>5</td>\n",
       "      <td>1.404958</td>\n",
       "      <td>7.450219</td>\n",
       "      <td>0</td>\n",
       "      <td>95</td>\n",
       "    </tr>\n",
       "  </tbody>\n",
       "</table>\n",
       "<p>4884 rows × 6 columns</p>\n",
       "</div>"
      ],
      "text/plain": [
       "                  mjd  passband        flux   flux_err  detected  target\n",
       "object_id                                                               \n",
       "201890     59750.4229         2  798.867065   4.728840         1       6\n",
       "201890     59750.4306         1  498.284912   4.030657         1       6\n",
       "201890     59750.4383         3  894.352051   5.405053         1       6\n",
       "201890     59750.4450         4  944.262634  12.342348         1       6\n",
       "201890     59752.4070         2  921.111023   5.204936         1       6\n",
       "...               ...       ...         ...        ...       ...     ...\n",
       "95127      60624.1760         2   -1.042478   1.680804         0      95\n",
       "95127      60624.1836         1    0.697185   2.300355         0      95\n",
       "95127      60624.1913         3    2.973519   2.196870         0      95\n",
       "95127      60624.2022         4    0.592244   3.028549         0      95\n",
       "95127      60624.2132         5    1.404958   7.450219         0      95\n",
       "\n",
       "[4884 rows x 6 columns]"
      ]
     },
     "execution_count": 22,
     "metadata": {},
     "output_type": "execute_result"
    }
   ],
   "source": [
    "df"
   ]
  },
  {
   "cell_type": "code",
   "execution_count": 23,
   "metadata": {},
   "outputs": [
    {
     "data": {
      "text/plain": [
       "<seaborn.axisgrid.FacetGrid at 0x26850169940>"
      ]
     },
     "execution_count": 23,
     "metadata": {},
     "output_type": "execute_result"
    },
    {
     "data": {
      "image/png": "[encoded data removed]",
      "text/plain": [
       "<Figure size 1140.55x648 with 14 Axes>"
      ]
     },
     "metadata": {
      "needs_background": "light"
     },
     "output_type": "display_data"
    }
   ],
   "source": [
    "grid = sns.FacetGrid(df, col = \"target\", hue = 'passband', col_wrap=5, sharex=False, sharey=False)\n",
    "grid.map(sns.scatterplot, \"mjd\", \"flux\", s=10)\n",
    "\n",
    "grid.add_legend()"
   ]
  },
  {
   "cell_type": "markdown",
   "metadata": {},
   "source": [
    "### Model for classifying"
   ]
  },
  {
   "cell_type": "markdown",
   "metadata": {},
   "source": [
    "My first approach is to make a neural network using Fast Fourier Transform.\n",
    "Fast Fourier Transform have very good properties and makes the complexity of CNN from O(n·n) to O(n·logn) which is a great improvement. "
   ]
  },
  {
   "cell_type": "markdown",
   "metadata": {},
   "source": [
    "#### Creating dataset for train and test"
   ]
  },
  {
   "cell_type": "markdown",
   "metadata": {},
   "source": [
    "The first problem I encountered was the data. There are 6 types of fluxes for every object, with different lengths. As I didn't want to just calculate manually some features (risking not including important information) I opted to do feature extraction with a library called tsfresh. This library specializes in extracting features from temporal series, which was good for our type of data."
   ]
  },
  {
   "cell_type": "markdown",
   "metadata": {},
   "source": [
    "I then created the dataset with the columns I would need and I did the feature extraction. It took almost 50min to finish."
   ]
  },
  {
   "cell_type": "code",
   "execution_count": 24,
   "metadata": {},
   "outputs": [],
   "source": [
    "training_set = pd.read_csv('./data/training_set.csv')"
   ]
  },
  {
   "cell_type": "code",
   "execution_count": 25,
   "metadata": {},
   "outputs": [],
   "source": [
    "dataset = training_set[['object_id','passband','mjd','flux']]"
   ]
  },
  {
   "cell_type": "code",
   "execution_count": 28,
   "metadata": {},
   "outputs": [],
   "source": [
    "#extracted_features = extract_features(dataset, column_id=\"object_id\", column_sort=\"mjd\", column_kind=\"passband\", column_value=\"flux\", n_jobs=0)"
   ]
  },
  {
   "cell_type": "code",
   "execution_count": 29,
   "metadata": {},
   "outputs": [],
   "source": [
    "#extracted_features.to_csv (r'.\\extracted_features.csv', index = True, header=True)"
   ]
  },
  {
   "cell_type": "code",
   "execution_count": 37,
   "metadata": {},
   "outputs": [
    {
     "data": {
      "text/html": [
       "<div>\n",
       "<style scoped>\n",
       "    .dataframe tbody tr th:only-of-type {\n",
       "        vertical-align: middle;\n",
       "    }\n",
       "\n",
       "    .dataframe tbody tr th {\n",
       "        vertical-align: top;\n",
       "    }\n",
       "\n",
       "    .dataframe thead th {\n",
       "        text-align: right;\n",
       "    }\n",
       "</style>\n",
       "<table border=\"1\" class=\"dataframe\">\n",
       "  <thead>\n",
       "    <tr style=\"text-align: right;\">\n",
       "      <th></th>\n",
       "      <th>Unnamed: 0</th>\n",
       "      <th>0__variance_larger_than_standard_deviation</th>\n",
       "      <th>0__has_duplicate_max</th>\n",
       "      <th>0__has_duplicate_min</th>\n",
       "      <th>0__has_duplicate</th>\n",
       "      <th>0__sum_values</th>\n",
       "      <th>0__abs_energy</th>\n",
       "      <th>0__mean_abs_change</th>\n",
       "      <th>0__mean_change</th>\n",
       "      <th>0__mean_second_derivative_central</th>\n",
       "      <th>...</th>\n",
       "      <th>5__permutation_entropy__dimension_6__tau_1</th>\n",
       "      <th>5__permutation_entropy__dimension_7__tau_1</th>\n",
       "      <th>5__query_similarity_count__query_None__threshold_0.0</th>\n",
       "      <th>5__matrix_profile__feature_\"min\"__threshold_0.98</th>\n",
       "      <th>5__matrix_profile__feature_\"max\"__threshold_0.98</th>\n",
       "      <th>5__matrix_profile__feature_\"mean\"__threshold_0.98</th>\n",
       "      <th>5__matrix_profile__feature_\"median\"__threshold_0.98</th>\n",
       "      <th>5__matrix_profile__feature_\"25\"__threshold_0.98</th>\n",
       "      <th>5__matrix_profile__feature_\"75\"__threshold_0.98</th>\n",
       "      <th>5__mean_n_absolute_max__number_of_maxima_7</th>\n",
       "    </tr>\n",
       "  </thead>\n",
       "  <tbody>\n",
       "    <tr>\n",
       "      <th>0</th>\n",
       "      <td>615</td>\n",
       "      <td>1.0</td>\n",
       "      <td>0.0</td>\n",
       "      <td>0.0</td>\n",
       "      <td>0.0</td>\n",
       "      <td>-205.036926</td>\n",
       "      <td>4.375639e+05</td>\n",
       "      <td>51.531037</td>\n",
       "      <td>1.847308</td>\n",
       "      <td>-0.261666</td>\n",
       "      <td>...</td>\n",
       "      <td>3.871265</td>\n",
       "      <td>3.904643</td>\n",
       "      <td>NaN</td>\n",
       "      <td>NaN</td>\n",
       "      <td>NaN</td>\n",
       "      <td>NaN</td>\n",
       "      <td>NaN</td>\n",
       "      <td>NaN</td>\n",
       "      <td>NaN</td>\n",
       "      <td>416.097695</td>\n",
       "    </tr>\n",
       "    <tr>\n",
       "      <th>1</th>\n",
       "      <td>713</td>\n",
       "      <td>1.0</td>\n",
       "      <td>0.0</td>\n",
       "      <td>0.0</td>\n",
       "      <td>0.0</td>\n",
       "      <td>-190.427851</td>\n",
       "      <td>4.009578e+03</td>\n",
       "      <td>2.928718</td>\n",
       "      <td>-0.230969</td>\n",
       "      <td>0.048351</td>\n",
       "      <td>...</td>\n",
       "      <td>3.877461</td>\n",
       "      <td>3.912023</td>\n",
       "      <td>NaN</td>\n",
       "      <td>NaN</td>\n",
       "      <td>NaN</td>\n",
       "      <td>NaN</td>\n",
       "      <td>NaN</td>\n",
       "      <td>NaN</td>\n",
       "      <td>NaN</td>\n",
       "      <td>12.771713</td>\n",
       "    </tr>\n",
       "    <tr>\n",
       "      <th>2</th>\n",
       "      <td>730</td>\n",
       "      <td>1.0</td>\n",
       "      <td>0.0</td>\n",
       "      <td>0.0</td>\n",
       "      <td>0.0</td>\n",
       "      <td>-3.461790</td>\n",
       "      <td>2.376454e+02</td>\n",
       "      <td>2.187693</td>\n",
       "      <td>0.054023</td>\n",
       "      <td>-0.024812</td>\n",
       "      <td>...</td>\n",
       "      <td>3.828641</td>\n",
       "      <td>3.806662</td>\n",
       "      <td>NaN</td>\n",
       "      <td>NaN</td>\n",
       "      <td>NaN</td>\n",
       "      <td>NaN</td>\n",
       "      <td>NaN</td>\n",
       "      <td>NaN</td>\n",
       "      <td>NaN</td>\n",
       "      <td>31.853438</td>\n",
       "    </tr>\n",
       "    <tr>\n",
       "      <th>3</th>\n",
       "      <td>745</td>\n",
       "      <td>1.0</td>\n",
       "      <td>0.0</td>\n",
       "      <td>0.0</td>\n",
       "      <td>0.0</td>\n",
       "      <td>129.421659</td>\n",
       "      <td>1.591278e+03</td>\n",
       "      <td>2.886643</td>\n",
       "      <td>-0.014768</td>\n",
       "      <td>-0.011122</td>\n",
       "      <td>...</td>\n",
       "      <td>3.790654</td>\n",
       "      <td>3.891820</td>\n",
       "      <td>NaN</td>\n",
       "      <td>NaN</td>\n",
       "      <td>NaN</td>\n",
       "      <td>NaN</td>\n",
       "      <td>NaN</td>\n",
       "      <td>NaN</td>\n",
       "      <td>NaN</td>\n",
       "      <td>65.210881</td>\n",
       "    </tr>\n",
       "    <tr>\n",
       "      <th>4</th>\n",
       "      <td>1124</td>\n",
       "      <td>1.0</td>\n",
       "      <td>0.0</td>\n",
       "      <td>0.0</td>\n",
       "      <td>0.0</td>\n",
       "      <td>41.639721</td>\n",
       "      <td>3.728616e+02</td>\n",
       "      <td>2.625952</td>\n",
       "      <td>0.043033</td>\n",
       "      <td>-0.009378</td>\n",
       "      <td>...</td>\n",
       "      <td>3.924584</td>\n",
       "      <td>3.931826</td>\n",
       "      <td>NaN</td>\n",
       "      <td>NaN</td>\n",
       "      <td>NaN</td>\n",
       "      <td>NaN</td>\n",
       "      <td>NaN</td>\n",
       "      <td>NaN</td>\n",
       "      <td>NaN</td>\n",
       "      <td>49.365929</td>\n",
       "    </tr>\n",
       "    <tr>\n",
       "      <th>...</th>\n",
       "      <td>...</td>\n",
       "      <td>...</td>\n",
       "      <td>...</td>\n",
       "      <td>...</td>\n",
       "      <td>...</td>\n",
       "      <td>...</td>\n",
       "      <td>...</td>\n",
       "      <td>...</td>\n",
       "      <td>...</td>\n",
       "      <td>...</td>\n",
       "      <td>...</td>\n",
       "      <td>...</td>\n",
       "      <td>...</td>\n",
       "      <td>...</td>\n",
       "      <td>...</td>\n",
       "      <td>...</td>\n",
       "      <td>...</td>\n",
       "      <td>...</td>\n",
       "      <td>...</td>\n",
       "      <td>...</td>\n",
       "      <td>...</td>\n",
       "    </tr>\n",
       "    <tr>\n",
       "      <th>7843</th>\n",
       "      <td>130739978</td>\n",
       "      <td>1.0</td>\n",
       "      <td>0.0</td>\n",
       "      <td>0.0</td>\n",
       "      <td>0.0</td>\n",
       "      <td>21.873135</td>\n",
       "      <td>4.123384e+03</td>\n",
       "      <td>15.449995</td>\n",
       "      <td>-0.057736</td>\n",
       "      <td>0.622525</td>\n",
       "      <td>...</td>\n",
       "      <td>3.401197</td>\n",
       "      <td>3.367296</td>\n",
       "      <td>NaN</td>\n",
       "      <td>NaN</td>\n",
       "      <td>NaN</td>\n",
       "      <td>NaN</td>\n",
       "      <td>NaN</td>\n",
       "      <td>NaN</td>\n",
       "      <td>NaN</td>\n",
       "      <td>149.691010</td>\n",
       "    </tr>\n",
       "    <tr>\n",
       "      <th>7844</th>\n",
       "      <td>130755807</td>\n",
       "      <td>1.0</td>\n",
       "      <td>0.0</td>\n",
       "      <td>0.0</td>\n",
       "      <td>0.0</td>\n",
       "      <td>295.622920</td>\n",
       "      <td>7.718016e+04</td>\n",
       "      <td>60.384472</td>\n",
       "      <td>-1.405664</td>\n",
       "      <td>-1.234285</td>\n",
       "      <td>...</td>\n",
       "      <td>3.367296</td>\n",
       "      <td>3.332205</td>\n",
       "      <td>NaN</td>\n",
       "      <td>NaN</td>\n",
       "      <td>NaN</td>\n",
       "      <td>NaN</td>\n",
       "      <td>NaN</td>\n",
       "      <td>NaN</td>\n",
       "      <td>NaN</td>\n",
       "      <td>66.227636</td>\n",
       "    </tr>\n",
       "    <tr>\n",
       "      <th>7845</th>\n",
       "      <td>130762946</td>\n",
       "      <td>1.0</td>\n",
       "      <td>0.0</td>\n",
       "      <td>0.0</td>\n",
       "      <td>0.0</td>\n",
       "      <td>-3.677885</td>\n",
       "      <td>2.606556e+04</td>\n",
       "      <td>51.765809</td>\n",
       "      <td>0.697575</td>\n",
       "      <td>-2.284384</td>\n",
       "      <td>...</td>\n",
       "      <td>3.258097</td>\n",
       "      <td>3.218876</td>\n",
       "      <td>NaN</td>\n",
       "      <td>NaN</td>\n",
       "      <td>NaN</td>\n",
       "      <td>NaN</td>\n",
       "      <td>NaN</td>\n",
       "      <td>NaN</td>\n",
       "      <td>NaN</td>\n",
       "      <td>85.834487</td>\n",
       "    </tr>\n",
       "    <tr>\n",
       "      <th>7846</th>\n",
       "      <td>130772921</td>\n",
       "      <td>1.0</td>\n",
       "      <td>0.0</td>\n",
       "      <td>0.0</td>\n",
       "      <td>0.0</td>\n",
       "      <td>47.238909</td>\n",
       "      <td>2.862642e+03</td>\n",
       "      <td>14.379540</td>\n",
       "      <td>-1.014011</td>\n",
       "      <td>0.648643</td>\n",
       "      <td>...</td>\n",
       "      <td>3.515740</td>\n",
       "      <td>3.526361</td>\n",
       "      <td>NaN</td>\n",
       "      <td>NaN</td>\n",
       "      <td>NaN</td>\n",
       "      <td>NaN</td>\n",
       "      <td>NaN</td>\n",
       "      <td>NaN</td>\n",
       "      <td>NaN</td>\n",
       "      <td>79.207506</td>\n",
       "    </tr>\n",
       "    <tr>\n",
       "      <th>7847</th>\n",
       "      <td>130779836</td>\n",
       "      <td>1.0</td>\n",
       "      <td>0.0</td>\n",
       "      <td>0.0</td>\n",
       "      <td>0.0</td>\n",
       "      <td>10565.112176</td>\n",
       "      <td>6.255808e+07</td>\n",
       "      <td>1245.158271</td>\n",
       "      <td>-89.817914</td>\n",
       "      <td>-5.932118</td>\n",
       "      <td>...</td>\n",
       "      <td>2.615631</td>\n",
       "      <td>2.639057</td>\n",
       "      <td>NaN</td>\n",
       "      <td>NaN</td>\n",
       "      <td>NaN</td>\n",
       "      <td>NaN</td>\n",
       "      <td>NaN</td>\n",
       "      <td>NaN</td>\n",
       "      <td>NaN</td>\n",
       "      <td>11454.454102</td>\n",
       "    </tr>\n",
       "  </tbody>\n",
       "</table>\n",
       "<p>7848 rows × 4735 columns</p>\n",
       "</div>"
      ],
      "text/plain": [
       "      Unnamed: 0  0__variance_larger_than_standard_deviation  \\\n",
       "0            615                                         1.0   \n",
       "1            713                                         1.0   \n",
       "2            730                                         1.0   \n",
       "3            745                                         1.0   \n",
       "4           1124                                         1.0   \n",
       "...          ...                                         ...   \n",
       "7843   130739978                                         1.0   \n",
       "7844   130755807                                         1.0   \n",
       "7845   130762946                                         1.0   \n",
       "7846   130772921                                         1.0   \n",
       "7847   130779836                                         1.0   \n",
       "\n",
       "      0__has_duplicate_max  0__has_duplicate_min  0__has_duplicate  \\\n",
       "0                      0.0                   0.0               0.0   \n",
       "1                      0.0                   0.0               0.0   \n",
       "2                      0.0                   0.0               0.0   \n",
       "3                      0.0                   0.0               0.0   \n",
       "4                      0.0                   0.0               0.0   \n",
       "...                    ...                   ...               ...   \n",
       "7843                   0.0                   0.0               0.0   \n",
       "7844                   0.0                   0.0               0.0   \n",
       "7845                   0.0                   0.0               0.0   \n",
       "7846                   0.0                   0.0               0.0   \n",
       "7847                   0.0                   0.0               0.0   \n",
       "\n",
       "      0__sum_values  0__abs_energy  0__mean_abs_change  0__mean_change  \\\n",
       "0       -205.036926   4.375639e+05           51.531037        1.847308   \n",
       "1       -190.427851   4.009578e+03            2.928718       -0.230969   \n",
       "2         -3.461790   2.376454e+02            2.187693        0.054023   \n",
       "3        129.421659   1.591278e+03            2.886643       -0.014768   \n",
       "4         41.639721   3.728616e+02            2.625952        0.043033   \n",
       "...             ...            ...                 ...             ...   \n",
       "7843      21.873135   4.123384e+03           15.449995       -0.057736   \n",
       "7844     295.622920   7.718016e+04           60.384472       -1.405664   \n",
       "7845      -3.677885   2.606556e+04           51.765809        0.697575   \n",
       "7846      47.238909   2.862642e+03           14.379540       -1.014011   \n",
       "7847   10565.112176   6.255808e+07         1245.158271      -89.817914   \n",
       "\n",
       "      0__mean_second_derivative_central  ...  \\\n",
       "0                             -0.261666  ...   \n",
       "1                              0.048351  ...   \n",
       "2                             -0.024812  ...   \n",
       "3                             -0.011122  ...   \n",
       "4                             -0.009378  ...   \n",
       "...                                 ...  ...   \n",
       "7843                           0.622525  ...   \n",
       "7844                          -1.234285  ...   \n",
       "7845                          -2.284384  ...   \n",
       "7846                           0.648643  ...   \n",
       "7847                          -5.932118  ...   \n",
       "\n",
       "      5__permutation_entropy__dimension_6__tau_1  \\\n",
       "0                                       3.871265   \n",
       "1                                       3.877461   \n",
       "2                                       3.828641   \n",
       "3                                       3.790654   \n",
       "4                                       3.924584   \n",
       "...                                          ...   \n",
       "7843                                    3.401197   \n",
       "7844                                    3.367296   \n",
       "7845                                    3.258097   \n",
       "7846                                    3.515740   \n",
       "7847                                    2.615631   \n",
       "\n",
       "      5__permutation_entropy__dimension_7__tau_1  \\\n",
       "0                                       3.904643   \n",
       "1                                       3.912023   \n",
       "2                                       3.806662   \n",
       "3                                       3.891820   \n",
       "4                                       3.931826   \n",
       "...                                          ...   \n",
       "7843                                    3.367296   \n",
       "7844                                    3.332205   \n",
       "7845                                    3.218876   \n",
       "7846                                    3.526361   \n",
       "7847                                    2.639057   \n",
       "\n",
       "      5__query_similarity_count__query_None__threshold_0.0  \\\n",
       "0                                                   NaN      \n",
       "1                                                   NaN      \n",
       "2                                                   NaN      \n",
       "3                                                   NaN      \n",
       "4                                                   NaN      \n",
       "...                                                 ...      \n",
       "7843                                                NaN      \n",
       "7844                                                NaN      \n",
       "7845                                                NaN      \n",
       "7846                                                NaN      \n",
       "7847                                                NaN      \n",
       "\n",
       "      5__matrix_profile__feature_\"min\"__threshold_0.98  \\\n",
       "0                                                  NaN   \n",
       "1                                                  NaN   \n",
       "2                                                  NaN   \n",
       "3                                                  NaN   \n",
       "4                                                  NaN   \n",
       "...                                                ...   \n",
       "7843                                               NaN   \n",
       "7844                                               NaN   \n",
       "7845                                               NaN   \n",
       "7846                                               NaN   \n",
       "7847                                               NaN   \n",
       "\n",
       "      5__matrix_profile__feature_\"max\"__threshold_0.98  \\\n",
       "0                                                  NaN   \n",
       "1                                                  NaN   \n",
       "2                                                  NaN   \n",
       "3                                                  NaN   \n",
       "4                                                  NaN   \n",
       "...                                                ...   \n",
       "7843                                               NaN   \n",
       "7844                                               NaN   \n",
       "7845                                               NaN   \n",
       "7846                                               NaN   \n",
       "7847                                               NaN   \n",
       "\n",
       "      5__matrix_profile__feature_\"mean\"__threshold_0.98  \\\n",
       "0                                                   NaN   \n",
       "1                                                   NaN   \n",
       "2                                                   NaN   \n",
       "3                                                   NaN   \n",
       "4                                                   NaN   \n",
       "...                                                 ...   \n",
       "7843                                                NaN   \n",
       "7844                                                NaN   \n",
       "7845                                                NaN   \n",
       "7846                                                NaN   \n",
       "7847                                                NaN   \n",
       "\n",
       "      5__matrix_profile__feature_\"median\"__threshold_0.98  \\\n",
       "0                                                   NaN     \n",
       "1                                                   NaN     \n",
       "2                                                   NaN     \n",
       "3                                                   NaN     \n",
       "4                                                   NaN     \n",
       "...                                                 ...     \n",
       "7843                                                NaN     \n",
       "7844                                                NaN     \n",
       "7845                                                NaN     \n",
       "7846                                                NaN     \n",
       "7847                                                NaN     \n",
       "\n",
       "      5__matrix_profile__feature_\"25\"__threshold_0.98  \\\n",
       "0                                                 NaN   \n",
       "1                                                 NaN   \n",
       "2                                                 NaN   \n",
       "3                                                 NaN   \n",
       "4                                                 NaN   \n",
       "...                                               ...   \n",
       "7843                                              NaN   \n",
       "7844                                              NaN   \n",
       "7845                                              NaN   \n",
       "7846                                              NaN   \n",
       "7847                                              NaN   \n",
       "\n",
       "      5__matrix_profile__feature_\"75\"__threshold_0.98  \\\n",
       "0                                                 NaN   \n",
       "1                                                 NaN   \n",
       "2                                                 NaN   \n",
       "3                                                 NaN   \n",
       "4                                                 NaN   \n",
       "...                                               ...   \n",
       "7843                                              NaN   \n",
       "7844                                              NaN   \n",
       "7845                                              NaN   \n",
       "7846                                              NaN   \n",
       "7847                                              NaN   \n",
       "\n",
       "      5__mean_n_absolute_max__number_of_maxima_7  \n",
       "0                                     416.097695  \n",
       "1                                      12.771713  \n",
       "2                                      31.853438  \n",
       "3                                      65.210881  \n",
       "4                                      49.365929  \n",
       "...                                          ...  \n",
       "7843                                  149.691010  \n",
       "7844                                   66.227636  \n",
       "7845                                   85.834487  \n",
       "7846                                   79.207506  \n",
       "7847                                11454.454102  \n",
       "\n",
       "[7848 rows x 4735 columns]"
      ]
     },
     "execution_count": 37,
     "metadata": {},
     "output_type": "execute_result"
    }
   ],
   "source": [
    "extracted_features"
   ]
  },
  {
   "cell_type": "code",
   "execution_count": 102,
   "metadata": {},
   "outputs": [],
   "source": [
    "extracted_features = extracted_features.set_index(['Unnamed: 0'])\n",
    "extracted_features.index.name = 'object_id'"
   ]
  },
  {
   "cell_type": "code",
   "execution_count": 103,
   "metadata": {},
   "outputs": [],
   "source": [
    "training_set_metadata = training_set_metadata.set_index(['object_id'])\n",
    "y = pd.Series(training_set_metadata['target'])"
   ]
  },
  {
   "cell_type": "markdown",
   "metadata": {},
   "source": [
    "I got a huge dataset with 4734 new features as columns. Just taking a look you can see that it needs some cleaning. I took off all the columns that had NaN and all the columns that had the same value in each row."
   ]
  },
  {
   "cell_type": "code",
   "execution_count": 69,
   "metadata": {},
   "outputs": [],
   "source": [
    "extracted_features = extracted_features.dropna(axis=1)"
   ]
  },
  {
   "cell_type": "markdown",
   "metadata": {},
   "source": [
    "By taking off all the NaN I got 1739 features. Now I take off all the columns with the same value"
   ]
  },
  {
   "cell_type": "code",
   "execution_count": 70,
   "metadata": {},
   "outputs": [],
   "source": [
    "def unique_cols(df):\n",
    "    a = df.to_numpy() # df.values (pandas<0.24)\n",
    "    return (a[0] == a).all(0)"
   ]
  },
  {
   "cell_type": "code",
   "execution_count": 71,
   "metadata": {},
   "outputs": [],
   "source": [
    "extracted_features = extracted_features.drop(extracted_features.columns[unique_cols(extracted_features)], axis=1)"
   ]
  },
  {
   "cell_type": "markdown",
   "metadata": {},
   "source": [
    "The result is the next dataset with 1502 features or columns."
   ]
  },
  {
   "cell_type": "code",
   "execution_count": 72,
   "metadata": {},
   "outputs": [
    {
     "data": {
      "text/html": [
       "<div>\n",
       "<style scoped>\n",
       "    .dataframe tbody tr th:only-of-type {\n",
       "        vertical-align: middle;\n",
       "    }\n",
       "\n",
       "    .dataframe tbody tr th {\n",
       "        vertical-align: top;\n",
       "    }\n",
       "\n",
       "    .dataframe thead th {\n",
       "        text-align: right;\n",
       "    }\n",
       "</style>\n",
       "<table border=\"1\" class=\"dataframe\">\n",
       "  <thead>\n",
       "    <tr style=\"text-align: right;\">\n",
       "      <th></th>\n",
       "      <th>0__sum_values</th>\n",
       "      <th>0__abs_energy</th>\n",
       "      <th>0__mean_abs_change</th>\n",
       "      <th>0__mean_change</th>\n",
       "      <th>0__median</th>\n",
       "      <th>0__mean</th>\n",
       "      <th>0__length</th>\n",
       "      <th>0__standard_deviation</th>\n",
       "      <th>0__variation_coefficient</th>\n",
       "      <th>0__variance</th>\n",
       "      <th>...</th>\n",
       "      <th>5__fourier_entropy__bins_2</th>\n",
       "      <th>5__fourier_entropy__bins_3</th>\n",
       "      <th>5__fourier_entropy__bins_5</th>\n",
       "      <th>5__fourier_entropy__bins_10</th>\n",
       "      <th>5__fourier_entropy__bins_100</th>\n",
       "      <th>5__permutation_entropy__dimension_3__tau_1</th>\n",
       "      <th>5__permutation_entropy__dimension_4__tau_1</th>\n",
       "      <th>5__permutation_entropy__dimension_5__tau_1</th>\n",
       "      <th>5__permutation_entropy__dimension_6__tau_1</th>\n",
       "      <th>5__permutation_entropy__dimension_7__tau_1</th>\n",
       "    </tr>\n",
       "    <tr>\n",
       "      <th>object_id</th>\n",
       "      <th></th>\n",
       "      <th></th>\n",
       "      <th></th>\n",
       "      <th></th>\n",
       "      <th></th>\n",
       "      <th></th>\n",
       "      <th></th>\n",
       "      <th></th>\n",
       "      <th></th>\n",
       "      <th></th>\n",
       "      <th></th>\n",
       "      <th></th>\n",
       "      <th></th>\n",
       "      <th></th>\n",
       "      <th></th>\n",
       "      <th></th>\n",
       "      <th></th>\n",
       "      <th></th>\n",
       "      <th></th>\n",
       "      <th></th>\n",
       "      <th></th>\n",
       "    </tr>\n",
       "  </thead>\n",
       "  <tbody>\n",
       "    <tr>\n",
       "      <th>615</th>\n",
       "      <td>-205.036926</td>\n",
       "      <td>4.375639e+05</td>\n",
       "      <td>51.531037</td>\n",
       "      <td>1.847308</td>\n",
       "      <td>-10.015225</td>\n",
       "      <td>-3.254554</td>\n",
       "      <td>63.0</td>\n",
       "      <td>83.275842</td>\n",
       "      <td>-25.587479</td>\n",
       "      <td>6.934866e+03</td>\n",
       "      <td>...</td>\n",
       "      <td>0.459693</td>\n",
       "      <td>0.832571</td>\n",
       "      <td>1.285000</td>\n",
       "      <td>1.827594</td>\n",
       "      <td>3.158040</td>\n",
       "      <td>1.680344</td>\n",
       "      <td>2.815022</td>\n",
       "      <td>3.522170</td>\n",
       "      <td>3.871265</td>\n",
       "      <td>3.904643</td>\n",
       "    </tr>\n",
       "    <tr>\n",
       "      <th>713</th>\n",
       "      <td>-190.427851</td>\n",
       "      <td>4.009578e+03</td>\n",
       "      <td>2.928718</td>\n",
       "      <td>-0.230969</td>\n",
       "      <td>-3.096805</td>\n",
       "      <td>-2.720398</td>\n",
       "      <td>70.0</td>\n",
       "      <td>7.062516</td>\n",
       "      <td>-2.596133</td>\n",
       "      <td>4.987913e+01</td>\n",
       "      <td>...</td>\n",
       "      <td>0.250955</td>\n",
       "      <td>0.603035</td>\n",
       "      <td>1.047042</td>\n",
       "      <td>1.616301</td>\n",
       "      <td>3.014630</td>\n",
       "      <td>1.751832</td>\n",
       "      <td>2.939805</td>\n",
       "      <td>3.684649</td>\n",
       "      <td>3.877461</td>\n",
       "      <td>3.912023</td>\n",
       "    </tr>\n",
       "    <tr>\n",
       "      <th>730</th>\n",
       "      <td>-3.461790</td>\n",
       "      <td>2.376454e+02</td>\n",
       "      <td>2.187693</td>\n",
       "      <td>0.054023</td>\n",
       "      <td>0.024093</td>\n",
       "      <td>-0.048080</td>\n",
       "      <td>72.0</td>\n",
       "      <td>1.816127</td>\n",
       "      <td>-37.772702</td>\n",
       "      <td>3.298318e+00</td>\n",
       "      <td>...</td>\n",
       "      <td>0.540204</td>\n",
       "      <td>0.687092</td>\n",
       "      <td>1.118891</td>\n",
       "      <td>1.497027</td>\n",
       "      <td>2.704781</td>\n",
       "      <td>1.768728</td>\n",
       "      <td>2.930840</td>\n",
       "      <td>3.673174</td>\n",
       "      <td>3.828641</td>\n",
       "      <td>3.806662</td>\n",
       "    </tr>\n",
       "    <tr>\n",
       "      <th>745</th>\n",
       "      <td>129.421659</td>\n",
       "      <td>1.591278e+03</td>\n",
       "      <td>2.886643</td>\n",
       "      <td>-0.014768</td>\n",
       "      <td>1.056714</td>\n",
       "      <td>1.797523</td>\n",
       "      <td>72.0</td>\n",
       "      <td>4.343961</td>\n",
       "      <td>2.416637</td>\n",
       "      <td>1.886999e+01</td>\n",
       "      <td>...</td>\n",
       "      <td>0.340500</td>\n",
       "      <td>0.408698</td>\n",
       "      <td>0.801260</td>\n",
       "      <td>1.348983</td>\n",
       "      <td>2.731527</td>\n",
       "      <td>1.680996</td>\n",
       "      <td>2.673049</td>\n",
       "      <td>3.422026</td>\n",
       "      <td>3.790654</td>\n",
       "      <td>3.891820</td>\n",
       "    </tr>\n",
       "    <tr>\n",
       "      <th>1124</th>\n",
       "      <td>41.639721</td>\n",
       "      <td>3.728616e+02</td>\n",
       "      <td>2.625952</td>\n",
       "      <td>0.043033</td>\n",
       "      <td>0.581027</td>\n",
       "      <td>0.660948</td>\n",
       "      <td>63.0</td>\n",
       "      <td>2.341279</td>\n",
       "      <td>3.542304</td>\n",
       "      <td>5.481586e+00</td>\n",
       "      <td>...</td>\n",
       "      <td>0.459693</td>\n",
       "      <td>0.717505</td>\n",
       "      <td>1.143043</td>\n",
       "      <td>1.711290</td>\n",
       "      <td>2.966827</td>\n",
       "      <td>1.788928</td>\n",
       "      <td>2.981309</td>\n",
       "      <td>3.725011</td>\n",
       "      <td>3.924584</td>\n",
       "      <td>3.931826</td>\n",
       "    </tr>\n",
       "    <tr>\n",
       "      <th>...</th>\n",
       "      <td>...</td>\n",
       "      <td>...</td>\n",
       "      <td>...</td>\n",
       "      <td>...</td>\n",
       "      <td>...</td>\n",
       "      <td>...</td>\n",
       "      <td>...</td>\n",
       "      <td>...</td>\n",
       "      <td>...</td>\n",
       "      <td>...</td>\n",
       "      <td>...</td>\n",
       "      <td>...</td>\n",
       "      <td>...</td>\n",
       "      <td>...</td>\n",
       "      <td>...</td>\n",
       "      <td>...</td>\n",
       "      <td>...</td>\n",
       "      <td>...</td>\n",
       "      <td>...</td>\n",
       "      <td>...</td>\n",
       "      <td>...</td>\n",
       "    </tr>\n",
       "    <tr>\n",
       "      <th>130739978</th>\n",
       "      <td>21.873135</td>\n",
       "      <td>4.123384e+03</td>\n",
       "      <td>15.449995</td>\n",
       "      <td>-0.057736</td>\n",
       "      <td>0.566667</td>\n",
       "      <td>1.286655</td>\n",
       "      <td>17.0</td>\n",
       "      <td>15.520841</td>\n",
       "      <td>12.062940</td>\n",
       "      <td>2.408965e+02</td>\n",
       "      <td>...</td>\n",
       "      <td>0.450561</td>\n",
       "      <td>0.683739</td>\n",
       "      <td>0.960892</td>\n",
       "      <td>1.347975</td>\n",
       "      <td>2.553237</td>\n",
       "      <td>1.776446</td>\n",
       "      <td>2.750504</td>\n",
       "      <td>3.344549</td>\n",
       "      <td>3.401197</td>\n",
       "      <td>3.367296</td>\n",
       "    </tr>\n",
       "    <tr>\n",
       "      <th>130755807</th>\n",
       "      <td>295.622920</td>\n",
       "      <td>7.718016e+04</td>\n",
       "      <td>60.384472</td>\n",
       "      <td>-1.405664</td>\n",
       "      <td>3.523321</td>\n",
       "      <td>24.635243</td>\n",
       "      <td>12.0</td>\n",
       "      <td>76.320279</td>\n",
       "      <td>3.098012</td>\n",
       "      <td>5.824785e+03</td>\n",
       "      <td>...</td>\n",
       "      <td>0.636514</td>\n",
       "      <td>0.786701</td>\n",
       "      <td>1.300592</td>\n",
       "      <td>1.406678</td>\n",
       "      <td>2.582306</td>\n",
       "      <td>1.726788</td>\n",
       "      <td>2.746321</td>\n",
       "      <td>3.262568</td>\n",
       "      <td>3.367296</td>\n",
       "      <td>3.332205</td>\n",
       "    </tr>\n",
       "    <tr>\n",
       "      <th>130762946</th>\n",
       "      <td>-3.677885</td>\n",
       "      <td>2.606556e+04</td>\n",
       "      <td>51.765809</td>\n",
       "      <td>0.697575</td>\n",
       "      <td>7.376702</td>\n",
       "      <td>-0.282914</td>\n",
       "      <td>13.0</td>\n",
       "      <td>44.776815</td>\n",
       "      <td>-158.269928</td>\n",
       "      <td>2.004963e+03</td>\n",
       "      <td>...</td>\n",
       "      <td>0.685314</td>\n",
       "      <td>1.071730</td>\n",
       "      <td>1.489849</td>\n",
       "      <td>2.014036</td>\n",
       "      <td>2.772589</td>\n",
       "      <td>1.766037</td>\n",
       "      <td>2.799725</td>\n",
       "      <td>3.244493</td>\n",
       "      <td>3.258097</td>\n",
       "      <td>3.218876</td>\n",
       "    </tr>\n",
       "    <tr>\n",
       "      <th>130772921</th>\n",
       "      <td>47.238909</td>\n",
       "      <td>2.862642e+03</td>\n",
       "      <td>14.379540</td>\n",
       "      <td>-1.014011</td>\n",
       "      <td>-1.682394</td>\n",
       "      <td>3.374208</td>\n",
       "      <td>14.0</td>\n",
       "      <td>13.895653</td>\n",
       "      <td>4.118197</td>\n",
       "      <td>1.930892e+02</td>\n",
       "      <td>...</td>\n",
       "      <td>0.486913</td>\n",
       "      <td>0.982901</td>\n",
       "      <td>1.434741</td>\n",
       "      <td>2.045576</td>\n",
       "      <td>2.887578</td>\n",
       "      <td>1.780856</td>\n",
       "      <td>2.992339</td>\n",
       "      <td>3.429486</td>\n",
       "      <td>3.515740</td>\n",
       "      <td>3.526361</td>\n",
       "    </tr>\n",
       "    <tr>\n",
       "      <th>130779836</th>\n",
       "      <td>10565.112176</td>\n",
       "      <td>6.255808e+07</td>\n",
       "      <td>1245.158271</td>\n",
       "      <td>-89.817914</td>\n",
       "      <td>90.714111</td>\n",
       "      <td>812.700937</td>\n",
       "      <td>13.0</td>\n",
       "      <td>2037.566556</td>\n",
       "      <td>2.507154</td>\n",
       "      <td>4.151677e+06</td>\n",
       "      <td>...</td>\n",
       "      <td>0.474139</td>\n",
       "      <td>0.759547</td>\n",
       "      <td>1.294545</td>\n",
       "      <td>1.666333</td>\n",
       "      <td>2.397895</td>\n",
       "      <td>1.258991</td>\n",
       "      <td>1.843861</td>\n",
       "      <td>2.339372</td>\n",
       "      <td>2.615631</td>\n",
       "      <td>2.639057</td>\n",
       "    </tr>\n",
       "  </tbody>\n",
       "</table>\n",
       "<p>7848 rows × 1502 columns</p>\n",
       "</div>"
      ],
      "text/plain": [
       "           0__sum_values  0__abs_energy  0__mean_abs_change  0__mean_change  \\\n",
       "object_id                                                                     \n",
       "615          -205.036926   4.375639e+05           51.531037        1.847308   \n",
       "713          -190.427851   4.009578e+03            2.928718       -0.230969   \n",
       "730            -3.461790   2.376454e+02            2.187693        0.054023   \n",
       "745           129.421659   1.591278e+03            2.886643       -0.014768   \n",
       "1124           41.639721   3.728616e+02            2.625952        0.043033   \n",
       "...                  ...            ...                 ...             ...   \n",
       "130739978      21.873135   4.123384e+03           15.449995       -0.057736   \n",
       "130755807     295.622920   7.718016e+04           60.384472       -1.405664   \n",
       "130762946      -3.677885   2.606556e+04           51.765809        0.697575   \n",
       "130772921      47.238909   2.862642e+03           14.379540       -1.014011   \n",
       "130779836   10565.112176   6.255808e+07         1245.158271      -89.817914   \n",
       "\n",
       "           0__median     0__mean  0__length  0__standard_deviation  \\\n",
       "object_id                                                            \n",
       "615       -10.015225   -3.254554       63.0              83.275842   \n",
       "713        -3.096805   -2.720398       70.0               7.062516   \n",
       "730         0.024093   -0.048080       72.0               1.816127   \n",
       "745         1.056714    1.797523       72.0               4.343961   \n",
       "1124        0.581027    0.660948       63.0               2.341279   \n",
       "...              ...         ...        ...                    ...   \n",
       "130739978   0.566667    1.286655       17.0              15.520841   \n",
       "130755807   3.523321   24.635243       12.0              76.320279   \n",
       "130762946   7.376702   -0.282914       13.0              44.776815   \n",
       "130772921  -1.682394    3.374208       14.0              13.895653   \n",
       "130779836  90.714111  812.700937       13.0            2037.566556   \n",
       "\n",
       "           0__variation_coefficient   0__variance  ...  \\\n",
       "object_id                                          ...   \n",
       "615                      -25.587479  6.934866e+03  ...   \n",
       "713                       -2.596133  4.987913e+01  ...   \n",
       "730                      -37.772702  3.298318e+00  ...   \n",
       "745                        2.416637  1.886999e+01  ...   \n",
       "1124                       3.542304  5.481586e+00  ...   \n",
       "...                             ...           ...  ...   \n",
       "130739978                 12.062940  2.408965e+02  ...   \n",
       "130755807                  3.098012  5.824785e+03  ...   \n",
       "130762946               -158.269928  2.004963e+03  ...   \n",
       "130772921                  4.118197  1.930892e+02  ...   \n",
       "130779836                  2.507154  4.151677e+06  ...   \n",
       "\n",
       "           5__fourier_entropy__bins_2  5__fourier_entropy__bins_3  \\\n",
       "object_id                                                           \n",
       "615                          0.459693                    0.832571   \n",
       "713                          0.250955                    0.603035   \n",
       "730                          0.540204                    0.687092   \n",
       "745                          0.340500                    0.408698   \n",
       "1124                         0.459693                    0.717505   \n",
       "...                               ...                         ...   \n",
       "130739978                    0.450561                    0.683739   \n",
       "130755807                    0.636514                    0.786701   \n",
       "130762946                    0.685314                    1.071730   \n",
       "130772921                    0.486913                    0.982901   \n",
       "130779836                    0.474139                    0.759547   \n",
       "\n",
       "           5__fourier_entropy__bins_5  5__fourier_entropy__bins_10  \\\n",
       "object_id                                                            \n",
       "615                          1.285000                     1.827594   \n",
       "713                          1.047042                     1.616301   \n",
       "730                          1.118891                     1.497027   \n",
       "745                          0.801260                     1.348983   \n",
       "1124                         1.143043                     1.711290   \n",
       "...                               ...                          ...   \n",
       "130739978                    0.960892                     1.347975   \n",
       "130755807                    1.300592                     1.406678   \n",
       "130762946                    1.489849                     2.014036   \n",
       "130772921                    1.434741                     2.045576   \n",
       "130779836                    1.294545                     1.666333   \n",
       "\n",
       "           5__fourier_entropy__bins_100  \\\n",
       "object_id                                 \n",
       "615                            3.158040   \n",
       "713                            3.014630   \n",
       "730                            2.704781   \n",
       "745                            2.731527   \n",
       "1124                           2.966827   \n",
       "...                                 ...   \n",
       "130739978                      2.553237   \n",
       "130755807                      2.582306   \n",
       "130762946                      2.772589   \n",
       "130772921                      2.887578   \n",
       "130779836                      2.397895   \n",
       "\n",
       "           5__permutation_entropy__dimension_3__tau_1  \\\n",
       "object_id                                               \n",
       "615                                          1.680344   \n",
       "713                                          1.751832   \n",
       "730                                          1.768728   \n",
       "745                                          1.680996   \n",
       "1124                                         1.788928   \n",
       "...                                               ...   \n",
       "130739978                                    1.776446   \n",
       "130755807                                    1.726788   \n",
       "130762946                                    1.766037   \n",
       "130772921                                    1.780856   \n",
       "130779836                                    1.258991   \n",
       "\n",
       "           5__permutation_entropy__dimension_4__tau_1  \\\n",
       "object_id                                               \n",
       "615                                          2.815022   \n",
       "713                                          2.939805   \n",
       "730                                          2.930840   \n",
       "745                                          2.673049   \n",
       "1124                                         2.981309   \n",
       "...                                               ...   \n",
       "130739978                                    2.750504   \n",
       "130755807                                    2.746321   \n",
       "130762946                                    2.799725   \n",
       "130772921                                    2.992339   \n",
       "130779836                                    1.843861   \n",
       "\n",
       "           5__permutation_entropy__dimension_5__tau_1  \\\n",
       "object_id                                               \n",
       "615                                          3.522170   \n",
       "713                                          3.684649   \n",
       "730                                          3.673174   \n",
       "745                                          3.422026   \n",
       "1124                                         3.725011   \n",
       "...                                               ...   \n",
       "130739978                                    3.344549   \n",
       "130755807                                    3.262568   \n",
       "130762946                                    3.244493   \n",
       "130772921                                    3.429486   \n",
       "130779836                                    2.339372   \n",
       "\n",
       "           5__permutation_entropy__dimension_6__tau_1  \\\n",
       "object_id                                               \n",
       "615                                          3.871265   \n",
       "713                                          3.877461   \n",
       "730                                          3.828641   \n",
       "745                                          3.790654   \n",
       "1124                                         3.924584   \n",
       "...                                               ...   \n",
       "130739978                                    3.401197   \n",
       "130755807                                    3.367296   \n",
       "130762946                                    3.258097   \n",
       "130772921                                    3.515740   \n",
       "130779836                                    2.615631   \n",
       "\n",
       "           5__permutation_entropy__dimension_7__tau_1  \n",
       "object_id                                              \n",
       "615                                          3.904643  \n",
       "713                                          3.912023  \n",
       "730                                          3.806662  \n",
       "745                                          3.891820  \n",
       "1124                                         3.931826  \n",
       "...                                               ...  \n",
       "130739978                                    3.367296  \n",
       "130755807                                    3.332205  \n",
       "130762946                                    3.218876  \n",
       "130772921                                    3.526361  \n",
       "130779836                                    2.639057  \n",
       "\n",
       "[7848 rows x 1502 columns]"
      ]
     },
     "execution_count": 72,
     "metadata": {},
     "output_type": "execute_result"
    }
   ],
   "source": [
    "extracted_features"
   ]
  },
  {
   "cell_type": "markdown",
   "metadata": {},
   "source": [
    "I do a last feature selection"
   ]
  },
  {
   "cell_type": "code",
   "execution_count": 73,
   "metadata": {},
   "outputs": [],
   "source": [
    "selected_features = feature_selection.select_features(extracted_features, y, ml_task='classification', multiclass=True, n_jobs=0)"
   ]
  },
  {
   "cell_type": "code",
   "execution_count": 74,
   "metadata": {},
   "outputs": [
    {
     "data": {
      "text/html": [
       "<div>\n",
       "<style scoped>\n",
       "    .dataframe tbody tr th:only-of-type {\n",
       "        vertical-align: middle;\n",
       "    }\n",
       "\n",
       "    .dataframe tbody tr th {\n",
       "        vertical-align: top;\n",
       "    }\n",
       "\n",
       "    .dataframe thead th {\n",
       "        text-align: right;\n",
       "    }\n",
       "</style>\n",
       "<table border=\"1\" class=\"dataframe\">\n",
       "  <thead>\n",
       "    <tr style=\"text-align: right;\">\n",
       "      <th></th>\n",
       "      <th>2__change_quantiles__f_agg_\"mean\"__isabs_True__qh_0.8__ql_0.2</th>\n",
       "      <th>2__change_quantiles__f_agg_\"var\"__isabs_False__qh_0.8__ql_0.2</th>\n",
       "      <th>3__change_quantiles__f_agg_\"mean\"__isabs_True__qh_0.8__ql_0.2</th>\n",
       "      <th>2__change_quantiles__f_agg_\"var\"__isabs_True__qh_0.8__ql_0.2</th>\n",
       "      <th>1__change_quantiles__f_agg_\"mean\"__isabs_True__qh_1.0__ql_0.2</th>\n",
       "      <th>3__change_quantiles__f_agg_\"var\"__isabs_False__qh_0.8__ql_0.2</th>\n",
       "      <th>2__change_quantiles__f_agg_\"mean\"__isabs_True__qh_1.0__ql_0.2</th>\n",
       "      <th>4__change_quantiles__f_agg_\"mean\"__isabs_True__qh_0.8__ql_0.2</th>\n",
       "      <th>3__change_quantiles__f_agg_\"var\"__isabs_True__qh_0.8__ql_0.2</th>\n",
       "      <th>1__mean_abs_change</th>\n",
       "      <th>...</th>\n",
       "      <th>1__change_quantiles__f_agg_\"var\"__isabs_False__qh_0.6__ql_0.4</th>\n",
       "      <th>4__autocorrelation__lag_6</th>\n",
       "      <th>3__augmented_dickey_fuller__attr_\"usedlag\"__autolag_\"AIC\"</th>\n",
       "      <th>5__symmetry_looking__r_0.15000000000000002</th>\n",
       "      <th>4__large_standard_deviation__r_0.4</th>\n",
       "      <th>2__symmetry_looking__r_0.30000000000000004</th>\n",
       "      <th>5__large_standard_deviation__r_0.4</th>\n",
       "      <th>5__symmetry_looking__r_0.25</th>\n",
       "      <th>4__symmetry_looking__r_0.30000000000000004</th>\n",
       "      <th>4__symmetry_looking__r_0.25</th>\n",
       "    </tr>\n",
       "    <tr>\n",
       "      <th>object_id</th>\n",
       "      <th></th>\n",
       "      <th></th>\n",
       "      <th></th>\n",
       "      <th></th>\n",
       "      <th></th>\n",
       "      <th></th>\n",
       "      <th></th>\n",
       "      <th></th>\n",
       "      <th></th>\n",
       "      <th></th>\n",
       "      <th></th>\n",
       "      <th></th>\n",
       "      <th></th>\n",
       "      <th></th>\n",
       "      <th></th>\n",
       "      <th></th>\n",
       "      <th></th>\n",
       "      <th></th>\n",
       "      <th></th>\n",
       "      <th></th>\n",
       "      <th></th>\n",
       "    </tr>\n",
       "  </thead>\n",
       "  <tbody>\n",
       "    <tr>\n",
       "      <th>615</th>\n",
       "      <td>300.935462</td>\n",
       "      <td>118501.387659</td>\n",
       "      <td>281.969497</td>\n",
       "      <td>31194.984390</td>\n",
       "      <td>539.933301</td>\n",
       "      <td>108354.752421</td>\n",
       "      <td>425.894203</td>\n",
       "      <td>208.143351</td>\n",
       "      <td>42478.340233</td>\n",
       "      <td>657.025941</td>\n",
       "      <td>...</td>\n",
       "      <td>10761.229809</td>\n",
       "      <td>0.058400</td>\n",
       "      <td>2.0</td>\n",
       "      <td>1.0</td>\n",
       "      <td>0.0</td>\n",
       "      <td>1.0</td>\n",
       "      <td>0.0</td>\n",
       "      <td>1.0</td>\n",
       "      <td>1.0</td>\n",
       "      <td>1.0</td>\n",
       "    </tr>\n",
       "    <tr>\n",
       "      <th>713</th>\n",
       "      <td>1.561348</td>\n",
       "      <td>3.407380</td>\n",
       "      <td>2.876058</td>\n",
       "      <td>1.424327</td>\n",
       "      <td>2.138922</td>\n",
       "      <td>13.690853</td>\n",
       "      <td>2.120542</td>\n",
       "      <td>1.714702</td>\n",
       "      <td>5.520683</td>\n",
       "      <td>2.241918</td>\n",
       "      <td>...</td>\n",
       "      <td>1.129268</td>\n",
       "      <td>0.629594</td>\n",
       "      <td>2.0</td>\n",
       "      <td>1.0</td>\n",
       "      <td>0.0</td>\n",
       "      <td>1.0</td>\n",
       "      <td>0.0</td>\n",
       "      <td>1.0</td>\n",
       "      <td>1.0</td>\n",
       "      <td>1.0</td>\n",
       "    </tr>\n",
       "    <tr>\n",
       "      <th>730</th>\n",
       "      <td>0.858019</td>\n",
       "      <td>1.172991</td>\n",
       "      <td>1.744106</td>\n",
       "      <td>0.470820</td>\n",
       "      <td>1.543100</td>\n",
       "      <td>4.390104</td>\n",
       "      <td>1.996276</td>\n",
       "      <td>1.875823</td>\n",
       "      <td>1.350531</td>\n",
       "      <td>1.845462</td>\n",
       "      <td>...</td>\n",
       "      <td>0.090832</td>\n",
       "      <td>0.066051</td>\n",
       "      <td>0.0</td>\n",
       "      <td>1.0</td>\n",
       "      <td>0.0</td>\n",
       "      <td>1.0</td>\n",
       "      <td>0.0</td>\n",
       "      <td>1.0</td>\n",
       "      <td>1.0</td>\n",
       "      <td>1.0</td>\n",
       "    </tr>\n",
       "    <tr>\n",
       "      <th>745</th>\n",
       "      <td>1.394411</td>\n",
       "      <td>4.698467</td>\n",
       "      <td>1.697170</td>\n",
       "      <td>3.031026</td>\n",
       "      <td>6.224206</td>\n",
       "      <td>5.070577</td>\n",
       "      <td>12.356502</td>\n",
       "      <td>2.672516</td>\n",
       "      <td>2.364372</td>\n",
       "      <td>8.485260</td>\n",
       "      <td>...</td>\n",
       "      <td>0.133846</td>\n",
       "      <td>0.089490</td>\n",
       "      <td>0.0</td>\n",
       "      <td>1.0</td>\n",
       "      <td>0.0</td>\n",
       "      <td>1.0</td>\n",
       "      <td>0.0</td>\n",
       "      <td>1.0</td>\n",
       "      <td>1.0</td>\n",
       "      <td>1.0</td>\n",
       "    </tr>\n",
       "    <tr>\n",
       "      <th>1124</th>\n",
       "      <td>0.987417</td>\n",
       "      <td>1.670091</td>\n",
       "      <td>1.275860</td>\n",
       "      <td>0.770273</td>\n",
       "      <td>3.316546</td>\n",
       "      <td>3.103657</td>\n",
       "      <td>6.491404</td>\n",
       "      <td>1.562860</td>\n",
       "      <td>1.641119</td>\n",
       "      <td>2.772622</td>\n",
       "      <td>...</td>\n",
       "      <td>0.745799</td>\n",
       "      <td>0.094736</td>\n",
       "      <td>0.0</td>\n",
       "      <td>1.0</td>\n",
       "      <td>0.0</td>\n",
       "      <td>1.0</td>\n",
       "      <td>0.0</td>\n",
       "      <td>1.0</td>\n",
       "      <td>1.0</td>\n",
       "      <td>1.0</td>\n",
       "    </tr>\n",
       "    <tr>\n",
       "      <th>...</th>\n",
       "      <td>...</td>\n",
       "      <td>...</td>\n",
       "      <td>...</td>\n",
       "      <td>...</td>\n",
       "      <td>...</td>\n",
       "      <td>...</td>\n",
       "      <td>...</td>\n",
       "      <td>...</td>\n",
       "      <td>...</td>\n",
       "      <td>...</td>\n",
       "      <td>...</td>\n",
       "      <td>...</td>\n",
       "      <td>...</td>\n",
       "      <td>...</td>\n",
       "      <td>...</td>\n",
       "      <td>...</td>\n",
       "      <td>...</td>\n",
       "      <td>...</td>\n",
       "      <td>...</td>\n",
       "      <td>...</td>\n",
       "      <td>...</td>\n",
       "    </tr>\n",
       "    <tr>\n",
       "      <th>130739978</th>\n",
       "      <td>3.262261</td>\n",
       "      <td>15.835636</td>\n",
       "      <td>2.922762</td>\n",
       "      <td>5.524589</td>\n",
       "      <td>38.026759</td>\n",
       "      <td>13.032673</td>\n",
       "      <td>11.791437</td>\n",
       "      <td>10.948467</td>\n",
       "      <td>5.185756</td>\n",
       "      <td>27.505493</td>\n",
       "      <td>...</td>\n",
       "      <td>0.000000</td>\n",
       "      <td>0.020870</td>\n",
       "      <td>0.0</td>\n",
       "      <td>1.0</td>\n",
       "      <td>0.0</td>\n",
       "      <td>1.0</td>\n",
       "      <td>0.0</td>\n",
       "      <td>1.0</td>\n",
       "      <td>1.0</td>\n",
       "      <td>1.0</td>\n",
       "    </tr>\n",
       "    <tr>\n",
       "      <th>130755807</th>\n",
       "      <td>3.741628</td>\n",
       "      <td>10.221534</td>\n",
       "      <td>6.141984</td>\n",
       "      <td>2.677271</td>\n",
       "      <td>21.583167</td>\n",
       "      <td>32.756064</td>\n",
       "      <td>5.288134</td>\n",
       "      <td>7.859016</td>\n",
       "      <td>32.756064</td>\n",
       "      <td>13.791179</td>\n",
       "      <td>...</td>\n",
       "      <td>0.000000</td>\n",
       "      <td>-0.161550</td>\n",
       "      <td>0.0</td>\n",
       "      <td>1.0</td>\n",
       "      <td>0.0</td>\n",
       "      <td>1.0</td>\n",
       "      <td>0.0</td>\n",
       "      <td>1.0</td>\n",
       "      <td>1.0</td>\n",
       "      <td>1.0</td>\n",
       "    </tr>\n",
       "    <tr>\n",
       "      <th>130762946</th>\n",
       "      <td>18.772186</td>\n",
       "      <td>526.373570</td>\n",
       "      <td>18.937071</td>\n",
       "      <td>187.111115</td>\n",
       "      <td>9.196110</td>\n",
       "      <td>358.612677</td>\n",
       "      <td>28.954324</td>\n",
       "      <td>9.477104</td>\n",
       "      <td>40.750457</td>\n",
       "      <td>20.396381</td>\n",
       "      <td>...</td>\n",
       "      <td>0.000000</td>\n",
       "      <td>0.008401</td>\n",
       "      <td>0.0</td>\n",
       "      <td>1.0</td>\n",
       "      <td>0.0</td>\n",
       "      <td>1.0</td>\n",
       "      <td>0.0</td>\n",
       "      <td>1.0</td>\n",
       "      <td>1.0</td>\n",
       "      <td>1.0</td>\n",
       "    </tr>\n",
       "    <tr>\n",
       "      <th>130772921</th>\n",
       "      <td>1.594728</td>\n",
       "      <td>5.073099</td>\n",
       "      <td>3.036285</td>\n",
       "      <td>2.594708</td>\n",
       "      <td>108.366319</td>\n",
       "      <td>14.494310</td>\n",
       "      <td>6.906704</td>\n",
       "      <td>7.224569</td>\n",
       "      <td>5.561326</td>\n",
       "      <td>67.116401</td>\n",
       "      <td>...</td>\n",
       "      <td>0.000000</td>\n",
       "      <td>-0.301148</td>\n",
       "      <td>0.0</td>\n",
       "      <td>1.0</td>\n",
       "      <td>0.0</td>\n",
       "      <td>1.0</td>\n",
       "      <td>0.0</td>\n",
       "      <td>1.0</td>\n",
       "      <td>1.0</td>\n",
       "      <td>1.0</td>\n",
       "    </tr>\n",
       "    <tr>\n",
       "      <th>130779836</th>\n",
       "      <td>229.319370</td>\n",
       "      <td>53436.226518</td>\n",
       "      <td>81.179225</td>\n",
       "      <td>53436.226518</td>\n",
       "      <td>837.578487</td>\n",
       "      <td>15038.991791</td>\n",
       "      <td>3785.926306</td>\n",
       "      <td>296.072864</td>\n",
       "      <td>8450.147347</td>\n",
       "      <td>545.537893</td>\n",
       "      <td>...</td>\n",
       "      <td>0.000000</td>\n",
       "      <td>-0.095011</td>\n",
       "      <td>9.0</td>\n",
       "      <td>1.0</td>\n",
       "      <td>0.0</td>\n",
       "      <td>1.0</td>\n",
       "      <td>0.0</td>\n",
       "      <td>1.0</td>\n",
       "      <td>1.0</td>\n",
       "      <td>1.0</td>\n",
       "    </tr>\n",
       "  </tbody>\n",
       "</table>\n",
       "<p>7848 rows × 1391 columns</p>\n",
       "</div>"
      ],
      "text/plain": [
       "           2__change_quantiles__f_agg_\"mean\"__isabs_True__qh_0.8__ql_0.2  \\\n",
       "object_id                                                                  \n",
       "615                                               300.935462               \n",
       "713                                                 1.561348               \n",
       "730                                                 0.858019               \n",
       "745                                                 1.394411               \n",
       "1124                                                0.987417               \n",
       "...                                                      ...               \n",
       "130739978                                           3.262261               \n",
       "130755807                                           3.741628               \n",
       "130762946                                          18.772186               \n",
       "130772921                                           1.594728               \n",
       "130779836                                         229.319370               \n",
       "\n",
       "           2__change_quantiles__f_agg_\"var\"__isabs_False__qh_0.8__ql_0.2  \\\n",
       "object_id                                                                  \n",
       "615                                            118501.387659               \n",
       "713                                                 3.407380               \n",
       "730                                                 1.172991               \n",
       "745                                                 4.698467               \n",
       "1124                                                1.670091               \n",
       "...                                                      ...               \n",
       "130739978                                          15.835636               \n",
       "130755807                                          10.221534               \n",
       "130762946                                         526.373570               \n",
       "130772921                                           5.073099               \n",
       "130779836                                       53436.226518               \n",
       "\n",
       "           3__change_quantiles__f_agg_\"mean\"__isabs_True__qh_0.8__ql_0.2  \\\n",
       "object_id                                                                  \n",
       "615                                               281.969497               \n",
       "713                                                 2.876058               \n",
       "730                                                 1.744106               \n",
       "745                                                 1.697170               \n",
       "1124                                                1.275860               \n",
       "...                                                      ...               \n",
       "130739978                                           2.922762               \n",
       "130755807                                           6.141984               \n",
       "130762946                                          18.937071               \n",
       "130772921                                           3.036285               \n",
       "130779836                                          81.179225               \n",
       "\n",
       "           2__change_quantiles__f_agg_\"var\"__isabs_True__qh_0.8__ql_0.2  \\\n",
       "object_id                                                                 \n",
       "615                                             31194.984390              \n",
       "713                                                 1.424327              \n",
       "730                                                 0.470820              \n",
       "745                                                 3.031026              \n",
       "1124                                                0.770273              \n",
       "...                                                      ...              \n",
       "130739978                                           5.524589              \n",
       "130755807                                           2.677271              \n",
       "130762946                                         187.111115              \n",
       "130772921                                           2.594708              \n",
       "130779836                                       53436.226518              \n",
       "\n",
       "           1__change_quantiles__f_agg_\"mean\"__isabs_True__qh_1.0__ql_0.2  \\\n",
       "object_id                                                                  \n",
       "615                                               539.933301               \n",
       "713                                                 2.138922               \n",
       "730                                                 1.543100               \n",
       "745                                                 6.224206               \n",
       "1124                                                3.316546               \n",
       "...                                                      ...               \n",
       "130739978                                          38.026759               \n",
       "130755807                                          21.583167               \n",
       "130762946                                           9.196110               \n",
       "130772921                                         108.366319               \n",
       "130779836                                         837.578487               \n",
       "\n",
       "           3__change_quantiles__f_agg_\"var\"__isabs_False__qh_0.8__ql_0.2  \\\n",
       "object_id                                                                  \n",
       "615                                            108354.752421               \n",
       "713                                                13.690853               \n",
       "730                                                 4.390104               \n",
       "745                                                 5.070577               \n",
       "1124                                                3.103657               \n",
       "...                                                      ...               \n",
       "130739978                                          13.032673               \n",
       "130755807                                          32.756064               \n",
       "130762946                                         358.612677               \n",
       "130772921                                          14.494310               \n",
       "130779836                                       15038.991791               \n",
       "\n",
       "           2__change_quantiles__f_agg_\"mean\"__isabs_True__qh_1.0__ql_0.2  \\\n",
       "object_id                                                                  \n",
       "615                                               425.894203               \n",
       "713                                                 2.120542               \n",
       "730                                                 1.996276               \n",
       "745                                                12.356502               \n",
       "1124                                                6.491404               \n",
       "...                                                      ...               \n",
       "130739978                                          11.791437               \n",
       "130755807                                           5.288134               \n",
       "130762946                                          28.954324               \n",
       "130772921                                           6.906704               \n",
       "130779836                                        3785.926306               \n",
       "\n",
       "           4__change_quantiles__f_agg_\"mean\"__isabs_True__qh_0.8__ql_0.2  \\\n",
       "object_id                                                                  \n",
       "615                                               208.143351               \n",
       "713                                                 1.714702               \n",
       "730                                                 1.875823               \n",
       "745                                                 2.672516               \n",
       "1124                                                1.562860               \n",
       "...                                                      ...               \n",
       "130739978                                          10.948467               \n",
       "130755807                                           7.859016               \n",
       "130762946                                           9.477104               \n",
       "130772921                                           7.224569               \n",
       "130779836                                         296.072864               \n",
       "\n",
       "           3__change_quantiles__f_agg_\"var\"__isabs_True__qh_0.8__ql_0.2  \\\n",
       "object_id                                                                 \n",
       "615                                             42478.340233              \n",
       "713                                                 5.520683              \n",
       "730                                                 1.350531              \n",
       "745                                                 2.364372              \n",
       "1124                                                1.641119              \n",
       "...                                                      ...              \n",
       "130739978                                           5.185756              \n",
       "130755807                                          32.756064              \n",
       "130762946                                          40.750457              \n",
       "130772921                                           5.561326              \n",
       "130779836                                        8450.147347              \n",
       "\n",
       "           1__mean_abs_change  ...  \\\n",
       "object_id                      ...   \n",
       "615                657.025941  ...   \n",
       "713                  2.241918  ...   \n",
       "730                  1.845462  ...   \n",
       "745                  8.485260  ...   \n",
       "1124                 2.772622  ...   \n",
       "...                       ...  ...   \n",
       "130739978           27.505493  ...   \n",
       "130755807           13.791179  ...   \n",
       "130762946           20.396381  ...   \n",
       "130772921           67.116401  ...   \n",
       "130779836          545.537893  ...   \n",
       "\n",
       "           1__change_quantiles__f_agg_\"var\"__isabs_False__qh_0.6__ql_0.4  \\\n",
       "object_id                                                                  \n",
       "615                                             10761.229809               \n",
       "713                                                 1.129268               \n",
       "730                                                 0.090832               \n",
       "745                                                 0.133846               \n",
       "1124                                                0.745799               \n",
       "...                                                      ...               \n",
       "130739978                                           0.000000               \n",
       "130755807                                           0.000000               \n",
       "130762946                                           0.000000               \n",
       "130772921                                           0.000000               \n",
       "130779836                                           0.000000               \n",
       "\n",
       "           4__autocorrelation__lag_6  \\\n",
       "object_id                              \n",
       "615                         0.058400   \n",
       "713                         0.629594   \n",
       "730                         0.066051   \n",
       "745                         0.089490   \n",
       "1124                        0.094736   \n",
       "...                              ...   \n",
       "130739978                   0.020870   \n",
       "130755807                  -0.161550   \n",
       "130762946                   0.008401   \n",
       "130772921                  -0.301148   \n",
       "130779836                  -0.095011   \n",
       "\n",
       "           3__augmented_dickey_fuller__attr_\"usedlag\"__autolag_\"AIC\"  \\\n",
       "object_id                                                              \n",
       "615                                                      2.0           \n",
       "713                                                      2.0           \n",
       "730                                                      0.0           \n",
       "745                                                      0.0           \n",
       "1124                                                     0.0           \n",
       "...                                                      ...           \n",
       "130739978                                                0.0           \n",
       "130755807                                                0.0           \n",
       "130762946                                                0.0           \n",
       "130772921                                                0.0           \n",
       "130779836                                                9.0           \n",
       "\n",
       "           5__symmetry_looking__r_0.15000000000000002  \\\n",
       "object_id                                               \n",
       "615                                               1.0   \n",
       "713                                               1.0   \n",
       "730                                               1.0   \n",
       "745                                               1.0   \n",
       "1124                                              1.0   \n",
       "...                                               ...   \n",
       "130739978                                         1.0   \n",
       "130755807                                         1.0   \n",
       "130762946                                         1.0   \n",
       "130772921                                         1.0   \n",
       "130779836                                         1.0   \n",
       "\n",
       "           4__large_standard_deviation__r_0.4  \\\n",
       "object_id                                       \n",
       "615                                       0.0   \n",
       "713                                       0.0   \n",
       "730                                       0.0   \n",
       "745                                       0.0   \n",
       "1124                                      0.0   \n",
       "...                                       ...   \n",
       "130739978                                 0.0   \n",
       "130755807                                 0.0   \n",
       "130762946                                 0.0   \n",
       "130772921                                 0.0   \n",
       "130779836                                 0.0   \n",
       "\n",
       "           2__symmetry_looking__r_0.30000000000000004  \\\n",
       "object_id                                               \n",
       "615                                               1.0   \n",
       "713                                               1.0   \n",
       "730                                               1.0   \n",
       "745                                               1.0   \n",
       "1124                                              1.0   \n",
       "...                                               ...   \n",
       "130739978                                         1.0   \n",
       "130755807                                         1.0   \n",
       "130762946                                         1.0   \n",
       "130772921                                         1.0   \n",
       "130779836                                         1.0   \n",
       "\n",
       "           5__large_standard_deviation__r_0.4  5__symmetry_looking__r_0.25  \\\n",
       "object_id                                                                    \n",
       "615                                       0.0                          1.0   \n",
       "713                                       0.0                          1.0   \n",
       "730                                       0.0                          1.0   \n",
       "745                                       0.0                          1.0   \n",
       "1124                                      0.0                          1.0   \n",
       "...                                       ...                          ...   \n",
       "130739978                                 0.0                          1.0   \n",
       "130755807                                 0.0                          1.0   \n",
       "130762946                                 0.0                          1.0   \n",
       "130772921                                 0.0                          1.0   \n",
       "130779836                                 0.0                          1.0   \n",
       "\n",
       "           4__symmetry_looking__r_0.30000000000000004  \\\n",
       "object_id                                               \n",
       "615                                               1.0   \n",
       "713                                               1.0   \n",
       "730                                               1.0   \n",
       "745                                               1.0   \n",
       "1124                                              1.0   \n",
       "...                                               ...   \n",
       "130739978                                         1.0   \n",
       "130755807                                         1.0   \n",
       "130762946                                         1.0   \n",
       "130772921                                         1.0   \n",
       "130779836                                         1.0   \n",
       "\n",
       "           4__symmetry_looking__r_0.25  \n",
       "object_id                               \n",
       "615                                1.0  \n",
       "713                                1.0  \n",
       "730                                1.0  \n",
       "745                                1.0  \n",
       "1124                               1.0  \n",
       "...                                ...  \n",
       "130739978                          1.0  \n",
       "130755807                          1.0  \n",
       "130762946                          1.0  \n",
       "130772921                          1.0  \n",
       "130779836                          1.0  \n",
       "\n",
       "[7848 rows x 1391 columns]"
      ]
     },
     "execution_count": 74,
     "metadata": {},
     "output_type": "execute_result"
    }
   ],
   "source": [
    "selected_features"
   ]
  },
  {
   "cell_type": "markdown",
   "metadata": {},
   "source": [
    "So, we got 1391 features to work with."
   ]
  },
  {
   "cell_type": "markdown",
   "metadata": {},
   "source": [
    "Then, I divided the dataset in train and test."
   ]
  },
  {
   "cell_type": "code",
   "execution_count": 90,
   "metadata": {},
   "outputs": [],
   "source": [
    "random.seed = 0\n",
    "idx = selected_features.index.to_list()\n",
    "random.shuffle(idx)\n",
    "\n",
    "train_size = 0.8\n",
    "\n",
    "idx_train = idx[:int(len(idx)*train_size)]\n",
    "idx_test = idx[int(len(idx)*train_size):]\n",
    "\n",
    "classes_to_labels = {90:0, 42:1, 65:2, 16:3, 15:4, 62:5, 88:6, 92:7, 67:8, 52:9, 95:10, 6:11, 64:12, 53:13}\n",
    "labels_to_classes = {0:90, 1:42, 2:65, 3:16, 4:15, 5:62, 6:88, 7:92, 8:67, 9:52, 10:95, 11:6, 12:64, 13:53}\n",
    "\n",
    "data_train = selected_features.loc[idx_train]\n",
    "data_test = selected_features.loc[idx_test]\n",
    "x_train = np.array(data_train)\n",
    "y_train = np.array([classes_to_labels[x] for x in training_set_metadata['target'].loc[idx_train]])\n",
    "x_test = np.array(data_test)\n",
    "y_test = np.array([classes_to_labels[x] for x in training_set_metadata['target'].loc[idx_test]])"
   ]
  },
  {
   "cell_type": "code",
   "execution_count": 76,
   "metadata": {},
   "outputs": [
    {
     "name": "stdout",
     "output_type": "stream",
     "text": [
      "(6278, 1391) (1570, 1391)\n"
     ]
    }
   ],
   "source": [
    "print(x_train.shape, x_test.shape)"
   ]
  },
  {
   "cell_type": "code",
   "execution_count": 133,
   "metadata": {},
   "outputs": [],
   "source": [
    "batch_size = 32\n",
    "\n",
    "train_loader = torch.utils.data.DataLoader(torch.utils.data.TensorDataset(torch.tensor(x_train), torch.tensor(y_train)), batch_size=batch_size, shuffle=True)\n",
    "test_loader = torch.utils.data.DataLoader(torch.utils.data.TensorDataset(torch.tensor(x_test), torch.tensor(y_test)), batch_size=batch_size, shuffle=False)"
   ]
  },
  {
   "cell_type": "code",
   "execution_count": 78,
   "metadata": {},
   "outputs": [
    {
     "data": {
      "text/plain": [
       "torch.float64"
      ]
     },
     "execution_count": 78,
     "metadata": {},
     "output_type": "execute_result"
    }
   ],
   "source": [
    "x_train.dtype"
   ]
  },
  {
   "cell_type": "markdown",
   "metadata": {},
   "source": [
    "The dataset is prepared for train and test. Now the neural network model must be implemented."
   ]
  },
  {
   "cell_type": "markdown",
   "metadata": {},
   "source": [
    "#### Model"
   ]
  },
  {
   "cell_type": "markdown",
   "metadata": {},
   "source": [
    "We want to be able to train our model on a hardware accelerator like the GPU, if it is available. Let’s check to see if torch.cuda is available, else we continue to use the CPU."
   ]
  },
  {
   "cell_type": "code",
   "execution_count": 193,
   "metadata": {},
   "outputs": [
    {
     "name": "stdout",
     "output_type": "stream",
     "text": [
      "Using cuda device\n"
     ]
    }
   ],
   "source": [
    "device = \"cuda\" if torch.cuda.is_available() else \"cpu\"\n",
    "print(f\"Using {device} device\")"
   ]
  },
  {
   "cell_type": "markdown",
   "metadata": {},
   "source": [
    "We define our class"
   ]
  },
  {
   "cell_type": "code",
   "execution_count": 194,
   "metadata": {},
   "outputs": [],
   "source": [
    "input_size = 1391 #number of features per object\n",
    "output_size = 14 #classes to classify \n",
    "modes = 15\n",
    "width = 2"
   ]
  },
  {
   "cell_type": "markdown",
   "metadata": {},
   "source": [
    "IMP. I modified the Fourier Neural Operator from \n",
    "`\n",
    "@misc{li2021fourier,\n",
    "title={Fourier Neural Operator for Parametric Partial Differential Equations},\n",
    "author={Zongyi Li and Nikola Kovachki and Kamyar Azizzadenesheli and Burigede Liu and Kaushik Bhattacharya and Andrew Stuart and Anima Anandkumar},\n",
    "year={2021},\n",
    "eprint={2010.08895},\n",
    "archivePrefix={arXiv},\n",
    "primaryClass={cs.LG}\n",
    "}`"
   ]
  },
  {
   "cell_type": "code",
   "execution_count": 203,
   "metadata": {},
   "outputs": [],
   "source": [
    "class SpectralConv1d(nn.Module):\n",
    "    def __init__(self, in_channels, out_channels, modes):\n",
    "        super(SpectralConv1d, self).__init__()\n",
    "\n",
    "        \"\"\"\n",
    "        1D Fourier layer. It does FFT, linear transform, and Inverse FFT.    \n",
    "        \"\"\"\n",
    "\n",
    "        self.in_channels = in_channels\n",
    "        self.out_channels = out_channels\n",
    "        self.modes = modes  #Number of Fourier modes to multiply, at most floor(N/2) + 1\n",
    "        \n",
    "        self.scale = (1 / (in_channels*out_channels))\n",
    "        self.weights = nn.Parameter(self.scale * torch.rand(in_channels, out_channels, self.modes, dtype=torch.cfloat))\n",
    "\n",
    "    # Complex multiplication\n",
    "    def compl_mul1d(self, input, weights):\n",
    "        # (batch, in_channel, x ), (in_channel, out_channel, x) -> (batch, out_channel, x)\n",
    "        return torch.einsum(\"bix,iox->box\", input, weights)\n",
    "\n",
    "    def forward(self, x):\n",
    "        batchsize = x.shape[0]\n",
    "        #Compute Fourier coeffcients up to factor of e^(- something constant)\n",
    "        x_ft = torch.fft.rfft(x)\n",
    "\n",
    "        # Multiply relevant Fourier modes\n",
    "        out_ft = torch.zeros(batchsize, self.out_channels, x.size(-1)//2 + 1,  device=x.device, dtype=torch.cfloat)\n",
    "        out_ft[:, :, :self.modes] = self.compl_mul1d(x_ft[:, :, :self.modes], self.weights)\n",
    "\n",
    "        #Return to physical space\n",
    "        x = torch.fft.irfft(out_ft, n=x.size(-1))\n",
    "        return x"
   ]
  },
  {
   "cell_type": "code",
   "execution_count": 204,
   "metadata": {},
   "outputs": [],
   "source": [
    "class FourierNeuralNetwork(nn.Module):\n",
    "    def __init__(self, modes, width, input_size):\n",
    "        super(FourierNeuralNetwork, self).__init__()\n",
    "        self.width = width\n",
    "        self.modes = modes\n",
    "        \n",
    "        self.fc0 = nn.Linear(1, self.width)\n",
    "\n",
    "        self.padding = 2 # pad the domain if input is non-periodic\n",
    "\n",
    "        self.conv0 = SpectralConv1d(self.width, self.width, self.modes)\n",
    "        self.conv1 = SpectralConv1d(self.width, self.width, self.modes)\n",
    "\n",
    "        self.w0 = nn.Conv1d(self.width, self.width, 1)\n",
    "        self.w1 = nn.Conv1d(self.width, self.width, 1)\n",
    "\n",
    "\n",
    "        self.fc1 = nn.Linear(input_size*self.width, 280)\n",
    "        self.fc2 = nn.Linear(280, 14)\n",
    "        self.softmax = nn.Softmax(dim=1)\n",
    "\n",
    "    def forward(self, x):\n",
    "        x = x[:,:,None]\n",
    "        x = self.fc0(x)\n",
    "        x = x.permute(0, 2, 1)\n",
    "        x = torch.nn.functional.pad(x, [0,self.padding]) # pad the domain if input is non-periodic\n",
    "\n",
    "        x1 = self.conv0(x)\n",
    "        x2 = self.w0(x)\n",
    "        x = x1 + x2\n",
    "        x = torch.nn.functional.gelu(x)\n",
    "\n",
    "        x1 = self.conv1(x)\n",
    "        x2 = self.w1(x)\n",
    "        x = x1 + x2\n",
    "        x = torch.nn.functional.gelu(x)\n",
    "\n",
    "        x = x[..., :-self.padding] # pad the domain if input is non-periodic\n",
    "        x = x.permute(0, 2, 1)\n",
    "        x = torch.flatten(x, 1) # flatten all dimensions except batch\n",
    "\n",
    "        x = self.fc1(x)\n",
    "        x = torch.nn.functional.gelu(x)\n",
    "\n",
    "        x = self.fc2(x)\n",
    "        x = self.softmax(x)\n",
    "        return x\n",
    "    "
   ]
  },
  {
   "cell_type": "code",
   "execution_count": 205,
   "metadata": {},
   "outputs": [],
   "source": [
    "learning_rate = 0.001\n",
    "\n",
    "epochs = 500\n",
    "step_size = 50\n",
    "gamma = 0.5"
   ]
  },
  {
   "cell_type": "code",
   "execution_count": 206,
   "metadata": {},
   "outputs": [
    {
     "name": "stdout",
     "output_type": "stream",
     "text": [
      "FourierNeuralNetwork(\n",
      "  (fc0): Linear(in_features=1, out_features=2, bias=True)\n",
      "  (conv0): SpectralConv1d()\n",
      "  (conv1): SpectralConv1d()\n",
      "  (w0): Conv1d(2, 2, kernel_size=(1,), stride=(1,))\n",
      "  (w1): Conv1d(2, 2, kernel_size=(1,), stride=(1,))\n",
      "  (fc1): Linear(in_features=2782, out_features=280, bias=True)\n",
      "  (fc2): Linear(in_features=280, out_features=14, bias=True)\n",
      "  (softmax): Softmax(dim=1)\n",
      ")\n",
      "783310\n"
     ]
    }
   ],
   "source": [
    "# model\n",
    "model = FourierNeuralNetwork(modes, width, input_size).cuda()\n",
    "print(model)\n",
    "pytorch_total_params = sum(p.numel() for p in model.parameters())\n",
    "print(pytorch_total_params)"
   ]
  },
  {
   "cell_type": "code",
   "execution_count": 207,
   "metadata": {},
   "outputs": [],
   "source": [
    "criterion = nn.CrossEntropyLoss()\n",
    "optimizer = torch.optim.Adam(model.parameters(), lr=learning_rate, weight_decay=1e-4)\n",
    "scheduler = torch.optim.lr_scheduler.StepLR(optimizer, step_size=step_size, gamma=gamma)"
   ]
  },
  {
   "cell_type": "code",
   "execution_count": 200,
   "metadata": {
    "scrolled": true
   },
   "outputs": [
    {
     "name": "stderr",
     "output_type": "stream",
     "text": [
      "  2%|▏         | 10/500 [00:34<28:04,  3.44s/it]"
     ]
    },
    {
     "name": "stdout",
     "output_type": "stream",
     "text": [
      "epoch 10/500, loss=483.9612\n"
     ]
    },
    {
     "name": "stderr",
     "output_type": "stream",
     "text": [
      "  4%|▍         | 20/500 [01:08<27:03,  3.38s/it]"
     ]
    },
    {
     "name": "stdout",
     "output_type": "stream",
     "text": [
      "epoch 20/500, loss=483.6905\n"
     ]
    },
    {
     "name": "stderr",
     "output_type": "stream",
     "text": [
      "  6%|▌         | 30/500 [01:42<27:15,  3.48s/it]"
     ]
    },
    {
     "name": "stdout",
     "output_type": "stream",
     "text": [
      "epoch 30/500, loss=483.9624\n"
     ]
    },
    {
     "name": "stderr",
     "output_type": "stream",
     "text": [
      "  8%|▊         | 40/500 [02:17<26:22,  3.44s/it]"
     ]
    },
    {
     "name": "stdout",
     "output_type": "stream",
     "text": [
      "epoch 40/500, loss=484.0965\n"
     ]
    },
    {
     "name": "stderr",
     "output_type": "stream",
     "text": [
      " 10%|█         | 50/500 [02:51<25:29,  3.40s/it]"
     ]
    },
    {
     "name": "stdout",
     "output_type": "stream",
     "text": [
      "epoch 50/500, loss=483.9616\n"
     ]
    },
    {
     "name": "stderr",
     "output_type": "stream",
     "text": [
      " 12%|█▏        | 60/500 [03:24<24:45,  3.38s/it]"
     ]
    },
    {
     "name": "stdout",
     "output_type": "stream",
     "text": [
      "epoch 60/500, loss=484.0968\n"
     ]
    },
    {
     "name": "stderr",
     "output_type": "stream",
     "text": [
      " 14%|█▍        | 70/500 [03:58<24:18,  3.39s/it]"
     ]
    },
    {
     "name": "stdout",
     "output_type": "stream",
     "text": [
      "epoch 70/500, loss=483.9545\n"
     ]
    },
    {
     "name": "stderr",
     "output_type": "stream",
     "text": [
      " 16%|█▌        | 80/500 [04:32<24:12,  3.46s/it]"
     ]
    },
    {
     "name": "stdout",
     "output_type": "stream",
     "text": [
      "epoch 80/500, loss=483.9719\n"
     ]
    },
    {
     "name": "stderr",
     "output_type": "stream",
     "text": [
      " 18%|█▊        | 90/500 [05:06<22:53,  3.35s/it]"
     ]
    },
    {
     "name": "stdout",
     "output_type": "stream",
     "text": [
      "epoch 90/500, loss=484.0343\n"
     ]
    },
    {
     "name": "stderr",
     "output_type": "stream",
     "text": [
      " 20%|██        | 100/500 [05:40<22:36,  3.39s/it]"
     ]
    },
    {
     "name": "stdout",
     "output_type": "stream",
     "text": [
      "epoch 100/500, loss=484.0969\n"
     ]
    },
    {
     "name": "stderr",
     "output_type": "stream",
     "text": [
      " 22%|██▏       | 110/500 [06:17<24:53,  3.83s/it]"
     ]
    },
    {
     "name": "stdout",
     "output_type": "stream",
     "text": [
      "epoch 110/500, loss=483.9614\n"
     ]
    },
    {
     "name": "stderr",
     "output_type": "stream",
     "text": [
      " 24%|██▍       | 120/500 [06:52<21:55,  3.46s/it]"
     ]
    },
    {
     "name": "stdout",
     "output_type": "stream",
     "text": [
      "epoch 120/500, loss=483.8988\n"
     ]
    },
    {
     "name": "stderr",
     "output_type": "stream",
     "text": [
      " 26%|██▌       | 130/500 [07:25<20:38,  3.35s/it]"
     ]
    },
    {
     "name": "stdout",
     "output_type": "stream",
     "text": [
      "epoch 130/500, loss=483.9614\n"
     ]
    },
    {
     "name": "stderr",
     "output_type": "stream",
     "text": [
      " 28%|██▊       | 140/500 [07:59<19:51,  3.31s/it]"
     ]
    },
    {
     "name": "stdout",
     "output_type": "stream",
     "text": [
      "epoch 140/500, loss=484.0967\n"
     ]
    },
    {
     "name": "stderr",
     "output_type": "stream",
     "text": [
      " 30%|███       | 150/500 [08:33<19:33,  3.35s/it]"
     ]
    },
    {
     "name": "stdout",
     "output_type": "stream",
     "text": [
      "epoch 150/500, loss=483.9301\n"
     ]
    },
    {
     "name": "stderr",
     "output_type": "stream",
     "text": [
      " 32%|███▏      | 160/500 [09:07<20:01,  3.53s/it]"
     ]
    },
    {
     "name": "stdout",
     "output_type": "stream",
     "text": [
      "epoch 160/500, loss=483.8989\n"
     ]
    },
    {
     "name": "stderr",
     "output_type": "stream",
     "text": [
      " 34%|███▍      | 170/500 [09:41<18:01,  3.28s/it]"
     ]
    },
    {
     "name": "stdout",
     "output_type": "stream",
     "text": [
      "epoch 170/500, loss=483.9300\n"
     ]
    },
    {
     "name": "stderr",
     "output_type": "stream",
     "text": [
      " 36%|███▌      | 180/500 [10:15<18:50,  3.53s/it]"
     ]
    },
    {
     "name": "stdout",
     "output_type": "stream",
     "text": [
      "epoch 180/500, loss=483.8364\n"
     ]
    },
    {
     "name": "stderr",
     "output_type": "stream",
     "text": [
      " 38%|███▊      | 190/500 [10:49<16:29,  3.19s/it]"
     ]
    },
    {
     "name": "stdout",
     "output_type": "stream",
     "text": [
      "epoch 190/500, loss=483.7635\n"
     ]
    },
    {
     "name": "stderr",
     "output_type": "stream",
     "text": [
      " 40%|████      | 200/500 [11:27<18:50,  3.77s/it]"
     ]
    },
    {
     "name": "stdout",
     "output_type": "stream",
     "text": [
      "epoch 200/500, loss=484.0653\n"
     ]
    },
    {
     "name": "stderr",
     "output_type": "stream",
     "text": [
      " 42%|████▏     | 210/500 [12:01<16:26,  3.40s/it]"
     ]
    },
    {
     "name": "stdout",
     "output_type": "stream",
     "text": [
      "epoch 210/500, loss=484.0969\n"
     ]
    },
    {
     "name": "stderr",
     "output_type": "stream",
     "text": [
      " 44%|████▍     | 220/500 [12:35<15:42,  3.37s/it]"
     ]
    },
    {
     "name": "stdout",
     "output_type": "stream",
     "text": [
      "epoch 220/500, loss=484.0967\n"
     ]
    },
    {
     "name": "stderr",
     "output_type": "stream",
     "text": [
      " 46%|████▌     | 230/500 [13:09<15:11,  3.38s/it]"
     ]
    },
    {
     "name": "stdout",
     "output_type": "stream",
     "text": [
      "epoch 230/500, loss=483.9612\n"
     ]
    },
    {
     "name": "stderr",
     "output_type": "stream",
     "text": [
      " 48%|████▊     | 240/500 [13:43<15:32,  3.59s/it]"
     ]
    },
    {
     "name": "stdout",
     "output_type": "stream",
     "text": [
      "epoch 240/500, loss=483.9612\n"
     ]
    },
    {
     "name": "stderr",
     "output_type": "stream",
     "text": [
      " 50%|█████     | 250/500 [14:19<14:46,  3.55s/it]"
     ]
    },
    {
     "name": "stdout",
     "output_type": "stream",
     "text": [
      "epoch 250/500, loss=484.2323\n"
     ]
    },
    {
     "name": "stderr",
     "output_type": "stream",
     "text": [
      " 52%|█████▏    | 260/500 [14:53<13:43,  3.43s/it]"
     ]
    },
    {
     "name": "stdout",
     "output_type": "stream",
     "text": [
      "epoch 260/500, loss=483.8259\n"
     ]
    },
    {
     "name": "stderr",
     "output_type": "stream",
     "text": [
      " 54%|█████▍    | 270/500 [15:30<13:43,  3.58s/it]"
     ]
    },
    {
     "name": "stdout",
     "output_type": "stream",
     "text": [
      "epoch 270/500, loss=484.2321\n"
     ]
    },
    {
     "name": "stderr",
     "output_type": "stream",
     "text": [
      " 56%|█████▌    | 280/500 [16:05<12:43,  3.47s/it]"
     ]
    },
    {
     "name": "stdout",
     "output_type": "stream",
     "text": [
      "epoch 280/500, loss=483.8258\n"
     ]
    },
    {
     "name": "stderr",
     "output_type": "stream",
     "text": [
      " 58%|█████▊    | 290/500 [16:42<12:35,  3.60s/it]"
     ]
    },
    {
     "name": "stdout",
     "output_type": "stream",
     "text": [
      "epoch 290/500, loss=483.9614\n"
     ]
    },
    {
     "name": "stderr",
     "output_type": "stream",
     "text": [
      " 60%|██████    | 300/500 [17:17<12:01,  3.61s/it]"
     ]
    },
    {
     "name": "stdout",
     "output_type": "stream",
     "text": [
      "epoch 300/500, loss=483.9613\n"
     ]
    },
    {
     "name": "stderr",
     "output_type": "stream",
     "text": [
      " 62%|██████▏   | 310/500 [17:52<11:21,  3.59s/it]"
     ]
    },
    {
     "name": "stdout",
     "output_type": "stream",
     "text": [
      "epoch 310/500, loss=484.0967\n"
     ]
    },
    {
     "name": "stderr",
     "output_type": "stream",
     "text": [
      " 64%|██████▍   | 320/500 [18:27<10:10,  3.39s/it]"
     ]
    },
    {
     "name": "stdout",
     "output_type": "stream",
     "text": [
      "epoch 320/500, loss=484.0967\n"
     ]
    },
    {
     "name": "stderr",
     "output_type": "stream",
     "text": [
      " 66%|██████▌   | 330/500 [19:01<09:40,  3.42s/it]"
     ]
    },
    {
     "name": "stdout",
     "output_type": "stream",
     "text": [
      "epoch 330/500, loss=483.9613\n"
     ]
    },
    {
     "name": "stderr",
     "output_type": "stream",
     "text": [
      " 68%|██████▊   | 340/500 [19:36<09:18,  3.49s/it]"
     ]
    },
    {
     "name": "stdout",
     "output_type": "stream",
     "text": [
      "epoch 340/500, loss=484.0967\n"
     ]
    },
    {
     "name": "stderr",
     "output_type": "stream",
     "text": [
      " 70%|███████   | 350/500 [20:11<08:46,  3.51s/it]"
     ]
    },
    {
     "name": "stdout",
     "output_type": "stream",
     "text": [
      "epoch 350/500, loss=484.2321\n"
     ]
    },
    {
     "name": "stderr",
     "output_type": "stream",
     "text": [
      " 72%|███████▏  | 360/500 [20:45<07:57,  3.41s/it]"
     ]
    },
    {
     "name": "stdout",
     "output_type": "stream",
     "text": [
      "epoch 360/500, loss=483.9613\n"
     ]
    },
    {
     "name": "stderr",
     "output_type": "stream",
     "text": [
      " 74%|███████▍  | 370/500 [21:19<07:23,  3.42s/it]"
     ]
    },
    {
     "name": "stdout",
     "output_type": "stream",
     "text": [
      "epoch 370/500, loss=483.6905\n"
     ]
    },
    {
     "name": "stderr",
     "output_type": "stream",
     "text": [
      " 76%|███████▌  | 380/500 [21:53<06:42,  3.35s/it]"
     ]
    },
    {
     "name": "stdout",
     "output_type": "stream",
     "text": [
      "epoch 380/500, loss=484.2322\n"
     ]
    },
    {
     "name": "stderr",
     "output_type": "stream",
     "text": [
      " 78%|███████▊  | 390/500 [22:26<06:04,  3.31s/it]"
     ]
    },
    {
     "name": "stdout",
     "output_type": "stream",
     "text": [
      "epoch 390/500, loss=484.0967\n"
     ]
    },
    {
     "name": "stderr",
     "output_type": "stream",
     "text": [
      " 80%|████████  | 400/500 [22:59<05:30,  3.31s/it]"
     ]
    },
    {
     "name": "stdout",
     "output_type": "stream",
     "text": [
      "epoch 400/500, loss=483.9613\n"
     ]
    },
    {
     "name": "stderr",
     "output_type": "stream",
     "text": [
      " 82%|████████▏ | 410/500 [23:33<04:56,  3.29s/it]"
     ]
    },
    {
     "name": "stdout",
     "output_type": "stream",
     "text": [
      "epoch 410/500, loss=483.8259\n"
     ]
    },
    {
     "name": "stderr",
     "output_type": "stream",
     "text": [
      " 84%|████████▍ | 420/500 [24:07<04:36,  3.45s/it]"
     ]
    },
    {
     "name": "stdout",
     "output_type": "stream",
     "text": [
      "epoch 420/500, loss=484.2321\n"
     ]
    },
    {
     "name": "stderr",
     "output_type": "stream",
     "text": [
      " 86%|████████▌ | 430/500 [24:41<03:58,  3.41s/it]"
     ]
    },
    {
     "name": "stdout",
     "output_type": "stream",
     "text": [
      "epoch 430/500, loss=484.0967\n"
     ]
    },
    {
     "name": "stderr",
     "output_type": "stream",
     "text": [
      " 88%|████████▊ | 440/500 [25:16<03:23,  3.40s/it]"
     ]
    },
    {
     "name": "stdout",
     "output_type": "stream",
     "text": [
      "epoch 440/500, loss=484.0967\n"
     ]
    },
    {
     "name": "stderr",
     "output_type": "stream",
     "text": [
      " 90%|█████████ | 450/500 [25:50<02:54,  3.49s/it]"
     ]
    },
    {
     "name": "stdout",
     "output_type": "stream",
     "text": [
      "epoch 450/500, loss=484.0967\n"
     ]
    },
    {
     "name": "stderr",
     "output_type": "stream",
     "text": [
      " 92%|█████████▏| 460/500 [26:24<02:13,  3.34s/it]"
     ]
    },
    {
     "name": "stdout",
     "output_type": "stream",
     "text": [
      "epoch 460/500, loss=483.9613\n"
     ]
    },
    {
     "name": "stderr",
     "output_type": "stream",
     "text": [
      " 94%|█████████▍| 470/500 [26:58<01:41,  3.38s/it]"
     ]
    },
    {
     "name": "stdout",
     "output_type": "stream",
     "text": [
      "epoch 470/500, loss=484.0967\n"
     ]
    },
    {
     "name": "stderr",
     "output_type": "stream",
     "text": [
      " 96%|█████████▌| 480/500 [27:30<01:05,  3.26s/it]"
     ]
    },
    {
     "name": "stdout",
     "output_type": "stream",
     "text": [
      "epoch 480/500, loss=483.8259\n"
     ]
    },
    {
     "name": "stderr",
     "output_type": "stream",
     "text": [
      " 98%|█████████▊| 490/500 [28:03<00:33,  3.33s/it]"
     ]
    },
    {
     "name": "stdout",
     "output_type": "stream",
     "text": [
      "epoch 490/500, loss=483.9613\n"
     ]
    },
    {
     "name": "stderr",
     "output_type": "stream",
     "text": [
      "100%|██████████| 500/500 [28:38<00:00,  3.44s/it]"
     ]
    },
    {
     "name": "stdout",
     "output_type": "stream",
     "text": [
      "epoch 500/500, loss=483.9613\n",
      "Finished Training\n"
     ]
    },
    {
     "name": "stderr",
     "output_type": "stream",
     "text": [
      "\n"
     ]
    }
   ],
   "source": [
    "correct = 0\n",
    "total = 0\n",
    "for epoch in tqdm(range(epochs)):  # loop over the dataset multiple times\n",
    "    model.train()\n",
    "    running_loss = 0.0\n",
    "    for x, y in train_loader:\n",
    "        x, y = x.cuda(), y.type(torch.LongTensor)\n",
    "        y = y.cuda()\n",
    "\n",
    "        # zero the parameter gradients\n",
    "        optimizer.zero_grad()\n",
    "\n",
    "        # forward + backward + optimize\n",
    "        out = model(x.float())\n",
    "        \n",
    "        loss = criterion(out, y)\n",
    "\n",
    "        loss.backward()\n",
    "        optimizer.step()\n",
    "\n",
    "        # print statistics\n",
    "        running_loss += loss.item()\n",
    "        \n",
    "    if (epoch + 1) % 10 == 0:\n",
    "        print(f'epoch {epoch+1}/{epochs}, loss={running_loss:.4f}')\n",
    "    scheduler.step()\n",
    "\n",
    "\n",
    "print('Finished Training')"
   ]
  },
  {
   "cell_type": "code",
   "execution_count": 202,
   "metadata": {},
   "outputs": [
    {
     "name": "stdout",
     "output_type": "stream",
     "text": [
      "Accuracy of the network on the 1570 test objects: 28 %\n"
     ]
    }
   ],
   "source": [
    "model.eval()\n",
    "with torch.no_grad():\n",
    "    for x, y in test_loader:\n",
    "        x, y = x.cuda(), y.cuda()\n",
    "\n",
    "        out = model(x.float())\n",
    "        # the class with the highest energy is what we choose as prediction\n",
    "        _, predicted = torch.max(out.data, 1)\n",
    "        total += y.size(0)\n",
    "        correct += (predicted == y).sum().item()\n",
    "print(f'Accuracy of the network on the 1570 test objects: {100 * correct // total} %')"
   ]
  },
  {
   "cell_type": "markdown",
   "metadata": {},
   "source": [
    "Training with only extracted_features -> 38% (32 size batches)\n",
    "\n",
    "Training with only extracted_features -> 34% (64 size batches)\n",
    "\n",
    "Training with only extracted_features -> 28% (64 size batches) width 2 without padding\n",
    "\n",
    "Training with only extracted_features -> 35% (64 size batches) width 2 with padding\n",
    "\n",
    "Training with only extracted_features -> 36% (32 size batches) width 2 with padding 10 modes\n",
    "\n",
    "Training with only extracted_features -> 36% (32 size batches) width 2 with padding 15 modes"
   ]
  },
  {
   "cell_type": "markdown",
   "metadata": {},
   "source": [
    "The result is not satisfactory. I decided to use other methods:"
   ]
  },
  {
   "cell_type": "code",
   "execution_count": 89,
   "metadata": {},
   "outputs": [],
   "source": [
    "from sklearn.metrics import accuracy_score, log_loss\n",
    "from sklearn.neighbors import KNeighborsClassifier\n",
    "from sklearn.tree import DecisionTreeClassifier\n",
    "from sklearn.ensemble import RandomForestClassifier\n",
    "from sklearn.discriminant_analysis import LinearDiscriminantAnalysis"
   ]
  },
  {
   "cell_type": "code",
   "execution_count": 148,
   "metadata": {},
   "outputs": [
    {
     "name": "stdout",
     "output_type": "stream",
     "text": [
      "==============================\n",
      "KNeighborsClassifier\n",
      "****Results****\n",
      "Accuracy: 49.2994%\n",
      "Log Loss: 11.61741627794788\n",
      "==============================\n",
      "DecisionTreeClassifier\n",
      "****Results****\n",
      "Accuracy: 53.4395%\n",
      "Log Loss: 16.0814302832355\n",
      "==============================\n",
      "RandomForestClassifier\n",
      "****Results****\n",
      "Accuracy: 68.6624%\n",
      "Log Loss: 1.1630728597002553\n",
      "==============================\n",
      "LinearDiscriminantAnalysis\n",
      "****Results****\n",
      "Accuracy: 63.5032%\n",
      "Log Loss: 3.153569491553793\n",
      "==============================\n"
     ]
    }
   ],
   "source": [
    "classifiers = [\n",
    "    KNeighborsClassifier(3),\n",
    "    DecisionTreeClassifier(),\n",
    "    RandomForestClassifier(),\n",
    "    LinearDiscriminantAnalysis()\n",
    "    ]\n",
    "\n",
    "# Logging for Visual Comparison\n",
    "log_cols=[\"Classifier\", \"Accuracy\", \"Log Loss\"]\n",
    "log = pd.DataFrame(columns=log_cols)\n",
    "\n",
    "for clf in classifiers:\n",
    "    clf.fit(x_train, y_train)\n",
    "    name = clf.__class__.__name__\n",
    "    \n",
    "    print(\"=\"*30)\n",
    "    print(name)\n",
    "    \n",
    "    print('****Results****')\n",
    "    train_predictions = clf.predict(x_test)\n",
    "    acc = accuracy_score(y_test, train_predictions)\n",
    "    print(\"Accuracy: {:.4%}\".format(acc))\n",
    "    \n",
    "    train_predictions = clf.predict_proba(x_test)\n",
    "    ll = log_loss(y_test, train_predictions)\n",
    "    print(\"Log Loss: {}\".format(ll))\n",
    "    \n",
    "    log_entry = pd.DataFrame([[name, acc*100, ll]], columns=log_cols)\n",
    "    log = log.append(log_entry)\n",
    "    \n",
    "print(\"=\"*30)"
   ]
  },
  {
   "cell_type": "markdown",
   "metadata": {},
   "source": [
    "I also tried a a multi-layer perceptron, but again I did not get good results."
   ]
  },
  {
   "cell_type": "code",
   "execution_count": 97,
   "metadata": {
    "scrolled": true
   },
   "outputs": [
    {
     "name": "stdout",
     "output_type": "stream",
     "text": [
      "Iteration 1, loss = 31.65554561\n",
      "Iteration 2, loss = 21.92490867\n",
      "Iteration 3, loss = 13.28550670\n",
      "Iteration 4, loss = 8.43755959\n",
      "Iteration 5, loss = 7.42771547\n",
      "Iteration 6, loss = 6.83471697\n",
      "Iteration 7, loss = 6.51305385\n",
      "Iteration 8, loss = 6.16473547\n",
      "Iteration 9, loss = 5.90842184\n",
      "Iteration 10, loss = 5.74013473\n",
      "Iteration 11, loss = 5.54210052\n",
      "Iteration 12, loss = 5.39144260\n",
      "Iteration 13, loss = 5.32644867\n",
      "Iteration 14, loss = 5.24376511\n",
      "Iteration 15, loss = 5.34905293\n",
      "Iteration 16, loss = 5.08883094\n",
      "Iteration 17, loss = 4.95558121\n",
      "Iteration 18, loss = 4.84856394\n",
      "Iteration 19, loss = 4.79625438\n",
      "Iteration 20, loss = 4.69075657\n",
      "Iteration 21, loss = 4.56150118\n",
      "Iteration 22, loss = 4.45831363\n",
      "Iteration 23, loss = 4.39778947\n",
      "Iteration 24, loss = 4.31811652\n",
      "Iteration 25, loss = 4.29554385\n",
      "Iteration 26, loss = 4.25451037\n",
      "Iteration 27, loss = 4.06796296\n",
      "Iteration 28, loss = 3.95260855\n",
      "Iteration 29, loss = 3.90570043\n",
      "Iteration 30, loss = 3.85941896\n",
      "Iteration 31, loss = 3.79285612\n",
      "Iteration 32, loss = 3.75058626\n",
      "Iteration 33, loss = 3.71585129\n",
      "Iteration 34, loss = 3.68148037\n",
      "Iteration 35, loss = 3.60755000\n",
      "Iteration 36, loss = 3.57108435\n",
      "Iteration 37, loss = 3.51108659\n",
      "Iteration 38, loss = 3.48405799\n",
      "Iteration 39, loss = 3.45243765\n",
      "Iteration 40, loss = 3.41055570\n",
      "Iteration 41, loss = 3.35882655\n",
      "Iteration 42, loss = 3.32067845\n",
      "Iteration 43, loss = 3.23659814\n",
      "Iteration 44, loss = 3.19358706\n",
      "Iteration 45, loss = 3.23478729\n",
      "Iteration 46, loss = 3.13276581\n",
      "Iteration 47, loss = 3.09698899\n",
      "Iteration 48, loss = 3.07387381\n",
      "Iteration 49, loss = 3.06056620\n",
      "Iteration 50, loss = 3.06108668\n",
      "Iteration 51, loss = 3.01744318\n",
      "Iteration 52, loss = 3.01005334\n",
      "Iteration 53, loss = 2.98733102\n",
      "Iteration 54, loss = 2.96616482\n",
      "Iteration 55, loss = 2.94957827\n",
      "Iteration 56, loss = 2.92552598\n",
      "Iteration 57, loss = 2.90192814\n",
      "Iteration 58, loss = 2.88937916\n",
      "Iteration 59, loss = 2.83870329\n",
      "Iteration 60, loss = 2.82510816\n",
      "Iteration 61, loss = 2.83023521\n",
      "Iteration 62, loss = 2.80587406\n",
      "Iteration 63, loss = 2.77885439\n",
      "Iteration 64, loss = 2.74641452\n",
      "Iteration 65, loss = 2.73825382\n",
      "Iteration 66, loss = 2.72756201\n",
      "Iteration 67, loss = 2.72437010\n",
      "Iteration 68, loss = 2.71872432\n",
      "Iteration 69, loss = 2.71211519\n",
      "Iteration 70, loss = 2.70017265\n",
      "Iteration 71, loss = 2.69060318\n",
      "Iteration 72, loss = 2.68195049\n",
      "Iteration 73, loss = 2.67940687\n",
      "Iteration 74, loss = 2.67987768\n",
      "Iteration 75, loss = 2.67957566\n",
      "Iteration 76, loss = 2.66247717\n",
      "Iteration 77, loss = 2.65723951\n",
      "Iteration 78, loss = 2.64592957\n",
      "Iteration 79, loss = 2.62721201\n",
      "Iteration 80, loss = 2.62092929\n",
      "Iteration 81, loss = 2.63321115\n",
      "Iteration 82, loss = 2.63604435\n",
      "Iteration 83, loss = 2.60668098\n",
      "Iteration 84, loss = 2.59833742\n",
      "Iteration 85, loss = 2.59177946\n",
      "Iteration 86, loss = 2.57371692\n",
      "Iteration 87, loss = 2.58509212\n",
      "Iteration 88, loss = 2.58528770\n",
      "Iteration 89, loss = 2.56303703\n",
      "Iteration 90, loss = 2.55244973\n",
      "Iteration 91, loss = 2.55239064\n",
      "Iteration 92, loss = 2.53709398\n",
      "Iteration 93, loss = 2.53743838\n",
      "Iteration 94, loss = 2.52598806\n",
      "Iteration 95, loss = 2.50557566\n",
      "Iteration 96, loss = 2.49986795\n",
      "Iteration 97, loss = 2.48900883\n",
      "Iteration 98, loss = 2.47806022\n",
      "Iteration 99, loss = 2.46605405\n",
      "Iteration 100, loss = 2.53543459\n",
      "Iteration 101, loss = 2.55579028\n",
      "Iteration 102, loss = 2.51896733\n",
      "Iteration 103, loss = 2.49350547\n",
      "Iteration 104, loss = 2.47058864\n",
      "Iteration 105, loss = 2.45670882\n",
      "Iteration 106, loss = 2.43343698\n",
      "Iteration 107, loss = 2.41725465\n",
      "Iteration 108, loss = 2.41261715\n",
      "Iteration 109, loss = 2.39870119\n",
      "Iteration 110, loss = 2.38199255\n",
      "Iteration 111, loss = 2.37231241\n",
      "Iteration 112, loss = 2.46172991\n",
      "Iteration 113, loss = 2.60596301\n",
      "Iteration 114, loss = 2.48552610\n",
      "Iteration 115, loss = 2.42783908\n",
      "Iteration 116, loss = 2.40710989\n",
      "Iteration 117, loss = 2.36935169\n",
      "Iteration 118, loss = 2.35356160\n",
      "Iteration 119, loss = 2.35361534\n",
      "Iteration 120, loss = 2.35328172\n",
      "Iteration 121, loss = 2.35937449\n",
      "Iteration 122, loss = 2.33645129\n",
      "Iteration 123, loss = 2.33122558\n",
      "Iteration 124, loss = 2.32599723\n",
      "Iteration 125, loss = 2.33210507\n",
      "Iteration 126, loss = 2.32108913\n",
      "Iteration 127, loss = 2.32114537\n",
      "Iteration 128, loss = 2.32115038\n",
      "Iteration 129, loss = 2.32120310\n",
      "Iteration 130, loss = 2.31594366\n",
      "Iteration 131, loss = 2.31662802\n",
      "Iteration 132, loss = 2.31712532\n",
      "Iteration 133, loss = 2.30759162\n",
      "Iteration 134, loss = 2.30624456\n",
      "Iteration 135, loss = 2.30627026\n",
      "Iteration 136, loss = 2.30630912\n",
      "Iteration 137, loss = 2.29542761\n",
      "Iteration 138, loss = 2.29547943\n",
      "Iteration 139, loss = 2.28466895\n",
      "Iteration 140, loss = 2.28490607\n",
      "Iteration 141, loss = 2.27920840\n",
      "Iteration 142, loss = 2.27396277\n",
      "Iteration 143, loss = 2.27401834\n",
      "Iteration 144, loss = 2.27604004\n",
      "Iteration 145, loss = 2.27473562\n",
      "Iteration 146, loss = 2.26954785\n",
      "Iteration 147, loss = 2.26414558\n",
      "Iteration 148, loss = 2.25873379\n",
      "Iteration 149, loss = 2.25335061\n",
      "Iteration 150, loss = 2.24841240\n",
      "Iteration 151, loss = 2.24846900\n",
      "Iteration 152, loss = 2.24849460\n",
      "Iteration 153, loss = 2.24848637\n",
      "Iteration 154, loss = 2.24915067\n",
      "Iteration 155, loss = 2.24916699\n",
      "Iteration 156, loss = 2.24985521\n",
      "Iteration 157, loss = 2.24990080\n",
      "Iteration 158, loss = 2.24991938\n",
      "Iteration 159, loss = 2.24551636\n",
      "Iteration 160, loss = 2.24555129\n",
      "Iteration 161, loss = 2.24561594\n",
      "Iteration 162, loss = 2.24020274\n",
      "Iteration 163, loss = 2.24054768\n",
      "Iteration 164, loss = 2.24057190\n",
      "Iteration 165, loss = 2.24121724\n",
      "Iteration 166, loss = 2.23610284\n",
      "Iteration 167, loss = 2.23614845\n",
      "Iteration 168, loss = 2.23616373\n",
      "Iteration 169, loss = 2.23616153\n",
      "Iteration 170, loss = 2.23619062\n",
      "Iteration 171, loss = 2.23623186\n",
      "Iteration 172, loss = 2.23690316\n",
      "Iteration 173, loss = 2.23187438\n",
      "Iteration 174, loss = 2.22717661\n",
      "Iteration 175, loss = 2.22269024\n",
      "Iteration 176, loss = 2.22781625\n",
      "Iteration 177, loss = 2.22273847\n",
      "Iteration 178, loss = 2.22275493\n",
      "Iteration 179, loss = 2.20587831\n",
      "Iteration 180, loss = 2.20583560\n",
      "Iteration 181, loss = 2.21159816\n",
      "Iteration 182, loss = 2.20011686\n",
      "Iteration 183, loss = 2.20012478\n",
      "Iteration 184, loss = 2.20012050\n",
      "Iteration 185, loss = 2.20010613\n",
      "Iteration 186, loss = 2.20010020\n",
      "Iteration 187, loss = 2.20013587\n",
      "Iteration 188, loss = 2.20009582\n",
      "Iteration 189, loss = 2.20010713\n",
      "Iteration 190, loss = 2.20012332\n",
      "Iteration 191, loss = 2.20011052\n",
      "Iteration 192, loss = 2.20012278\n",
      "Iteration 193, loss = 2.20012417\n",
      "Training loss did not improve more than tol=0.000100 for 10 consecutive epochs. Stopping.\n",
      "Training set score: 0.307901\n",
      "Test set score: 0.289809\n"
     ]
    }
   ],
   "source": [
    "from sklearn.neural_network import MLPClassifier\n",
    "\n",
    "mlp = MLPClassifier(hidden_layer_sizes=(500, 14), \n",
    "                    max_iter=500, verbose = True)\n",
    "\n",
    "\n",
    "mlp.fit(x_train, y_train)\n",
    "print(\"Training set score: %f\" % mlp.score(x_train, y_train))\n",
    "print(\"Test set score: %f\" % mlp.score(x_test, y_test))"
   ]
  },
  {
   "cell_type": "markdown",
   "metadata": {},
   "source": [
    "The results with Random Forest were the best. Next thing to try was to use the extra data of training_set_metadata."
   ]
  },
  {
   "cell_type": "code",
   "execution_count": 98,
   "metadata": {},
   "outputs": [],
   "source": [
    "extracted_features['ra'] = training_set_metadata['ra']\n",
    "extracted_features['decl'] = training_set_metadata['decl']\n",
    "extracted_features['gal_l'] = training_set_metadata['gal_l']\n",
    "extracted_features['gal_b'] = training_set_metadata['gal_b']\n",
    "extracted_features['ddf'] = training_set_metadata['ddf']\n",
    "extracted_features['hostgal_specz'] = training_set_metadata['hostgal_specz']\n",
    "extracted_features['hostgal_photoz'] = training_set_metadata['hostgal_photoz']\n",
    "extracted_features['hostgal_photoz_err'] = training_set_metadata['hostgal_photoz_err']\n",
    "extracted_features['mwebv'] = training_set_metadata['mwebv']"
   ]
  },
  {
   "cell_type": "code",
   "execution_count": 104,
   "metadata": {},
   "outputs": [],
   "source": [
    "selected_features_2 = feature_selection.select_features(extracted_features, y, ml_task='classification', multiclass=True, n_jobs=0)"
   ]
  },
  {
   "cell_type": "code",
   "execution_count": 105,
   "metadata": {},
   "outputs": [
    {
     "data": {
      "text/html": [
       "<div>\n",
       "<style scoped>\n",
       "    .dataframe tbody tr th:only-of-type {\n",
       "        vertical-align: middle;\n",
       "    }\n",
       "\n",
       "    .dataframe tbody tr th {\n",
       "        vertical-align: top;\n",
       "    }\n",
       "\n",
       "    .dataframe thead th {\n",
       "        text-align: right;\n",
       "    }\n",
       "</style>\n",
       "<table border=\"1\" class=\"dataframe\">\n",
       "  <thead>\n",
       "    <tr style=\"text-align: right;\">\n",
       "      <th></th>\n",
       "      <th>2__change_quantiles__f_agg_\"mean\"__isabs_True__qh_0.8__ql_0.2</th>\n",
       "      <th>2__change_quantiles__f_agg_\"var\"__isabs_False__qh_0.8__ql_0.2</th>\n",
       "      <th>3__change_quantiles__f_agg_\"mean\"__isabs_True__qh_0.8__ql_0.2</th>\n",
       "      <th>2__change_quantiles__f_agg_\"var\"__isabs_True__qh_0.8__ql_0.2</th>\n",
       "      <th>1__change_quantiles__f_agg_\"mean\"__isabs_True__qh_1.0__ql_0.2</th>\n",
       "      <th>3__change_quantiles__f_agg_\"var\"__isabs_False__qh_0.8__ql_0.2</th>\n",
       "      <th>2__change_quantiles__f_agg_\"mean\"__isabs_True__qh_1.0__ql_0.2</th>\n",
       "      <th>4__change_quantiles__f_agg_\"mean\"__isabs_True__qh_0.8__ql_0.2</th>\n",
       "      <th>3__change_quantiles__f_agg_\"var\"__isabs_True__qh_0.8__ql_0.2</th>\n",
       "      <th>1__mean_abs_change</th>\n",
       "      <th>...</th>\n",
       "      <th>1__change_quantiles__f_agg_\"var\"__isabs_False__qh_0.6__ql_0.4</th>\n",
       "      <th>4__autocorrelation__lag_6</th>\n",
       "      <th>3__augmented_dickey_fuller__attr_\"usedlag\"__autolag_\"AIC\"</th>\n",
       "      <th>4__large_standard_deviation__r_0.4</th>\n",
       "      <th>5__symmetry_looking__r_0.15000000000000002</th>\n",
       "      <th>5__symmetry_looking__r_0.25</th>\n",
       "      <th>5__large_standard_deviation__r_0.4</th>\n",
       "      <th>4__symmetry_looking__r_0.25</th>\n",
       "      <th>2__symmetry_looking__r_0.30000000000000004</th>\n",
       "      <th>4__symmetry_looking__r_0.30000000000000004</th>\n",
       "    </tr>\n",
       "    <tr>\n",
       "      <th>object_id</th>\n",
       "      <th></th>\n",
       "      <th></th>\n",
       "      <th></th>\n",
       "      <th></th>\n",
       "      <th></th>\n",
       "      <th></th>\n",
       "      <th></th>\n",
       "      <th></th>\n",
       "      <th></th>\n",
       "      <th></th>\n",
       "      <th></th>\n",
       "      <th></th>\n",
       "      <th></th>\n",
       "      <th></th>\n",
       "      <th></th>\n",
       "      <th></th>\n",
       "      <th></th>\n",
       "      <th></th>\n",
       "      <th></th>\n",
       "      <th></th>\n",
       "      <th></th>\n",
       "    </tr>\n",
       "  </thead>\n",
       "  <tbody>\n",
       "    <tr>\n",
       "      <th>615</th>\n",
       "      <td>300.935462</td>\n",
       "      <td>118501.387659</td>\n",
       "      <td>281.969497</td>\n",
       "      <td>31194.984390</td>\n",
       "      <td>539.933301</td>\n",
       "      <td>108354.752421</td>\n",
       "      <td>425.894203</td>\n",
       "      <td>208.143351</td>\n",
       "      <td>42478.340233</td>\n",
       "      <td>657.025941</td>\n",
       "      <td>...</td>\n",
       "      <td>10761.229809</td>\n",
       "      <td>0.058400</td>\n",
       "      <td>2.0</td>\n",
       "      <td>0.0</td>\n",
       "      <td>1.0</td>\n",
       "      <td>1.0</td>\n",
       "      <td>0.0</td>\n",
       "      <td>1.0</td>\n",
       "      <td>1.0</td>\n",
       "      <td>1.0</td>\n",
       "    </tr>\n",
       "    <tr>\n",
       "      <th>713</th>\n",
       "      <td>1.561348</td>\n",
       "      <td>3.407380</td>\n",
       "      <td>2.876058</td>\n",
       "      <td>1.424327</td>\n",
       "      <td>2.138922</td>\n",
       "      <td>13.690853</td>\n",
       "      <td>2.120542</td>\n",
       "      <td>1.714702</td>\n",
       "      <td>5.520683</td>\n",
       "      <td>2.241918</td>\n",
       "      <td>...</td>\n",
       "      <td>1.129268</td>\n",
       "      <td>0.629594</td>\n",
       "      <td>2.0</td>\n",
       "      <td>0.0</td>\n",
       "      <td>1.0</td>\n",
       "      <td>1.0</td>\n",
       "      <td>0.0</td>\n",
       "      <td>1.0</td>\n",
       "      <td>1.0</td>\n",
       "      <td>1.0</td>\n",
       "    </tr>\n",
       "    <tr>\n",
       "      <th>730</th>\n",
       "      <td>0.858019</td>\n",
       "      <td>1.172991</td>\n",
       "      <td>1.744106</td>\n",
       "      <td>0.470820</td>\n",
       "      <td>1.543100</td>\n",
       "      <td>4.390104</td>\n",
       "      <td>1.996276</td>\n",
       "      <td>1.875823</td>\n",
       "      <td>1.350531</td>\n",
       "      <td>1.845462</td>\n",
       "      <td>...</td>\n",
       "      <td>0.090832</td>\n",
       "      <td>0.066051</td>\n",
       "      <td>0.0</td>\n",
       "      <td>0.0</td>\n",
       "      <td>1.0</td>\n",
       "      <td>1.0</td>\n",
       "      <td>0.0</td>\n",
       "      <td>1.0</td>\n",
       "      <td>1.0</td>\n",
       "      <td>1.0</td>\n",
       "    </tr>\n",
       "    <tr>\n",
       "      <th>745</th>\n",
       "      <td>1.394411</td>\n",
       "      <td>4.698467</td>\n",
       "      <td>1.697170</td>\n",
       "      <td>3.031026</td>\n",
       "      <td>6.224206</td>\n",
       "      <td>5.070577</td>\n",
       "      <td>12.356502</td>\n",
       "      <td>2.672516</td>\n",
       "      <td>2.364372</td>\n",
       "      <td>8.485260</td>\n",
       "      <td>...</td>\n",
       "      <td>0.133846</td>\n",
       "      <td>0.089490</td>\n",
       "      <td>0.0</td>\n",
       "      <td>0.0</td>\n",
       "      <td>1.0</td>\n",
       "      <td>1.0</td>\n",
       "      <td>0.0</td>\n",
       "      <td>1.0</td>\n",
       "      <td>1.0</td>\n",
       "      <td>1.0</td>\n",
       "    </tr>\n",
       "    <tr>\n",
       "      <th>1124</th>\n",
       "      <td>0.987417</td>\n",
       "      <td>1.670091</td>\n",
       "      <td>1.275860</td>\n",
       "      <td>0.770273</td>\n",
       "      <td>3.316546</td>\n",
       "      <td>3.103657</td>\n",
       "      <td>6.491404</td>\n",
       "      <td>1.562860</td>\n",
       "      <td>1.641119</td>\n",
       "      <td>2.772622</td>\n",
       "      <td>...</td>\n",
       "      <td>0.745799</td>\n",
       "      <td>0.094736</td>\n",
       "      <td>0.0</td>\n",
       "      <td>0.0</td>\n",
       "      <td>1.0</td>\n",
       "      <td>1.0</td>\n",
       "      <td>0.0</td>\n",
       "      <td>1.0</td>\n",
       "      <td>1.0</td>\n",
       "      <td>1.0</td>\n",
       "    </tr>\n",
       "    <tr>\n",
       "      <th>...</th>\n",
       "      <td>...</td>\n",
       "      <td>...</td>\n",
       "      <td>...</td>\n",
       "      <td>...</td>\n",
       "      <td>...</td>\n",
       "      <td>...</td>\n",
       "      <td>...</td>\n",
       "      <td>...</td>\n",
       "      <td>...</td>\n",
       "      <td>...</td>\n",
       "      <td>...</td>\n",
       "      <td>...</td>\n",
       "      <td>...</td>\n",
       "      <td>...</td>\n",
       "      <td>...</td>\n",
       "      <td>...</td>\n",
       "      <td>...</td>\n",
       "      <td>...</td>\n",
       "      <td>...</td>\n",
       "      <td>...</td>\n",
       "      <td>...</td>\n",
       "    </tr>\n",
       "    <tr>\n",
       "      <th>130739978</th>\n",
       "      <td>3.262261</td>\n",
       "      <td>15.835636</td>\n",
       "      <td>2.922762</td>\n",
       "      <td>5.524589</td>\n",
       "      <td>38.026759</td>\n",
       "      <td>13.032673</td>\n",
       "      <td>11.791437</td>\n",
       "      <td>10.948467</td>\n",
       "      <td>5.185756</td>\n",
       "      <td>27.505493</td>\n",
       "      <td>...</td>\n",
       "      <td>0.000000</td>\n",
       "      <td>0.020870</td>\n",
       "      <td>0.0</td>\n",
       "      <td>0.0</td>\n",
       "      <td>1.0</td>\n",
       "      <td>1.0</td>\n",
       "      <td>0.0</td>\n",
       "      <td>1.0</td>\n",
       "      <td>1.0</td>\n",
       "      <td>1.0</td>\n",
       "    </tr>\n",
       "    <tr>\n",
       "      <th>130755807</th>\n",
       "      <td>3.741628</td>\n",
       "      <td>10.221534</td>\n",
       "      <td>6.141984</td>\n",
       "      <td>2.677271</td>\n",
       "      <td>21.583167</td>\n",
       "      <td>32.756064</td>\n",
       "      <td>5.288134</td>\n",
       "      <td>7.859016</td>\n",
       "      <td>32.756064</td>\n",
       "      <td>13.791179</td>\n",
       "      <td>...</td>\n",
       "      <td>0.000000</td>\n",
       "      <td>-0.161550</td>\n",
       "      <td>0.0</td>\n",
       "      <td>0.0</td>\n",
       "      <td>1.0</td>\n",
       "      <td>1.0</td>\n",
       "      <td>0.0</td>\n",
       "      <td>1.0</td>\n",
       "      <td>1.0</td>\n",
       "      <td>1.0</td>\n",
       "    </tr>\n",
       "    <tr>\n",
       "      <th>130762946</th>\n",
       "      <td>18.772186</td>\n",
       "      <td>526.373570</td>\n",
       "      <td>18.937071</td>\n",
       "      <td>187.111115</td>\n",
       "      <td>9.196110</td>\n",
       "      <td>358.612677</td>\n",
       "      <td>28.954324</td>\n",
       "      <td>9.477104</td>\n",
       "      <td>40.750457</td>\n",
       "      <td>20.396381</td>\n",
       "      <td>...</td>\n",
       "      <td>0.000000</td>\n",
       "      <td>0.008401</td>\n",
       "      <td>0.0</td>\n",
       "      <td>0.0</td>\n",
       "      <td>1.0</td>\n",
       "      <td>1.0</td>\n",
       "      <td>0.0</td>\n",
       "      <td>1.0</td>\n",
       "      <td>1.0</td>\n",
       "      <td>1.0</td>\n",
       "    </tr>\n",
       "    <tr>\n",
       "      <th>130772921</th>\n",
       "      <td>1.594728</td>\n",
       "      <td>5.073099</td>\n",
       "      <td>3.036285</td>\n",
       "      <td>2.594708</td>\n",
       "      <td>108.366319</td>\n",
       "      <td>14.494310</td>\n",
       "      <td>6.906704</td>\n",
       "      <td>7.224569</td>\n",
       "      <td>5.561326</td>\n",
       "      <td>67.116401</td>\n",
       "      <td>...</td>\n",
       "      <td>0.000000</td>\n",
       "      <td>-0.301148</td>\n",
       "      <td>0.0</td>\n",
       "      <td>0.0</td>\n",
       "      <td>1.0</td>\n",
       "      <td>1.0</td>\n",
       "      <td>0.0</td>\n",
       "      <td>1.0</td>\n",
       "      <td>1.0</td>\n",
       "      <td>1.0</td>\n",
       "    </tr>\n",
       "    <tr>\n",
       "      <th>130779836</th>\n",
       "      <td>229.319370</td>\n",
       "      <td>53436.226518</td>\n",
       "      <td>81.179225</td>\n",
       "      <td>53436.226518</td>\n",
       "      <td>837.578487</td>\n",
       "      <td>15038.991791</td>\n",
       "      <td>3785.926306</td>\n",
       "      <td>296.072864</td>\n",
       "      <td>8450.147347</td>\n",
       "      <td>545.537893</td>\n",
       "      <td>...</td>\n",
       "      <td>0.000000</td>\n",
       "      <td>-0.095011</td>\n",
       "      <td>9.0</td>\n",
       "      <td>0.0</td>\n",
       "      <td>1.0</td>\n",
       "      <td>1.0</td>\n",
       "      <td>0.0</td>\n",
       "      <td>1.0</td>\n",
       "      <td>1.0</td>\n",
       "      <td>1.0</td>\n",
       "    </tr>\n",
       "  </tbody>\n",
       "</table>\n",
       "<p>7848 rows × 1398 columns</p>\n",
       "</div>"
      ],
      "text/plain": [
       "           2__change_quantiles__f_agg_\"mean\"__isabs_True__qh_0.8__ql_0.2  \\\n",
       "object_id                                                                  \n",
       "615                                               300.935462               \n",
       "713                                                 1.561348               \n",
       "730                                                 0.858019               \n",
       "745                                                 1.394411               \n",
       "1124                                                0.987417               \n",
       "...                                                      ...               \n",
       "130739978                                           3.262261               \n",
       "130755807                                           3.741628               \n",
       "130762946                                          18.772186               \n",
       "130772921                                           1.594728               \n",
       "130779836                                         229.319370               \n",
       "\n",
       "           2__change_quantiles__f_agg_\"var\"__isabs_False__qh_0.8__ql_0.2  \\\n",
       "object_id                                                                  \n",
       "615                                            118501.387659               \n",
       "713                                                 3.407380               \n",
       "730                                                 1.172991               \n",
       "745                                                 4.698467               \n",
       "1124                                                1.670091               \n",
       "...                                                      ...               \n",
       "130739978                                          15.835636               \n",
       "130755807                                          10.221534               \n",
       "130762946                                         526.373570               \n",
       "130772921                                           5.073099               \n",
       "130779836                                       53436.226518               \n",
       "\n",
       "           3__change_quantiles__f_agg_\"mean\"__isabs_True__qh_0.8__ql_0.2  \\\n",
       "object_id                                                                  \n",
       "615                                               281.969497               \n",
       "713                                                 2.876058               \n",
       "730                                                 1.744106               \n",
       "745                                                 1.697170               \n",
       "1124                                                1.275860               \n",
       "...                                                      ...               \n",
       "130739978                                           2.922762               \n",
       "130755807                                           6.141984               \n",
       "130762946                                          18.937071               \n",
       "130772921                                           3.036285               \n",
       "130779836                                          81.179225               \n",
       "\n",
       "           2__change_quantiles__f_agg_\"var\"__isabs_True__qh_0.8__ql_0.2  \\\n",
       "object_id                                                                 \n",
       "615                                             31194.984390              \n",
       "713                                                 1.424327              \n",
       "730                                                 0.470820              \n",
       "745                                                 3.031026              \n",
       "1124                                                0.770273              \n",
       "...                                                      ...              \n",
       "130739978                                           5.524589              \n",
       "130755807                                           2.677271              \n",
       "130762946                                         187.111115              \n",
       "130772921                                           2.594708              \n",
       "130779836                                       53436.226518              \n",
       "\n",
       "           1__change_quantiles__f_agg_\"mean\"__isabs_True__qh_1.0__ql_0.2  \\\n",
       "object_id                                                                  \n",
       "615                                               539.933301               \n",
       "713                                                 2.138922               \n",
       "730                                                 1.543100               \n",
       "745                                                 6.224206               \n",
       "1124                                                3.316546               \n",
       "...                                                      ...               \n",
       "130739978                                          38.026759               \n",
       "130755807                                          21.583167               \n",
       "130762946                                           9.196110               \n",
       "130772921                                         108.366319               \n",
       "130779836                                         837.578487               \n",
       "\n",
       "           3__change_quantiles__f_agg_\"var\"__isabs_False__qh_0.8__ql_0.2  \\\n",
       "object_id                                                                  \n",
       "615                                            108354.752421               \n",
       "713                                                13.690853               \n",
       "730                                                 4.390104               \n",
       "745                                                 5.070577               \n",
       "1124                                                3.103657               \n",
       "...                                                      ...               \n",
       "130739978                                          13.032673               \n",
       "130755807                                          32.756064               \n",
       "130762946                                         358.612677               \n",
       "130772921                                          14.494310               \n",
       "130779836                                       15038.991791               \n",
       "\n",
       "           2__change_quantiles__f_agg_\"mean\"__isabs_True__qh_1.0__ql_0.2  \\\n",
       "object_id                                                                  \n",
       "615                                               425.894203               \n",
       "713                                                 2.120542               \n",
       "730                                                 1.996276               \n",
       "745                                                12.356502               \n",
       "1124                                                6.491404               \n",
       "...                                                      ...               \n",
       "130739978                                          11.791437               \n",
       "130755807                                           5.288134               \n",
       "130762946                                          28.954324               \n",
       "130772921                                           6.906704               \n",
       "130779836                                        3785.926306               \n",
       "\n",
       "           4__change_quantiles__f_agg_\"mean\"__isabs_True__qh_0.8__ql_0.2  \\\n",
       "object_id                                                                  \n",
       "615                                               208.143351               \n",
       "713                                                 1.714702               \n",
       "730                                                 1.875823               \n",
       "745                                                 2.672516               \n",
       "1124                                                1.562860               \n",
       "...                                                      ...               \n",
       "130739978                                          10.948467               \n",
       "130755807                                           7.859016               \n",
       "130762946                                           9.477104               \n",
       "130772921                                           7.224569               \n",
       "130779836                                         296.072864               \n",
       "\n",
       "           3__change_quantiles__f_agg_\"var\"__isabs_True__qh_0.8__ql_0.2  \\\n",
       "object_id                                                                 \n",
       "615                                             42478.340233              \n",
       "713                                                 5.520683              \n",
       "730                                                 1.350531              \n",
       "745                                                 2.364372              \n",
       "1124                                                1.641119              \n",
       "...                                                      ...              \n",
       "130739978                                           5.185756              \n",
       "130755807                                          32.756064              \n",
       "130762946                                          40.750457              \n",
       "130772921                                           5.561326              \n",
       "130779836                                        8450.147347              \n",
       "\n",
       "           1__mean_abs_change  ...  \\\n",
       "object_id                      ...   \n",
       "615                657.025941  ...   \n",
       "713                  2.241918  ...   \n",
       "730                  1.845462  ...   \n",
       "745                  8.485260  ...   \n",
       "1124                 2.772622  ...   \n",
       "...                       ...  ...   \n",
       "130739978           27.505493  ...   \n",
       "130755807           13.791179  ...   \n",
       "130762946           20.396381  ...   \n",
       "130772921           67.116401  ...   \n",
       "130779836          545.537893  ...   \n",
       "\n",
       "           1__change_quantiles__f_agg_\"var\"__isabs_False__qh_0.6__ql_0.4  \\\n",
       "object_id                                                                  \n",
       "615                                             10761.229809               \n",
       "713                                                 1.129268               \n",
       "730                                                 0.090832               \n",
       "745                                                 0.133846               \n",
       "1124                                                0.745799               \n",
       "...                                                      ...               \n",
       "130739978                                           0.000000               \n",
       "130755807                                           0.000000               \n",
       "130762946                                           0.000000               \n",
       "130772921                                           0.000000               \n",
       "130779836                                           0.000000               \n",
       "\n",
       "           4__autocorrelation__lag_6  \\\n",
       "object_id                              \n",
       "615                         0.058400   \n",
       "713                         0.629594   \n",
       "730                         0.066051   \n",
       "745                         0.089490   \n",
       "1124                        0.094736   \n",
       "...                              ...   \n",
       "130739978                   0.020870   \n",
       "130755807                  -0.161550   \n",
       "130762946                   0.008401   \n",
       "130772921                  -0.301148   \n",
       "130779836                  -0.095011   \n",
       "\n",
       "           3__augmented_dickey_fuller__attr_\"usedlag\"__autolag_\"AIC\"  \\\n",
       "object_id                                                              \n",
       "615                                                      2.0           \n",
       "713                                                      2.0           \n",
       "730                                                      0.0           \n",
       "745                                                      0.0           \n",
       "1124                                                     0.0           \n",
       "...                                                      ...           \n",
       "130739978                                                0.0           \n",
       "130755807                                                0.0           \n",
       "130762946                                                0.0           \n",
       "130772921                                                0.0           \n",
       "130779836                                                9.0           \n",
       "\n",
       "           4__large_standard_deviation__r_0.4  \\\n",
       "object_id                                       \n",
       "615                                       0.0   \n",
       "713                                       0.0   \n",
       "730                                       0.0   \n",
       "745                                       0.0   \n",
       "1124                                      0.0   \n",
       "...                                       ...   \n",
       "130739978                                 0.0   \n",
       "130755807                                 0.0   \n",
       "130762946                                 0.0   \n",
       "130772921                                 0.0   \n",
       "130779836                                 0.0   \n",
       "\n",
       "           5__symmetry_looking__r_0.15000000000000002  \\\n",
       "object_id                                               \n",
       "615                                               1.0   \n",
       "713                                               1.0   \n",
       "730                                               1.0   \n",
       "745                                               1.0   \n",
       "1124                                              1.0   \n",
       "...                                               ...   \n",
       "130739978                                         1.0   \n",
       "130755807                                         1.0   \n",
       "130762946                                         1.0   \n",
       "130772921                                         1.0   \n",
       "130779836                                         1.0   \n",
       "\n",
       "           5__symmetry_looking__r_0.25  5__large_standard_deviation__r_0.4  \\\n",
       "object_id                                                                    \n",
       "615                                1.0                                 0.0   \n",
       "713                                1.0                                 0.0   \n",
       "730                                1.0                                 0.0   \n",
       "745                                1.0                                 0.0   \n",
       "1124                               1.0                                 0.0   \n",
       "...                                ...                                 ...   \n",
       "130739978                          1.0                                 0.0   \n",
       "130755807                          1.0                                 0.0   \n",
       "130762946                          1.0                                 0.0   \n",
       "130772921                          1.0                                 0.0   \n",
       "130779836                          1.0                                 0.0   \n",
       "\n",
       "           4__symmetry_looking__r_0.25  \\\n",
       "object_id                                \n",
       "615                                1.0   \n",
       "713                                1.0   \n",
       "730                                1.0   \n",
       "745                                1.0   \n",
       "1124                               1.0   \n",
       "...                                ...   \n",
       "130739978                          1.0   \n",
       "130755807                          1.0   \n",
       "130762946                          1.0   \n",
       "130772921                          1.0   \n",
       "130779836                          1.0   \n",
       "\n",
       "           2__symmetry_looking__r_0.30000000000000004  \\\n",
       "object_id                                               \n",
       "615                                               1.0   \n",
       "713                                               1.0   \n",
       "730                                               1.0   \n",
       "745                                               1.0   \n",
       "1124                                              1.0   \n",
       "...                                               ...   \n",
       "130739978                                         1.0   \n",
       "130755807                                         1.0   \n",
       "130762946                                         1.0   \n",
       "130772921                                         1.0   \n",
       "130779836                                         1.0   \n",
       "\n",
       "           4__symmetry_looking__r_0.30000000000000004  \n",
       "object_id                                              \n",
       "615                                               1.0  \n",
       "713                                               1.0  \n",
       "730                                               1.0  \n",
       "745                                               1.0  \n",
       "1124                                              1.0  \n",
       "...                                               ...  \n",
       "130739978                                         1.0  \n",
       "130755807                                         1.0  \n",
       "130762946                                         1.0  \n",
       "130772921                                         1.0  \n",
       "130779836                                         1.0  \n",
       "\n",
       "[7848 rows x 1398 columns]"
      ]
     },
     "execution_count": 105,
     "metadata": {},
     "output_type": "execute_result"
    }
   ],
   "source": [
    "selected_features_2"
   ]
  },
  {
   "cell_type": "code",
   "execution_count": 106,
   "metadata": {},
   "outputs": [],
   "source": [
    "random.seed = 0\n",
    "idx = selected_features_2.index.to_list()\n",
    "random.shuffle(idx)\n",
    "\n",
    "train_size = 0.8\n",
    "\n",
    "idx_train = idx[:int(len(idx)*train_size)]\n",
    "idx_test = idx[int(len(idx)*train_size):]\n",
    "\n",
    "classes_to_labels = {90:0, 42:1, 65:2, 16:3, 15:4, 62:5, 88:6, 92:7, 67:8, 52:9, 95:10, 6:11, 64:12, 53:13}\n",
    "labels_to_classes = {0:90, 1:42, 2:65, 3:16, 4:15, 5:62, 6:88, 7:92, 8:67, 9:52, 10:95, 11:6, 12:64, 13:53}\n",
    "\n",
    "data_train = selected_features_2.loc[idx_train]\n",
    "data_test = selected_features_2.loc[idx_test]\n",
    "x_train_2 = np.array(data_train)\n",
    "y_train_2 = np.array([classes_to_labels[x] for x in training_set_metadata['target'].loc[idx_train]])\n",
    "x_test_2 = np.array(data_test)\n",
    "y_test_2 = np.array([classes_to_labels[x] for x in training_set_metadata['target'].loc[idx_test]])"
   ]
  },
  {
   "cell_type": "code",
   "execution_count": 150,
   "metadata": {},
   "outputs": [],
   "source": [
    "batch_size = 32\n",
    "\n",
    "train_loader_2 = torch.utils.data.DataLoader(torch.utils.data.TensorDataset(torch.tensor(x_train_2), torch.tensor(y_train_2)), batch_size=batch_size, shuffle=True)\n",
    "test_loader_2 = torch.utils.data.DataLoader(torch.utils.data.TensorDataset(torch.tensor(x_test_2), torch.tensor(y_test_2)), batch_size=batch_size, shuffle=False)"
   ]
  },
  {
   "cell_type": "markdown",
   "metadata": {},
   "source": [
    "Using Fourier Neural Operator"
   ]
  },
  {
   "cell_type": "code",
   "execution_count": 151,
   "metadata": {},
   "outputs": [
    {
     "name": "stdout",
     "output_type": "stream",
     "text": [
      "FourierNeuralNetwork(\n",
      "  (fc0): Linear(in_features=1, out_features=2, bias=True)\n",
      "  (conv0): SpectralConv1d()\n",
      "  (conv1): SpectralConv1d()\n",
      "  (w0): Conv1d(2, 2, kernel_size=(1,), stride=(1,))\n",
      "  (w1): Conv1d(2, 2, kernel_size=(1,), stride=(1,))\n",
      "  (fc1): Linear(in_features=2796, out_features=280, bias=True)\n",
      "  (fc3): Linear(in_features=280, out_features=14, bias=True)\n",
      "  (softmax): Softmax(dim=1)\n",
      ")\n",
      "787230\n"
     ]
    }
   ],
   "source": [
    "input_size = 1398 #number of features per object\n",
    "# model\n",
    "model = FourierNeuralNetwork(modes, width, input_size).cuda()\n",
    "print(model)\n",
    "pytorch_total_params = sum(p.numel() for p in model.parameters())\n",
    "print(pytorch_total_params)"
   ]
  },
  {
   "cell_type": "code",
   "execution_count": 152,
   "metadata": {},
   "outputs": [],
   "source": [
    "criterion = nn.CrossEntropyLoss()\n",
    "optimizer = torch.optim.Adam(model.parameters(), lr=learning_rate, weight_decay=1e-4)\n",
    "scheduler = torch.optim.lr_scheduler.StepLR(optimizer, step_size=step_size, gamma=gamma)"
   ]
  },
  {
   "cell_type": "code",
   "execution_count": 153,
   "metadata": {
    "scrolled": true
   },
   "outputs": [
    {
     "name": "stderr",
     "output_type": "stream",
     "text": [
      "  2%|▏         | 10/500 [00:28<22:55,  2.81s/it]"
     ]
    },
    {
     "name": "stdout",
     "output_type": "stream",
     "text": [
      "epoch 10/500, loss=484.8886\n"
     ]
    },
    {
     "name": "stderr",
     "output_type": "stream",
     "text": [
      "  4%|▍         | 20/500 [00:49<17:15,  2.16s/it]"
     ]
    },
    {
     "name": "stdout",
     "output_type": "stream",
     "text": [
      "epoch 20/500, loss=485.0240\n"
     ]
    },
    {
     "name": "stderr",
     "output_type": "stream",
     "text": [
      "  6%|▌         | 30/500 [01:12<17:25,  2.22s/it]"
     ]
    },
    {
     "name": "stdout",
     "output_type": "stream",
     "text": [
      "epoch 30/500, loss=484.8881\n"
     ]
    },
    {
     "name": "stderr",
     "output_type": "stream",
     "text": [
      "  8%|▊         | 40/500 [01:33<16:11,  2.11s/it]"
     ]
    },
    {
     "name": "stdout",
     "output_type": "stream",
     "text": [
      "epoch 40/500, loss=484.8889\n"
     ]
    },
    {
     "name": "stderr",
     "output_type": "stream",
     "text": [
      " 10%|█         | 50/500 [01:53<15:31,  2.07s/it]"
     ]
    },
    {
     "name": "stdout",
     "output_type": "stream",
     "text": [
      "epoch 50/500, loss=485.0233\n"
     ]
    },
    {
     "name": "stderr",
     "output_type": "stream",
     "text": [
      " 12%|█▏        | 60/500 [02:15<15:54,  2.17s/it]"
     ]
    },
    {
     "name": "stdout",
     "output_type": "stream",
     "text": [
      "epoch 60/500, loss=485.2942\n"
     ]
    },
    {
     "name": "stderr",
     "output_type": "stream",
     "text": [
      " 14%|█▍        | 70/500 [02:40<17:20,  2.42s/it]"
     ]
    },
    {
     "name": "stdout",
     "output_type": "stream",
     "text": [
      "epoch 70/500, loss=484.8881\n"
     ]
    },
    {
     "name": "stderr",
     "output_type": "stream",
     "text": [
      " 16%|█▌        | 80/500 [03:06<20:38,  2.95s/it]"
     ]
    },
    {
     "name": "stdout",
     "output_type": "stream",
     "text": [
      "epoch 80/500, loss=485.1587\n"
     ]
    },
    {
     "name": "stderr",
     "output_type": "stream",
     "text": [
      " 18%|█▊        | 90/500 [03:30<16:35,  2.43s/it]"
     ]
    },
    {
     "name": "stdout",
     "output_type": "stream",
     "text": [
      "epoch 90/500, loss=484.8879\n"
     ]
    },
    {
     "name": "stderr",
     "output_type": "stream",
     "text": [
      " 20%|██        | 100/500 [03:54<15:34,  2.34s/it]"
     ]
    },
    {
     "name": "stdout",
     "output_type": "stream",
     "text": [
      "epoch 100/500, loss=485.1587\n"
     ]
    },
    {
     "name": "stderr",
     "output_type": "stream",
     "text": [
      " 22%|██▏       | 110/500 [04:17<15:01,  2.31s/it]"
     ]
    },
    {
     "name": "stdout",
     "output_type": "stream",
     "text": [
      "epoch 110/500, loss=485.0233\n"
     ]
    },
    {
     "name": "stderr",
     "output_type": "stream",
     "text": [
      " 24%|██▍       | 120/500 [04:40<14:38,  2.31s/it]"
     ]
    },
    {
     "name": "stdout",
     "output_type": "stream",
     "text": [
      "epoch 120/500, loss=484.6170\n"
     ]
    },
    {
     "name": "stderr",
     "output_type": "stream",
     "text": [
      " 26%|██▌       | 130/500 [05:03<13:41,  2.22s/it]"
     ]
    },
    {
     "name": "stdout",
     "output_type": "stream",
     "text": [
      "epoch 130/500, loss=485.1587\n"
     ]
    },
    {
     "name": "stderr",
     "output_type": "stream",
     "text": [
      " 28%|██▊       | 140/500 [05:25<12:51,  2.14s/it]"
     ]
    },
    {
     "name": "stdout",
     "output_type": "stream",
     "text": [
      "epoch 140/500, loss=485.1587\n"
     ]
    },
    {
     "name": "stderr",
     "output_type": "stream",
     "text": [
      " 30%|███       | 150/500 [05:48<12:42,  2.18s/it]"
     ]
    },
    {
     "name": "stdout",
     "output_type": "stream",
     "text": [
      "epoch 150/500, loss=485.0234\n"
     ]
    },
    {
     "name": "stderr",
     "output_type": "stream",
     "text": [
      " 32%|███▏      | 160/500 [06:08<11:39,  2.06s/it]"
     ]
    },
    {
     "name": "stdout",
     "output_type": "stream",
     "text": [
      "epoch 160/500, loss=484.7526\n"
     ]
    },
    {
     "name": "stderr",
     "output_type": "stream",
     "text": [
      " 34%|███▍      | 170/500 [06:29<11:16,  2.05s/it]"
     ]
    },
    {
     "name": "stdout",
     "output_type": "stream",
     "text": [
      "epoch 170/500, loss=485.2943\n"
     ]
    },
    {
     "name": "stderr",
     "output_type": "stream",
     "text": [
      " 36%|███▌      | 180/500 [06:51<12:24,  2.33s/it]"
     ]
    },
    {
     "name": "stdout",
     "output_type": "stream",
     "text": [
      "epoch 180/500, loss=484.8882\n"
     ]
    },
    {
     "name": "stderr",
     "output_type": "stream",
     "text": [
      " 38%|███▊      | 190/500 [07:13<11:40,  2.26s/it]"
     ]
    },
    {
     "name": "stdout",
     "output_type": "stream",
     "text": [
      "epoch 190/500, loss=485.2947\n"
     ]
    },
    {
     "name": "stderr",
     "output_type": "stream",
     "text": [
      " 40%|████      | 200/500 [07:36<11:10,  2.23s/it]"
     ]
    },
    {
     "name": "stdout",
     "output_type": "stream",
     "text": [
      "epoch 200/500, loss=485.1590\n"
     ]
    },
    {
     "name": "stderr",
     "output_type": "stream",
     "text": [
      " 42%|████▏     | 210/500 [07:58<10:55,  2.26s/it]"
     ]
    },
    {
     "name": "stdout",
     "output_type": "stream",
     "text": [
      "epoch 210/500, loss=485.1589\n"
     ]
    },
    {
     "name": "stderr",
     "output_type": "stream",
     "text": [
      " 44%|████▍     | 220/500 [08:20<10:12,  2.19s/it]"
     ]
    },
    {
     "name": "stdout",
     "output_type": "stream",
     "text": [
      "epoch 220/500, loss=485.1591\n"
     ]
    },
    {
     "name": "stderr",
     "output_type": "stream",
     "text": [
      " 46%|████▌     | 230/500 [08:42<10:16,  2.28s/it]"
     ]
    },
    {
     "name": "stdout",
     "output_type": "stream",
     "text": [
      "epoch 230/500, loss=485.1591\n"
     ]
    },
    {
     "name": "stderr",
     "output_type": "stream",
     "text": [
      " 48%|████▊     | 240/500 [09:04<09:10,  2.12s/it]"
     ]
    },
    {
     "name": "stdout",
     "output_type": "stream",
     "text": [
      "epoch 240/500, loss=485.0238\n"
     ]
    },
    {
     "name": "stderr",
     "output_type": "stream",
     "text": [
      " 50%|█████     | 250/500 [09:27<09:46,  2.35s/it]"
     ]
    },
    {
     "name": "stdout",
     "output_type": "stream",
     "text": [
      "epoch 250/500, loss=485.0236\n"
     ]
    },
    {
     "name": "stderr",
     "output_type": "stream",
     "text": [
      " 52%|█████▏    | 260/500 [09:51<09:20,  2.34s/it]"
     ]
    },
    {
     "name": "stdout",
     "output_type": "stream",
     "text": [
      "epoch 260/500, loss=485.0200\n"
     ]
    },
    {
     "name": "stderr",
     "output_type": "stream",
     "text": [
      " 54%|█████▍    | 270/500 [10:13<08:38,  2.25s/it]"
     ]
    },
    {
     "name": "stdout",
     "output_type": "stream",
     "text": [
      "epoch 270/500, loss=485.0200\n"
     ]
    },
    {
     "name": "stderr",
     "output_type": "stream",
     "text": [
      " 56%|█████▌    | 280/500 [10:35<07:58,  2.17s/it]"
     ]
    },
    {
     "name": "stdout",
     "output_type": "stream",
     "text": [
      "epoch 280/500, loss=485.2945\n"
     ]
    },
    {
     "name": "stderr",
     "output_type": "stream",
     "text": [
      " 58%|█████▊    | 290/500 [10:58<07:49,  2.24s/it]"
     ]
    },
    {
     "name": "stdout",
     "output_type": "stream",
     "text": [
      "epoch 290/500, loss=485.1277\n"
     ]
    },
    {
     "name": "stderr",
     "output_type": "stream",
     "text": [
      " 60%|██████    | 300/500 [11:20<07:12,  2.16s/it]"
     ]
    },
    {
     "name": "stdout",
     "output_type": "stream",
     "text": [
      "epoch 300/500, loss=485.0236\n"
     ]
    },
    {
     "name": "stderr",
     "output_type": "stream",
     "text": [
      " 62%|██████▏   | 310/500 [11:43<07:15,  2.29s/it]"
     ]
    },
    {
     "name": "stdout",
     "output_type": "stream",
     "text": [
      "epoch 310/500, loss=484.8882\n"
     ]
    },
    {
     "name": "stderr",
     "output_type": "stream",
     "text": [
      " 64%|██████▍   | 320/500 [12:06<07:00,  2.34s/it]"
     ]
    },
    {
     "name": "stdout",
     "output_type": "stream",
     "text": [
      "epoch 320/500, loss=485.2944\n"
     ]
    },
    {
     "name": "stderr",
     "output_type": "stream",
     "text": [
      " 66%|██████▌   | 330/500 [12:28<06:19,  2.23s/it]"
     ]
    },
    {
     "name": "stdout",
     "output_type": "stream",
     "text": [
      "epoch 330/500, loss=484.8881\n"
     ]
    },
    {
     "name": "stderr",
     "output_type": "stream",
     "text": [
      " 68%|██████▊   | 340/500 [12:50<05:51,  2.20s/it]"
     ]
    },
    {
     "name": "stdout",
     "output_type": "stream",
     "text": [
      "epoch 340/500, loss=485.1590\n"
     ]
    },
    {
     "name": "stderr",
     "output_type": "stream",
     "text": [
      " 70%|███████   | 350/500 [13:11<05:11,  2.08s/it]"
     ]
    },
    {
     "name": "stdout",
     "output_type": "stream",
     "text": [
      "epoch 350/500, loss=485.1590\n"
     ]
    },
    {
     "name": "stderr",
     "output_type": "stream",
     "text": [
      " 72%|███████▏  | 360/500 [13:32<04:54,  2.10s/it]"
     ]
    },
    {
     "name": "stdout",
     "output_type": "stream",
     "text": [
      "epoch 360/500, loss=485.1590\n"
     ]
    },
    {
     "name": "stderr",
     "output_type": "stream",
     "text": [
      " 74%|███████▍  | 370/500 [13:55<04:50,  2.23s/it]"
     ]
    },
    {
     "name": "stdout",
     "output_type": "stream",
     "text": [
      "epoch 370/500, loss=485.0236\n"
     ]
    },
    {
     "name": "stderr",
     "output_type": "stream",
     "text": [
      " 76%|███████▌  | 380/500 [14:18<04:38,  2.32s/it]"
     ]
    },
    {
     "name": "stdout",
     "output_type": "stream",
     "text": [
      "epoch 380/500, loss=485.0236\n"
     ]
    },
    {
     "name": "stderr",
     "output_type": "stream",
     "text": [
      " 78%|███████▊  | 390/500 [14:40<04:05,  2.24s/it]"
     ]
    },
    {
     "name": "stdout",
     "output_type": "stream",
     "text": [
      "epoch 390/500, loss=484.8882\n"
     ]
    },
    {
     "name": "stderr",
     "output_type": "stream",
     "text": [
      " 80%|████████  | 400/500 [15:02<03:43,  2.24s/it]"
     ]
    },
    {
     "name": "stdout",
     "output_type": "stream",
     "text": [
      "epoch 400/500, loss=485.0236\n"
     ]
    },
    {
     "name": "stderr",
     "output_type": "stream",
     "text": [
      " 82%|████████▏ | 410/500 [15:24<03:16,  2.19s/it]"
     ]
    },
    {
     "name": "stdout",
     "output_type": "stream",
     "text": [
      "epoch 410/500, loss=485.1590\n"
     ]
    },
    {
     "name": "stderr",
     "output_type": "stream",
     "text": [
      " 84%|████████▍ | 420/500 [15:46<02:56,  2.21s/it]"
     ]
    },
    {
     "name": "stdout",
     "output_type": "stream",
     "text": [
      "epoch 420/500, loss=484.8882\n"
     ]
    },
    {
     "name": "stderr",
     "output_type": "stream",
     "text": [
      " 86%|████████▌ | 430/500 [16:08<02:40,  2.29s/it]"
     ]
    },
    {
     "name": "stdout",
     "output_type": "stream",
     "text": [
      "epoch 430/500, loss=485.0236\n"
     ]
    },
    {
     "name": "stderr",
     "output_type": "stream",
     "text": [
      " 88%|████████▊ | 440/500 [16:30<02:04,  2.08s/it]"
     ]
    },
    {
     "name": "stdout",
     "output_type": "stream",
     "text": [
      "epoch 440/500, loss=485.0236\n"
     ]
    },
    {
     "name": "stderr",
     "output_type": "stream",
     "text": [
      " 90%|█████████ | 450/500 [17:01<02:26,  2.94s/it]"
     ]
    },
    {
     "name": "stdout",
     "output_type": "stream",
     "text": [
      "epoch 450/500, loss=484.8882\n"
     ]
    },
    {
     "name": "stderr",
     "output_type": "stream",
     "text": [
      " 92%|█████████▏| 460/500 [17:23<01:27,  2.18s/it]"
     ]
    },
    {
     "name": "stdout",
     "output_type": "stream",
     "text": [
      "epoch 460/500, loss=485.1590\n"
     ]
    },
    {
     "name": "stderr",
     "output_type": "stream",
     "text": [
      " 94%|█████████▍| 470/500 [17:45<01:03,  2.12s/it]"
     ]
    },
    {
     "name": "stdout",
     "output_type": "stream",
     "text": [
      "epoch 470/500, loss=485.2944\n"
     ]
    },
    {
     "name": "stderr",
     "output_type": "stream",
     "text": [
      " 96%|█████████▌| 480/500 [18:06<00:44,  2.21s/it]"
     ]
    },
    {
     "name": "stdout",
     "output_type": "stream",
     "text": [
      "epoch 480/500, loss=485.0236\n"
     ]
    },
    {
     "name": "stderr",
     "output_type": "stream",
     "text": [
      " 98%|█████████▊| 490/500 [18:29<00:22,  2.26s/it]"
     ]
    },
    {
     "name": "stdout",
     "output_type": "stream",
     "text": [
      "epoch 490/500, loss=485.1590\n"
     ]
    },
    {
     "name": "stderr",
     "output_type": "stream",
     "text": [
      "100%|██████████| 500/500 [18:51<00:00,  2.26s/it]"
     ]
    },
    {
     "name": "stdout",
     "output_type": "stream",
     "text": [
      "epoch 500/500, loss=485.0236\n",
      "Finished Training\n"
     ]
    },
    {
     "name": "stderr",
     "output_type": "stream",
     "text": [
      "\n"
     ]
    }
   ],
   "source": [
    "correct = 0\n",
    "total = 0\n",
    "for epoch in tqdm(range(epochs)):  # loop over the dataset multiple times\n",
    "    model.train()\n",
    "    running_loss = 0.0\n",
    "    for x, y in train_loader_2:\n",
    "        x, y = x.cuda(), y.type(torch.LongTensor)\n",
    "        y = y.cuda()\n",
    "\n",
    "        # zero the parameter gradients\n",
    "        optimizer.zero_grad()\n",
    "\n",
    "        # forward + backward + optimize\n",
    "        out = model(x.float())\n",
    "        \n",
    "        loss = criterion(out, y)\n",
    "\n",
    "        loss.backward()\n",
    "        optimizer.step()\n",
    "\n",
    "        # print statistics\n",
    "        running_loss += loss.item()\n",
    "        \n",
    "    if (epoch + 1) % 10 == 0:\n",
    "        print(f'epoch {epoch+1}/{epochs}, loss={running_loss:.4f}')\n",
    "    scheduler.step()\n",
    "\n",
    "\n",
    "print('Finished Training')"
   ]
  },
  {
   "cell_type": "code",
   "execution_count": 154,
   "metadata": {},
   "outputs": [
    {
     "name": "stdout",
     "output_type": "stream",
     "text": [
      "Accuracy of the network on the 1570 test objects: 30 %\n"
     ]
    }
   ],
   "source": [
    "model.eval()\n",
    "with torch.no_grad():\n",
    "    for x, y in test_loader_2:\n",
    "        x, y = x.cuda(), y.cuda()\n",
    "\n",
    "        out = model(x.float())\n",
    "        # the class with the highest energy is what we choose as prediction\n",
    "        _, predicted = torch.max(out.data, 1)\n",
    "        total += y.size(0)\n",
    "        correct += (predicted == y).sum().item()\n",
    "print(f'Accuracy of the network on the 1570 test objects: {100 * correct // total} %')"
   ]
  },
  {
   "cell_type": "markdown",
   "metadata": {},
   "source": [
    "accuracy 30% no padding batch 64 width 1 modes 10\n",
    "\n",
    "accuracy 30% padding batch 32 width 2 modes 15"
   ]
  },
  {
   "cell_type": "markdown",
   "metadata": {},
   "source": [
    "We even got a smaller accuracy with this dataset and this neural network."
   ]
  },
  {
   "cell_type": "code",
   "execution_count": 149,
   "metadata": {
    "scrolled": false
   },
   "outputs": [
    {
     "name": "stdout",
     "output_type": "stream",
     "text": [
      "==============================\n",
      "KNeighborsClassifier\n",
      "****Results****\n",
      "Accuracy: 48.1529%\n",
      "Log Loss: 11.72054763023605\n",
      "==============================\n",
      "DecisionTreeClassifier\n",
      "****Results****\n",
      "Accuracy: 65.9236%\n",
      "Log Loss: 11.769583039030087\n",
      "==============================\n",
      "RandomForestClassifier\n",
      "****Results****\n",
      "Accuracy: 71.9745%\n",
      "Log Loss: 0.9585655862673682\n",
      "==============================\n",
      "LinearDiscriminantAnalysis\n",
      "****Results****\n",
      "Accuracy: 65.6688%\n",
      "Log Loss: 3.165586003647774\n",
      "==============================\n"
     ]
    }
   ],
   "source": [
    "classifiers = [\n",
    "    KNeighborsClassifier(3),\n",
    "    DecisionTreeClassifier(),\n",
    "    RandomForestClassifier(),\n",
    "    LinearDiscriminantAnalysis()\n",
    "    ]\n",
    "\n",
    "# Logging for Visual Comparison\n",
    "log_cols=[\"Classifier\", \"Accuracy\", \"Log Loss\"]\n",
    "log = pd.DataFrame(columns=log_cols)\n",
    "\n",
    "for clf in classifiers:\n",
    "    clf.fit(x_train_2, y_train_2)\n",
    "    name = clf.__class__.__name__\n",
    "    \n",
    "    print(\"=\"*30)\n",
    "    print(name)\n",
    "    \n",
    "    print('****Results****')\n",
    "    train_predictions = clf.predict(x_test_2)\n",
    "    acc = accuracy_score(y_test_2, train_predictions)\n",
    "    print(\"Accuracy: {:.4%}\".format(acc))\n",
    "    \n",
    "    train_predictions = clf.predict_proba(x_test_2)\n",
    "    ll = log_loss(y_test_2, train_predictions)\n",
    "    print(\"Log Loss: {}\".format(ll))\n",
    "    \n",
    "    log_entry = pd.DataFrame([[name, acc*100, ll]], columns=log_cols)\n",
    "    log = log.append(log_entry)\n",
    "    \n",
    "print(\"=\"*30)"
   ]
  },
  {
   "cell_type": "markdown",
   "metadata": {},
   "source": [
    "Not bad, the results of the Random Forest are a bit better."
   ]
  },
  {
   "cell_type": "markdown",
   "metadata": {},
   "source": [
    "Next we use again the multi-layer perceptron with this dataset:"
   ]
  },
  {
   "cell_type": "code",
   "execution_count": 116,
   "metadata": {
    "scrolled": true
   },
   "outputs": [
    {
     "name": "stdout",
     "output_type": "stream",
     "text": [
      "Iteration 1, loss = 24.14552985\n",
      "Iteration 2, loss = 15.90160163\n",
      "Iteration 3, loss = 9.79468651\n",
      "Iteration 4, loss = 7.78743303\n",
      "Iteration 5, loss = 7.27043549\n",
      "Iteration 6, loss = 6.57368607\n",
      "Iteration 7, loss = 5.97963057\n",
      "Iteration 8, loss = 5.51541338\n",
      "Iteration 9, loss = 5.14584444\n",
      "Iteration 10, loss = 4.81872554\n",
      "Iteration 11, loss = 4.56941515\n",
      "Iteration 12, loss = 4.41320363\n",
      "Iteration 13, loss = 4.20690859\n",
      "Iteration 14, loss = 4.05093723\n",
      "Iteration 15, loss = 3.91068232\n",
      "Iteration 16, loss = 3.79282524\n",
      "Iteration 17, loss = 3.70157054\n",
      "Iteration 18, loss = 3.62723337\n",
      "Iteration 19, loss = 3.54998336\n",
      "Iteration 20, loss = 3.49061203\n",
      "Iteration 21, loss = 3.46365970\n",
      "Iteration 22, loss = 3.41535101\n",
      "Iteration 23, loss = 3.35331038\n",
      "Iteration 24, loss = 3.30989567\n",
      "Iteration 25, loss = 3.27196737\n",
      "Iteration 26, loss = 3.24055743\n",
      "Iteration 27, loss = 3.21084492\n",
      "Iteration 28, loss = 3.17130292\n",
      "Iteration 29, loss = 3.12758524\n",
      "Iteration 30, loss = 3.09248067\n",
      "Iteration 31, loss = 3.07327443\n",
      "Iteration 32, loss = 3.05045023\n",
      "Iteration 33, loss = 3.01978168\n",
      "Iteration 34, loss = 2.97228517\n",
      "Iteration 35, loss = 2.94124517\n",
      "Iteration 36, loss = 2.92039261\n",
      "Iteration 37, loss = 2.90686791\n",
      "Iteration 38, loss = 4.23027951\n",
      "Iteration 39, loss = 2.88711343\n",
      "Iteration 40, loss = 2.79652845\n",
      "Iteration 41, loss = 2.71804424\n",
      "Iteration 42, loss = 2.69266877\n",
      "Iteration 43, loss = 2.66085072\n",
      "Iteration 44, loss = 2.64966801\n",
      "Iteration 45, loss = 2.63620905\n",
      "Iteration 46, loss = 2.62288940\n",
      "Iteration 47, loss = 2.60519058\n",
      "Iteration 48, loss = 2.59263261\n",
      "Iteration 49, loss = 2.57509111\n",
      "Iteration 50, loss = 2.56812304\n",
      "Iteration 51, loss = 2.56473708\n",
      "Iteration 52, loss = 2.54381705\n",
      "Iteration 53, loss = 2.53723715\n",
      "Iteration 54, loss = 2.53602044\n",
      "Iteration 55, loss = 2.53490959\n",
      "Iteration 56, loss = 2.53388609\n",
      "Iteration 57, loss = 2.52746309\n",
      "Iteration 58, loss = 2.52774429\n",
      "Iteration 59, loss = 2.50537957\n",
      "Iteration 60, loss = 2.49957241\n",
      "Iteration 61, loss = 2.49376904\n",
      "Iteration 62, loss = 2.48829084\n",
      "Iteration 63, loss = 2.47669356\n",
      "Iteration 64, loss = 2.47689174\n",
      "Iteration 65, loss = 2.46548674\n",
      "Iteration 66, loss = 2.46555528\n",
      "Iteration 67, loss = 2.46407422\n",
      "Iteration 68, loss = 2.45862047\n",
      "Iteration 69, loss = 2.44687366\n",
      "Iteration 70, loss = 2.44027524\n",
      "Iteration 71, loss = 2.43895838\n",
      "Iteration 72, loss = 2.43215994\n",
      "Iteration 73, loss = 2.43140048\n",
      "Iteration 74, loss = 2.41987228\n",
      "Iteration 75, loss = 2.41414868\n",
      "Iteration 76, loss = 2.40891857\n",
      "Iteration 77, loss = 2.39792784\n",
      "Iteration 78, loss = 2.39745010\n",
      "Iteration 79, loss = 2.38032395\n",
      "Iteration 80, loss = 2.37199348\n",
      "Iteration 81, loss = 2.36517317\n",
      "Iteration 82, loss = 2.35876528\n",
      "Iteration 83, loss = 2.35399257\n",
      "Iteration 84, loss = 2.35334133\n",
      "Iteration 85, loss = 2.34754993\n",
      "Iteration 86, loss = 2.34200955\n",
      "Iteration 87, loss = 2.33710883\n",
      "Iteration 88, loss = 2.33117097\n",
      "Iteration 89, loss = 2.33111169\n",
      "Iteration 90, loss = 2.33100073\n",
      "Iteration 91, loss = 2.33086944\n",
      "Iteration 92, loss = 2.33098003\n",
      "Iteration 93, loss = 2.32521462\n",
      "Iteration 94, loss = 2.32513505\n",
      "Iteration 95, loss = 2.32518228\n",
      "Iteration 96, loss = 2.32502614\n",
      "Iteration 97, loss = 2.32497024\n",
      "Iteration 98, loss = 2.33066874\n",
      "Iteration 99, loss = 2.32505883\n",
      "Iteration 100, loss = 2.32487353\n",
      "Iteration 101, loss = 2.32204971\n",
      "Iteration 102, loss = 2.33817829\n",
      "Iteration 103, loss = 2.31986053\n",
      "Iteration 104, loss = 2.31983136\n",
      "Iteration 105, loss = 2.31984648\n",
      "Iteration 106, loss = 2.31988126\n",
      "Iteration 107, loss = 2.31985953\n",
      "Iteration 108, loss = 2.31988842\n",
      "Iteration 109, loss = 2.31990428\n",
      "Iteration 110, loss = 2.31995653\n",
      "Iteration 111, loss = 2.31484312\n",
      "Iteration 112, loss = 2.31538783\n",
      "Iteration 113, loss = 2.31565139\n",
      "Iteration 114, loss = 2.31027512\n",
      "Iteration 115, loss = 2.31030288\n",
      "Iteration 116, loss = 2.31033189\n",
      "Iteration 117, loss = 2.29999474\n",
      "Iteration 118, loss = 2.30002804\n",
      "Iteration 119, loss = 2.29460584\n",
      "Iteration 120, loss = 2.30614212\n",
      "Iteration 121, loss = 2.30615989\n",
      "Iteration 122, loss = 2.29473816\n",
      "Iteration 123, loss = 2.29474026\n",
      "Iteration 124, loss = 2.29054696\n",
      "Iteration 125, loss = 2.28421238\n",
      "Iteration 126, loss = 2.27363119\n",
      "Iteration 127, loss = 2.27352817\n",
      "Iteration 128, loss = 2.27358222\n",
      "Iteration 129, loss = 2.27421958\n",
      "Iteration 130, loss = 2.26851932\n",
      "Iteration 131, loss = 2.26858504\n",
      "Iteration 132, loss = 2.26863634\n",
      "Iteration 133, loss = 2.26472358\n",
      "Iteration 134, loss = 2.25790829\n",
      "Iteration 135, loss = 2.25882894\n",
      "Iteration 136, loss = 2.25805201\n",
      "Iteration 137, loss = 2.25808373\n",
      "Iteration 138, loss = 2.25812800\n",
      "Iteration 139, loss = 2.26461547\n",
      "Iteration 140, loss = 2.25337592\n",
      "Iteration 141, loss = 2.25346562\n",
      "Iteration 142, loss = 2.24872955\n",
      "Iteration 143, loss = 2.24852203\n",
      "Iteration 144, loss = 2.24856627\n",
      "Iteration 145, loss = 2.24862706\n",
      "Iteration 146, loss = 2.24869705\n",
      "Iteration 147, loss = 2.24889854\n",
      "Iteration 148, loss = 2.25460378\n",
      "Iteration 149, loss = 2.24896140\n",
      "Iteration 150, loss = 2.24903857\n",
      "Iteration 151, loss = 2.24920145\n",
      "Iteration 152, loss = 2.24920076\n",
      "Iteration 153, loss = 2.24930389\n",
      "Iteration 154, loss = 2.24935336\n",
      "Training loss did not improve more than tol=0.000100 for 10 consecutive epochs. Stopping.\n",
      "Training set score: 0.298981\n",
      "Test set score: 0.307643\n"
     ]
    }
   ],
   "source": [
    "from sklearn.neural_network import MLPClassifier\n",
    "\n",
    "mlp = MLPClassifier(hidden_layer_sizes=(500, 14), \n",
    "                    max_iter=500, verbose = True)\n",
    "\n",
    "\n",
    "mlp.fit(x_train_2, y_train_2)\n",
    "print(\"Training set score: %f\" % mlp.score(x_train_2, y_train_2))\n",
    "print(\"Test set score: %f\" % mlp.score(x_test_2, y_test_2))"
   ]
  },
  {
   "cell_type": "markdown",
   "metadata": {},
   "source": [
    "Accuracy keeps being too small, so we discard this classifier."
   ]
  },
  {
   "cell_type": "markdown",
   "metadata": {},
   "source": [
    "Lastly, I'll do fine tuning. Basically we do a search grid with a 100 different combinations of the parameters. This way we can select the parameters that provide us with the best accuracy."
   ]
  },
  {
   "cell_type": "code",
   "execution_count": 156,
   "metadata": {},
   "outputs": [
    {
     "name": "stdout",
     "output_type": "stream",
     "text": [
      "{'n_estimators': [200, 400, 600, 800, 1000, 1200, 1400, 1600, 1800, 2000], 'max_features': ['auto', 'sqrt'], 'max_depth': [10, 20, 30, 40, 50, 60, 70, 80, 90, 100, 110, None], 'min_samples_split': [2, 5, 10], 'min_samples_leaf': [1, 2, 4], 'bootstrap': [True, False]}\n"
     ]
    }
   ],
   "source": [
    "from sklearn.model_selection import RandomizedSearchCV# Number of trees in random forest\n",
    "n_estimators = [int(x) for x in np.linspace(start = 200, stop = 2000, num = 10)]\n",
    "# Number of features to consider at every split\n",
    "max_features = ['auto', 'sqrt']\n",
    "# Maximum number of levels in tree\n",
    "max_depth = [int(x) for x in np.linspace(10, 110, num = 11)]\n",
    "max_depth.append(None)\n",
    "# Minimum number of samples required to split a node\n",
    "min_samples_split = [2, 5, 10]\n",
    "# Minimum number of samples required at each leaf node\n",
    "min_samples_leaf = [1, 2, 4]\n",
    "# Method of selecting samples for training each tree\n",
    "bootstrap = [True, False]# Create the random grid\n",
    "random_grid = {'n_estimators': n_estimators,\n",
    "               'max_features': max_features,\n",
    "               'max_depth': max_depth,\n",
    "               'min_samples_split': min_samples_split,\n",
    "               'min_samples_leaf': min_samples_leaf,\n",
    "               'bootstrap': bootstrap}\n",
    "print(random_grid)"
   ]
  },
  {
   "cell_type": "code",
   "execution_count": 158,
   "metadata": {},
   "outputs": [
    {
     "name": "stdout",
     "output_type": "stream",
     "text": [
      "Fitting 3 folds for each of 100 candidates, totalling 300 fits\n"
     ]
    },
    {
     "data": {
      "text/plain": [
       "RandomizedSearchCV(cv=3, estimator=RandomForestClassifier(), n_iter=100,\n",
       "                   n_jobs=-1,\n",
       "                   param_distributions={'bootstrap': [True, False],\n",
       "                                        'max_depth': [10, 20, 30, 40, 50, 60,\n",
       "                                                      70, 80, 90, 100, 110,\n",
       "                                                      None],\n",
       "                                        'max_features': ['auto', 'sqrt'],\n",
       "                                        'min_samples_leaf': [1, 2, 4],\n",
       "                                        'min_samples_split': [2, 5, 10],\n",
       "                                        'n_estimators': [200, 400, 600, 800,\n",
       "                                                         1000, 1200, 1400, 1600,\n",
       "                                                         1800, 2000]},\n",
       "                   random_state=42, verbose=2)"
      ]
     },
     "execution_count": 158,
     "metadata": {},
     "output_type": "execute_result"
    }
   ],
   "source": [
    "# Use the random grid to search for best hyperparameters\n",
    "# First create the base model to tune\n",
    "rf = RandomForestClassifier()\n",
    "# Random search of parameters, using 3 fold cross validation, \n",
    "# search across 100 different combinations, and use all available cores\n",
    "rf_random = RandomizedSearchCV(estimator = rf, param_distributions = random_grid, n_iter = 100, cv = 3, verbose=2, random_state=42, n_jobs = -1)# Fit the random search model\n",
    "rf_random.fit(x_train_2, y_train_2)"
   ]
  },
  {
   "cell_type": "markdown",
   "metadata": {},
   "source": [
    "It took approx. 3 hours to finish. And the nest combination of parameters is the following:"
   ]
  },
  {
   "cell_type": "code",
   "execution_count": 159,
   "metadata": {
    "scrolled": true
   },
   "outputs": [
    {
     "data": {
      "text/plain": [
       "{'n_estimators': 600,\n",
       " 'min_samples_split': 5,\n",
       " 'min_samples_leaf': 1,\n",
       " 'max_features': 'sqrt',\n",
       " 'max_depth': 60,\n",
       " 'bootstrap': False}"
      ]
     },
     "execution_count": 159,
     "metadata": {},
     "output_type": "execute_result"
    }
   ],
   "source": [
    "rf_random.best_params_"
   ]
  },
  {
   "cell_type": "markdown",
   "metadata": {},
   "source": [
    "We compare the performance of the basic model and the modified model with the best combination of parameters."
   ]
  },
  {
   "cell_type": "code",
   "execution_count": 167,
   "metadata": {},
   "outputs": [
    {
     "name": "stdout",
     "output_type": "stream",
     "text": [
      "Model Performance\n",
      "Bad classified: 495 objects.\n",
      "Accuracy = 68.47%.\n",
      "Model Performance\n",
      "Bad classified: 418 objects.\n",
      "Accuracy = 73.38%.\n",
      "Improvement of 7.16%.\n"
     ]
    }
   ],
   "source": [
    "def evaluate(model, test_features, test_labels):\n",
    "    predictions = model.predict(test_features)\n",
    "    errors = np.sum(predictions != test_labels)\n",
    "    mape = 100 * np.mean(errors / len(test_labels))\n",
    "    accuracy = 100 - mape\n",
    "    print('Model Performance')\n",
    "    print('Bad classified: {} objects.'.format(errors))\n",
    "    print('Accuracy = {:0.2f}%.'.format(accuracy))\n",
    "    \n",
    "    return accuracy\n",
    "\n",
    "base_model = RandomForestClassifier(n_estimators = 10, random_state = 42)\n",
    "base_model.fit(x_train_2, y_train_2)\n",
    "base_accuracy = evaluate(base_model, x_test_2, y_test_2)\n",
    "best_random = rf_random.best_estimator_\n",
    "random_accuracy = evaluate(best_random, x_test_2, y_test_2)\n",
    "print('Improvement of {:0.2f}%.'.format( 100 * (random_accuracy - base_accuracy) / base_accuracy))"
   ]
  },
  {
   "cell_type": "markdown",
   "metadata": {},
   "source": [
    "To observe the results for each class I do a confusion matrix. Each row represents a class and each column the percentage that was classified as each class. So, the number in the diagonals are the percentage of objects classified correctly. "
   ]
  },
  {
   "cell_type": "code",
   "execution_count": 201,
   "metadata": {
    "scrolled": false
   },
   "outputs": [
    {
     "data": {
      "text/plain": [
       "<AxesSubplot:>"
      ]
     },
     "execution_count": 201,
     "metadata": {},
     "output_type": "execute_result"
    },
    {
     "data": {
      "image/png": "[encoded data removed]",
      "text/plain": [
       "<Figure size 1080x504 with 2 Axes>"
      ]
     },
     "metadata": {
      "needs_background": "light"
     },
     "output_type": "display_data"
    }
   ],
   "source": [
    "from sklearn import metrics\n",
    "import matplotlib.pyplot as plt\n",
    "pred = best_random.predict(x_test_2)\n",
    "cm = metrics.confusion_matrix(y_test_2, pred)\n",
    "cm = cm / cm.sum(axis=1)\n",
    "df_cm = pd.DataFrame(cm, index = [i for i in classes],\n",
    "                  columns = [i for i in classes])\n",
    "plt.figure(figsize = (15,7))\n",
    "sns.heatmap(df_cm, annot=True, cmap=\"BuPu\")"
   ]
  },
  {
   "cell_type": "markdown",
   "metadata": {},
   "source": [
    "We can see that some classes are very well classfied, like target 90, 65 or 16. But there are some classes that were very poorly classified, like target 67 or 52."
   ]
  },
  {
   "cell_type": "markdown",
   "metadata": {},
   "source": [
    "The next plot was used in the presentation to sump up the accuracy results for each dataset and each method."
   ]
  },
  {
   "cell_type": "code",
   "execution_count": 247,
   "metadata": {},
   "outputs": [
    {
     "data": {
      "image/png": "[encoded data removed]",
      "text/plain": [
       "<Figure size 432x288 with 1 Axes>"
      ]
     },
     "metadata": {
      "needs_background": "light"
     },
     "output_type": "display_data"
    }
   ],
   "source": [
    "acc = pd.DataFrame()\n",
    "acc[\"dataset\"] = [1,1,1,2,2,2]\n",
    "acc[\"accuracy(%)\"] = [36, 49.3, 68.66, 30, 48.15, 71.97]\n",
    "acc[\"mètode\"] = [\"Fourier Neural Operator\", \"K-Neighbours\", \"Random Forest\", \"Fourier Neural Operator\", \"K-Neighbours\", \"Random Forest\"]\n",
    "sns.set_palette(sns.color_palette(\"hls\",8)[5:])\n",
    "b = sns.barplot(x=\"mètode\", y=\"accuracy(%)\", hue=\"dataset\", data=acc)\n",
    "b.set(ylim=(0, 100))\n",
    "b.legend(loc='upper left', title=\"dataset\")\n",
    "for i, bar in enumerate(b.patches[:3]):\n",
    "    h = bar.get_height()\n",
    "    b.text(\n",
    "        i-0.3, # bar index (x coordinate of text)\n",
    "        h+5, # y coordinate of text\n",
    "        '{}%'.format(h),  # y label\n",
    "        ha='left', \n",
    "        va='center')\n",
    "    h = b.patches[3+i].get_height()\n",
    "    b.text(\n",
    "        i+0.1, # bar index (x coordinate of text)\n",
    "        h+5, # y coordinate of text\n",
    "        '{}%'.format(h),  # y label\n",
    "        ha='left', \n",
    "        va='center')"
   ]
  },
  {
   "cell_type": "markdown",
   "metadata": {},
   "source": [
    "To conclude, I found pretty fun to use this dataset even though it gave me some hardships. I'm not very happy with the final accuracy because there are some classes that aren't well classified. And well, a downside of the methodology I used would be the execution time I needed for some steps: the feature extraction and the fine tuning took 4hours to finish, which I think is not efficient."
   ]
  }
 ],
 "metadata": {
  "kernelspec": {
   "display_name": "Python 3",
   "language": "python",
   "name": "python3"
  },
  "language_info": {
   "codemirror_mode": {
    "name": "ipython",
    "version": 3
   },
   "file_extension": ".py",
   "mimetype": "text/x-python",
   "name": "python",
   "nbconvert_exporter": "python",
   "pygments_lexer": "ipython3",
   "version": "3.7.1"
  }
 },
 "nbformat": 4,
 "nbformat_minor": 4
}
